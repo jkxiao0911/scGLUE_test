{
 "cells": [
  {
   "cell_type": "code",
   "execution_count": 1,
   "id": "68718835-2b6c-4d31-b42d-12181aea48e3",
   "metadata": {},
   "outputs": [
    {
     "name": "stderr",
     "output_type": "stream",
     "text": [
      "\n",
      "                                                   / |\n",
      "                                                 /    \\\n",
      "            .                                  /      |.\n",
      "            \\\\\\                              /        |.\n",
      "              \\\\\\                          /           `|.\n",
      "                \\\\\\                      /              |.\n",
      "                  \\                    /                |\\\n",
      "                  \\\\#####\\           /                  ||\n",
      "                ==###########>      /                   ||\n",
      "                 \\\\##==......\\    /                     ||\n",
      "            ______ =       =|__ /__                     ||      \\\\\\\n",
      "        ,--' ,----`-,__ ___/'  --,-`-===================##========>\n",
      "       \\               '        ##_______ _____ ,--,__,=##,__   ///\n",
      "        ,    __==    ___,-,__,--'#'  ==='      `-'    | ##,-/\n",
      "        -,____,---'       \\\\####\\\\________________,--\\\\_##,/\n",
      "           ___      .______        ______  __    __  .______      \n",
      "          /   \\     |   _  \\      /      ||  |  |  | |   _  \\     \n",
      "         /  ^  \\    |  |_)  |    |  ,----'|  |__|  | |  |_)  |    \n",
      "        /  /_\\  \\   |      /     |  |     |   __   | |      /     \n",
      "       /  _____  \\  |  |\\  \\\\___ |  `----.|  |  |  | |  |\\  \\\\___.\n",
      "      /__/     \\__\\ | _| `._____| \\______||__|  |__| | _| `._____|\n",
      "    \n",
      "\n",
      "ArchR : Version 1.0.2\n",
      "For more information see our website : www.ArchRProject.com\n",
      "If you encounter a bug please report : https://github.com/GreenleafLab/ArchR/issues\n",
      "\n",
      "Loading Required Packages...\n",
      "\n",
      "\tLoading Package : grid v4.3.1\n",
      "\n",
      "\tLoading Package : gridExtra v2.3\n",
      "\n",
      "\tLoading Package : gtools v3.9.4\n",
      "\n",
      "\tLoading Package : gtable v0.3.3\n",
      "\n",
      "\tLoading Package : ggplot2 v3.4.3\n",
      "\n",
      "\tLoading Package : magrittr v2.0.3\n",
      "\n",
      "\tLoading Package : plyr v1.8.8\n",
      "\n",
      "\tLoading Package : stringr v1.5.0\n",
      "\n",
      "\tLoading Package : data.table v1.14.8\n",
      "\n",
      "\tLoading Package : matrixStats v1.0.0\n",
      "\n",
      "\tLoading Package : S4Vectors v0.38.1\n",
      "\n",
      "\tLoading Package : GenomicRanges v1.52.0\n",
      "\n",
      "\tLoading Package : BiocGenerics v0.46.0\n",
      "\n",
      "\tLoading Package : Matrix v1.6.1\n",
      "\n",
      "\tLoading Package : Rcpp v1.0.11\n",
      "\n",
      "\tLoading Package : SummarizedExperiment v1.30.2\n",
      "\n",
      "\tLoading Package : rhdf5 v2.44.0\n",
      "\n"
     ]
    }
   ],
   "source": [
    "library(ArchR)"
   ]
  },
  {
   "cell_type": "code",
   "execution_count": 2,
   "id": "585d9811-04c6-472e-b50f-b92ccd4dacdc",
   "metadata": {},
   "outputs": [
    {
     "name": "stderr",
     "output_type": "stream",
     "text": [
      "Setting default number of Parallel threads to 48.\n",
      "\n"
     ]
    }
   ],
   "source": [
    "addArchRThreads(threads = 48)"
   ]
  },
  {
   "cell_type": "code",
   "execution_count": 3,
   "id": "2069c324-5e9a-47dc-8600-520a95a21676",
   "metadata": {},
   "outputs": [
    {
     "name": "stderr",
     "output_type": "stream",
     "text": [
      "Setting default genome to Mm10.\n",
      "\n"
     ]
    }
   ],
   "source": [
    "addArchRGenome(\"mm10\")"
   ]
  },
  {
   "cell_type": "code",
   "execution_count": 4,
   "id": "1e420339-35e7-4ae4-9466-250034c27ff4",
   "metadata": {},
   "outputs": [
    {
     "data": {
      "text/html": [
       "TRUE"
      ],
      "text/latex": [
       "TRUE"
      ],
      "text/markdown": [
       "TRUE"
      ],
      "text/plain": [
       "[1] TRUE"
      ]
     },
     "metadata": {},
     "output_type": "display_data"
    }
   ],
   "source": [
    "file.exists(\"/mnt/disk1/xiaojk/data/mouse/Mouse_embryo_E10.5_1.fragments.tsv.gz\")"
   ]
  },
  {
   "cell_type": "code",
   "execution_count": 5,
   "id": "97f18e8a-720e-4d7d-a1b6-1047e26e0c5c",
   "metadata": {},
   "outputs": [
    {
     "name": "stderr",
     "output_type": "stream",
     "text": [
      "filterFrags is no longer a valid input. Please use minFrags! Setting filterFrags value to minFrags!\n",
      "\n",
      "filterTSS is no longer a valid input. Please use minTSS! Setting filterTSS value to minTSS!\n",
      "\n",
      "Using GeneAnnotation set by addArchRGenome(Mm10)!\n",
      "\n",
      "Using GeneAnnotation set by addArchRGenome(Mm10)!\n",
      "\n",
      "ArchR logging to : ArchRLogs/ArchR-createArrows-20126a7fee3fc0-Date-2023-08-31_Time-21-15-04.68746.log\n",
      "If there is an issue, please report to github with logFile!\n",
      "\n",
      "Cleaning Temporary Files\n",
      "\n",
      "2023-08-31 21:15:04.922628 : Batch Execution w/ safelapply!, 0 mins elapsed.\n",
      "\n",
      "ArchR logging successful to : ArchRLogs/ArchR-createArrows-20126a7fee3fc0-Date-2023-08-31_Time-21-15-04.68746.log\n",
      "\n"
     ]
    }
   ],
   "source": [
    "# 构建包含所有文件路径的向量\n",
    "file_names <- sprintf(\"/mnt/disk1/xiaojk/data/mouse/Mouse_embryo_E10.5_%d.fragments.tsv.gz\", 1:5)\n",
    "\n",
    "# 构建与文件数量相匹配的样本名向量\n",
    "sample_names <- sprintf(\"Mouse_embryo_E10.5_%d.fragments\", 1:5)\n",
    "\n",
    "# 调用 createArrowFiles 函数\n",
    "ArrowFiles <- createArrowFiles(\n",
    "  inputFiles = file_names,\n",
    "  sampleNames = sample_names,\n",
    "  filterTSS = 4,\n",
    "  filterFrags = 1000,\n",
    "  addTileMat = TRUE,\n",
    "  addGeneScoreMat = TRUE\n",
    ")"
   ]
  },
  {
   "cell_type": "code",
   "execution_count": 6,
   "id": "0be60399-b657-4790-8eae-17768f048389",
   "metadata": {},
   "outputs": [
    {
     "data": {
      "text/html": [
       "<style>\n",
       ".list-inline {list-style: none; margin:0; padding: 0}\n",
       ".list-inline>li {display: inline-block}\n",
       ".list-inline>li:not(:last-child)::after {content: \"\\00b7\"; padding: 0 .5ex}\n",
       "</style>\n",
       "<ol class=list-inline><li>'Mouse_embryo_E9.5_1.fragments.arrow'</li><li>'Mouse_embryo_E9.5_2.fragments.arrow'</li><li>'Mouse_embryo_E9.5_4.fragments.arrow'</li><li>'Mouse_embryo_E9.5_5.fragments.arrow'</li><li>'Mouse_embryo_E9.5_3.fragments.arrow'</li></ol>\n"
      ],
      "text/latex": [
       "\\begin{enumerate*}\n",
       "\\item 'Mouse\\_embryo\\_E9.5\\_1.fragments.arrow'\n",
       "\\item 'Mouse\\_embryo\\_E9.5\\_2.fragments.arrow'\n",
       "\\item 'Mouse\\_embryo\\_E9.5\\_4.fragments.arrow'\n",
       "\\item 'Mouse\\_embryo\\_E9.5\\_5.fragments.arrow'\n",
       "\\item 'Mouse\\_embryo\\_E9.5\\_3.fragments.arrow'\n",
       "\\end{enumerate*}\n"
      ],
      "text/markdown": [
       "1. 'Mouse_embryo_E9.5_1.fragments.arrow'\n",
       "2. 'Mouse_embryo_E9.5_2.fragments.arrow'\n",
       "3. 'Mouse_embryo_E9.5_4.fragments.arrow'\n",
       "4. 'Mouse_embryo_E9.5_5.fragments.arrow'\n",
       "5. 'Mouse_embryo_E9.5_3.fragments.arrow'\n",
       "\n",
       "\n"
      ],
      "text/plain": [
       "[1] \"Mouse_embryo_E9.5_1.fragments.arrow\" \"Mouse_embryo_E9.5_2.fragments.arrow\"\n",
       "[3] \"Mouse_embryo_E9.5_4.fragments.arrow\" \"Mouse_embryo_E9.5_5.fragments.arrow\"\n",
       "[5] \"Mouse_embryo_E9.5_3.fragments.arrow\""
      ]
     },
     "metadata": {},
     "output_type": "display_data"
    }
   ],
   "source": [
    "ArrowFiles"
   ]
  },
  {
   "cell_type": "code",
   "execution_count": 7,
   "id": "b94799a1-815d-41cd-a647-2483632cbf26",
   "metadata": {},
   "outputs": [
    {
     "name": "stderr",
     "output_type": "stream",
     "text": [
      "Using GeneAnnotation set by addArchRGenome(Mm10)!\n",
      "\n",
      "Using GeneAnnotation set by addArchRGenome(Mm10)!\n",
      "\n",
      "Validating Arrows...\n",
      "\n",
      "Getting SampleNames...\n",
      "\n",
      "\n",
      "\n",
      "Copying ArrowFiles to Ouptut Directory! If you want to save disk space set copyArrows = FALSE\n",
      "\n",
      "1 \n",
      "2 \n",
      "3 \n",
      "4 \n",
      "5 \n",
      "\n",
      "\n",
      "Getting Cell Metadata...\n",
      "\n",
      "\n",
      "\n",
      "Merging Cell Metadata...\n",
      "\n",
      "Initializing ArchRProject...\n",
      "\n",
      "\n",
      "                                                   / |\n",
      "                                                 /    \\\n",
      "            .                                  /      |.\n",
      "            \\\\\\                              /        |.\n",
      "              \\\\\\                          /           `|.\n",
      "                \\\\\\                      /              |.\n",
      "                  \\                    /                |\\\n",
      "                  \\\\#####\\           /                  ||\n",
      "                ==###########>      /                   ||\n",
      "                 \\\\##==......\\    /                     ||\n",
      "            ______ =       =|__ /__                     ||      \\\\\\\n",
      "        ,--' ,----`-,__ ___/'  --,-`-===================##========>\n",
      "       \\               '        ##_______ _____ ,--,__,=##,__   ///\n",
      "        ,    __==    ___,-,__,--'#'  ==='      `-'    | ##,-/\n",
      "        -,____,---'       \\\\####\\\\________________,--\\\\_##,/\n",
      "           ___      .______        ______  __    __  .______      \n",
      "          /   \\     |   _  \\      /      ||  |  |  | |   _  \\     \n",
      "         /  ^  \\    |  |_)  |    |  ,----'|  |__|  | |  |_)  |    \n",
      "        /  /_\\  \\   |      /     |  |     |   __   | |      /     \n",
      "       /  _____  \\  |  |\\  \\\\___ |  `----.|  |  |  | |  |\\  \\\\___.\n",
      "      /__/     \\__\\ | _| `._____| \\______||__|  |__| | _| `._____|\n",
      "    \n",
      "\n"
     ]
    }
   ],
   "source": [
    "projDLPFC1 <- ArchRProject(\n",
    "  ArrowFiles = ArrowFiles,\n",
    "  outputDirectory = \"/mnt/disk1/xiaojk/data/mouse/\",\n",
    "  copyArrows = TRUE #This is recommened so that if you modify the Arrow files you have an original copy for later usage.\n",
    ")"
   ]
  },
  {
   "cell_type": "code",
   "execution_count": 8,
   "id": "9cf81d43-2c01-47f6-a7a2-e413fe38085d",
   "metadata": {},
   "outputs": [
    {
     "name": "stderr",
     "output_type": "stream",
     "text": [
      "\n",
      "           ___      .______        ______  __    __  .______      \n",
      "          /   \\     |   _  \\      /      ||  |  |  | |   _  \\     \n",
      "         /  ^  \\    |  |_)  |    |  ,----'|  |__|  | |  |_)  |    \n",
      "        /  /_\\  \\   |      /     |  |     |   __   | |      /     \n",
      "       /  _____  \\  |  |\\  \\\\___ |  `----.|  |  |  | |  |\\  \\\\___.\n",
      "      /__/     \\__\\ | _| `._____| \\______||__|  |__| | _| `._____|\n",
      "    \n",
      "\n"
     ]
    },
    {
     "data": {
      "text/plain": [
       "class: ArchRProject \n",
       "outputDirectory: /mnt/disk1/xiaojk/data/mouse \n",
       "samples(5): Mouse_embryo_E9.5_1.fragments Mouse_embryo_E9.5_2.fragments\n",
       "  Mouse_embryo_E9.5_4.fragments Mouse_embryo_E9.5_5.fragments\n",
       "  Mouse_embryo_E9.5_3.fragments\n",
       "sampleColData names(1): ArrowFiles\n",
       "cellColData names(13): Sample TSSEnrichment ... nDiFrags BlacklistRatio\n",
       "numberOfCells(1): 19480\n",
       "medianTSS(1): 13.508\n",
       "medianFrags(1): 16133"
      ]
     },
     "metadata": {},
     "output_type": "display_data"
    }
   ],
   "source": [
    "projDLPFC1"
   ]
  },
  {
   "cell_type": "code",
   "execution_count": 9,
   "id": "1ac0e813-eb32-4f2b-9f70-d06807707360",
   "metadata": {},
   "outputs": [
    {
     "data": {
      "text/html": [
       "'Memory Size = 33.072 MB'"
      ],
      "text/latex": [
       "'Memory Size = 33.072 MB'"
      ],
      "text/markdown": [
       "'Memory Size = 33.072 MB'"
      ],
      "text/plain": [
       "[1] \"Memory Size = 33.072 MB\""
      ]
     },
     "metadata": {},
     "output_type": "display_data"
    },
    {
     "data": {
      "text/html": [
       "<style>\n",
       ".list-inline {list-style: none; margin:0; padding: 0}\n",
       ".list-inline>li {display: inline-block}\n",
       ".list-inline>li:not(:last-child)::after {content: \"\\00b7\"; padding: 0 .5ex}\n",
       "</style>\n",
       "<ol class=list-inline><li>'GeneScoreMatrix'</li><li>'TileMatrix'</li></ol>\n"
      ],
      "text/latex": [
       "\\begin{enumerate*}\n",
       "\\item 'GeneScoreMatrix'\n",
       "\\item 'TileMatrix'\n",
       "\\end{enumerate*}\n"
      ],
      "text/markdown": [
       "1. 'GeneScoreMatrix'\n",
       "2. 'TileMatrix'\n",
       "\n",
       "\n"
      ],
      "text/plain": [
       "[1] \"GeneScoreMatrix\" \"TileMatrix\"     "
      ]
     },
     "metadata": {},
     "output_type": "display_data"
    }
   ],
   "source": [
    "paste0(\"Memory Size = \", round(object.size(projDLPFC1) / 10^6, 3), \" MB\")\n",
    "getAvailableMatrices(projDLPFC1)"
   ]
  },
  {
   "cell_type": "code",
   "execution_count": 10,
   "id": "0c5575c3-bb3c-4651-9eec-c9819595c2e2",
   "metadata": {},
   "outputs": [
    {
     "name": "stderr",
     "output_type": "stream",
     "text": [
      "Checking Inputs...\n",
      "\n",
      "ArchR logging to : ArchRLogs/ArchR-addIterativeLSI-20126a696451aa-Date-2023-08-31_Time-21-25-31.476551.log\n",
      "If there is an issue, please report to github with logFile!\n",
      "\n",
      "2023-08-31 21:25:31.852013 : Computing Total Across All Features, 0.004 mins elapsed.\n",
      "\n",
      "2023-08-31 21:25:37.359138 : Computing Top Features, 0.095 mins elapsed.\n",
      "\n",
      "###########\n",
      "2023-08-31 21:25:38.702707 : Running LSI (1 of 2) on Top Features, 0.118 mins elapsed.\n",
      "###########\n",
      "\n",
      "2023-08-31 21:25:38.817734 : Sampling Cells (N = 10003) for Estimated LSI, 0.12 mins elapsed.\n",
      "\n",
      "2023-08-31 21:25:38.820327 : Creating Sampled Partial Matrix, 0.12 mins elapsed.\n",
      "\n",
      "2023-08-31 21:25:55.276408 : Computing Estimated LSI (projectAll = FALSE), 0.394 mins elapsed.\n",
      "\n",
      "2023-08-31 21:26:20.96684 : Identifying Clusters, 0.822 mins elapsed.\n",
      "\n",
      "2023-08-31 21:26:40.543257 : Identified 10 Clusters, 1.148 mins elapsed.\n",
      "\n",
      "2023-08-31 21:26:40.564129 : Saving LSI Iteration, 1.149 mins elapsed.\n",
      "\n",
      "2023-08-31 21:26:58.397496 : Creating Cluster Matrix on the total Group Features, 1.446 mins elapsed.\n",
      "\n",
      "2023-08-31 21:27:13.150531 : Computing Variable Features, 1.692 mins elapsed.\n",
      "\n",
      "###########\n",
      "2023-08-31 21:27:13.503337 : Running LSI (2 of 2) on Variable Features, 1.698 mins elapsed.\n",
      "###########\n",
      "\n",
      "2023-08-31 21:27:13.529308 : Creating Partial Matrix, 1.698 mins elapsed.\n",
      "\n",
      "2023-08-31 21:27:39.17834 : Computing LSI, 2.126 mins elapsed.\n",
      "\n",
      "2023-08-31 21:28:11.298672 : Finished Running IterativeLSI, 2.661 mins elapsed.\n",
      "\n"
     ]
    }
   ],
   "source": [
    "projDLPFC1 <- addIterativeLSI(\n",
    "    ArchRProj = projDLPFC1,\n",
    "    useMatrix = \"TileMatrix\", \n",
    "    name = \"IterativeLSI\", \n",
    "    iterations = 2, \n",
    "    clusterParams = list( #See Seurat::FindClusters\n",
    "        resolution = c(0.2), \n",
    "        sampleCells = 10000, \n",
    "        n.start = 10\n",
    "    ), \n",
    "    varFeatures = 25000, \n",
    "    dimsToUse = 1:30\n",
    ")"
   ]
  },
  {
   "cell_type": "code",
   "execution_count": 11,
   "id": "9e62f8cf-75fc-4dc2-a44d-e6f6cbaf033d",
   "metadata": {},
   "outputs": [
    {
     "name": "stderr",
     "output_type": "stream",
     "text": [
      "ArchR logging to : ArchRLogs/ArchR-addClusters-20126a4d376922-Date-2023-08-31_Time-21-28-11.32449.log\n",
      "If there is an issue, please report to github with logFile!\n",
      "\n",
      "2023-08-31 21:28:11.522883 : Running Seurats FindClusters (Stuart et al. Cell 2019), 0.002 mins elapsed.\n",
      "\n",
      "Computing nearest neighbor graph\n",
      "\n",
      "Computing SNN\n",
      "\n"
     ]
    },
    {
     "name": "stdout",
     "output_type": "stream",
     "text": [
      "Modularity Optimizer version 1.3.0 by Ludo Waltman and Nees Jan van Eck\n",
      "\n",
      "Number of nodes: 19480\n",
      "Number of edges: 665619\n",
      "\n",
      "Running Louvain algorithm...\n",
      "Maximum modularity in 10 random starts: 0.9106\n",
      "Number of communities: 29\n",
      "Elapsed time: 2 seconds\n"
     ]
    },
    {
     "name": "stderr",
     "output_type": "stream",
     "text": [
      "2023-08-31 21:28:35.402886 : Testing Biased Clusters, 0.4 mins elapsed.\n",
      "\n",
      "2023-08-31 21:28:35.648282 : Testing Outlier Clusters, 0.404 mins elapsed.\n",
      "\n",
      "2023-08-31 21:28:35.653366 : Identified more clusters than maxClusters allowed (n = 0). Merging clusters to maxClusters (n = 25).\n",
      "If this is not desired set maxClusters = NULL!, 0.404 mins elapsed.\n",
      "\n",
      "2023-08-31 21:28:35.683929 : Assigning Cluster Names to 25 Clusters, 0.405 mins elapsed.\n",
      "\n",
      "2023-08-31 21:28:35.807255 : Finished addClusters, 0.407 mins elapsed.\n",
      "\n"
     ]
    }
   ],
   "source": [
    "projDLPFC1 <- addClusters(\n",
    "    input = projDLPFC1,\n",
    "    reducedDims = \"IterativeLSI\",\n",
    "    method = \"Seurat\",\n",
    "    name = \"Clusters\",\n",
    "    resolution = 0.8\n",
    ")"
   ]
  },
  {
   "cell_type": "code",
   "execution_count": 12,
   "id": "5dfa3d92-6012-4160-8a23-8900c7a3f8a5",
   "metadata": {},
   "outputs": [
    {
     "data": {
      "text/html": [
       "<style>\n",
       ".list-inline {list-style: none; margin:0; padding: 0}\n",
       ".list-inline>li {display: inline-block}\n",
       ".list-inline>li:not(:last-child)::after {content: \"\\00b7\"; padding: 0 .5ex}\n",
       "</style>\n",
       "<ol class=list-inline><li>'C18'</li><li>'C14'</li><li>'C16'</li><li>'C22'</li><li>'C12'</li><li>'C19'</li></ol>\n"
      ],
      "text/latex": [
       "\\begin{enumerate*}\n",
       "\\item 'C18'\n",
       "\\item 'C14'\n",
       "\\item 'C16'\n",
       "\\item 'C22'\n",
       "\\item 'C12'\n",
       "\\item 'C19'\n",
       "\\end{enumerate*}\n"
      ],
      "text/markdown": [
       "1. 'C18'\n",
       "2. 'C14'\n",
       "3. 'C16'\n",
       "4. 'C22'\n",
       "5. 'C12'\n",
       "6. 'C19'\n",
       "\n",
       "\n"
      ],
      "text/plain": [
       "[1] \"C18\" \"C14\" \"C16\" \"C22\" \"C12\" \"C19\""
      ]
     },
     "metadata": {},
     "output_type": "display_data"
    },
    {
     "data": {
      "text/plain": [
       "\n",
       "  C1  C10  C11  C12  C13  C14  C15  C16  C17  C18  C19   C2  C20  C21  C22  C23 \n",
       " 198  282  102 2378 1758 1332  359 1287 1284  693 1466 2083  161 1679  978  176 \n",
       " C24  C25   C3   C4   C5   C6   C7   C8   C9 \n",
       "  87   88  579  946  423   98  292  241  510 "
      ]
     },
     "metadata": {},
     "output_type": "display_data"
    }
   ],
   "source": [
    "head(projDLPFC1$Clusters)\n",
    "table(projDLPFC1$Clusters)"
   ]
  },
  {
   "cell_type": "code",
   "execution_count": 13,
   "id": "e594962c-3c78-4427-958e-24837a624900",
   "metadata": {},
   "outputs": [
    {
     "name": "stderr",
     "output_type": "stream",
     "text": [
      "ArchR logging to : ArchRLogs/ArchR-addGroupCoverages-20126a1caf369a-Date-2023-08-31_Time-21-28-35.854248.log\n",
      "If there is an issue, please report to github with logFile!\n",
      "\n",
      "C1 (1 of 25) : CellGroups N = 4\n",
      "\n",
      "C2 (2 of 25) : CellGroups N = 5\n",
      "\n",
      "C3 (3 of 25) : CellGroups N = 5\n",
      "\n",
      "C4 (4 of 25) : CellGroups N = 5\n",
      "\n",
      "C5 (5 of 25) : CellGroups N = 5\n",
      "\n",
      "C6 (6 of 25) : CellGroups N = 2\n",
      "\n",
      "C7 (7 of 25) : CellGroups N = 5\n",
      "\n",
      "C8 (8 of 25) : CellGroups N = 4\n",
      "\n",
      "C9 (9 of 25) : CellGroups N = 5\n",
      "\n",
      "C10 (10 of 25) : CellGroups N = 5\n",
      "\n",
      "C11 (11 of 25) : CellGroups N = 2\n",
      "\n",
      "C12 (12 of 25) : CellGroups N = 5\n",
      "\n",
      "C13 (13 of 25) : CellGroups N = 5\n",
      "\n",
      "C14 (14 of 25) : CellGroups N = 5\n",
      "\n",
      "C15 (15 of 25) : CellGroups N = 4\n",
      "\n",
      "C16 (16 of 25) : CellGroups N = 5\n",
      "\n",
      "C17 (17 of 25) : CellGroups N = 5\n",
      "\n",
      "C18 (18 of 25) : CellGroups N = 5\n",
      "\n",
      "C19 (19 of 25) : CellGroups N = 5\n",
      "\n",
      "C20 (20 of 25) : CellGroups N = 2\n",
      "\n",
      "C21 (21 of 25) : CellGroups N = 5\n",
      "\n",
      "C22 (22 of 25) : CellGroups N = 5\n",
      "\n",
      "C23 (23 of 25) : CellGroups N = 2\n",
      "\n",
      "C24 (24 of 25) : CellGroups N = 2\n",
      "\n",
      "C25 (25 of 25) : CellGroups N = 2\n",
      "\n",
      "2023-08-31 21:28:39.993626 : Creating Coverage Files!, 0.069 mins elapsed.\n",
      "\n",
      "2023-08-31 21:28:39.997637 : Batch Execution w/ safelapply!, 0.069 mins elapsed.\n",
      "\n",
      "2023-08-31 21:31:25.556053 : Adding Kmer Bias to Coverage Files!, 2.828 mins elapsed.\n",
      "\n",
      "Completed Kmer Bias Calculation\n",
      "\n",
      "Adding Kmer Bias (1 of 104)\n",
      "\n",
      "Adding Kmer Bias (2 of 104)\n",
      "\n",
      "Adding Kmer Bias (3 of 104)\n",
      "\n",
      "Adding Kmer Bias (4 of 104)\n",
      "\n",
      "Adding Kmer Bias (5 of 104)\n",
      "\n",
      "Adding Kmer Bias (6 of 104)\n",
      "\n",
      "Adding Kmer Bias (7 of 104)\n",
      "\n",
      "Adding Kmer Bias (8 of 104)\n",
      "\n",
      "Adding Kmer Bias (9 of 104)\n",
      "\n",
      "Adding Kmer Bias (10 of 104)\n",
      "\n",
      "Adding Kmer Bias (11 of 104)\n",
      "\n",
      "Adding Kmer Bias (12 of 104)\n",
      "\n",
      "Adding Kmer Bias (13 of 104)\n",
      "\n",
      "Adding Kmer Bias (14 of 104)\n",
      "\n",
      "Adding Kmer Bias (15 of 104)\n",
      "\n",
      "Adding Kmer Bias (16 of 104)\n",
      "\n",
      "Adding Kmer Bias (17 of 104)\n",
      "\n",
      "Adding Kmer Bias (18 of 104)\n",
      "\n",
      "Adding Kmer Bias (19 of 104)\n",
      "\n",
      "Adding Kmer Bias (20 of 104)\n",
      "\n",
      "Adding Kmer Bias (21 of 104)\n",
      "\n",
      "Adding Kmer Bias (22 of 104)\n",
      "\n",
      "Adding Kmer Bias (23 of 104)\n",
      "\n",
      "Adding Kmer Bias (24 of 104)\n",
      "\n",
      "Adding Kmer Bias (25 of 104)\n",
      "\n",
      "Adding Kmer Bias (26 of 104)\n",
      "\n",
      "Adding Kmer Bias (27 of 104)\n",
      "\n",
      "Adding Kmer Bias (28 of 104)\n",
      "\n",
      "Adding Kmer Bias (29 of 104)\n",
      "\n",
      "Adding Kmer Bias (30 of 104)\n",
      "\n",
      "Adding Kmer Bias (31 of 104)\n",
      "\n",
      "Adding Kmer Bias (32 of 104)\n",
      "\n",
      "Adding Kmer Bias (33 of 104)\n",
      "\n",
      "Adding Kmer Bias (34 of 104)\n",
      "\n",
      "Adding Kmer Bias (35 of 104)\n",
      "\n",
      "Adding Kmer Bias (36 of 104)\n",
      "\n",
      "Adding Kmer Bias (37 of 104)\n",
      "\n",
      "Adding Kmer Bias (38 of 104)\n",
      "\n",
      "Adding Kmer Bias (39 of 104)\n",
      "\n",
      "Adding Kmer Bias (40 of 104)\n",
      "\n",
      "Adding Kmer Bias (41 of 104)\n",
      "\n",
      "Adding Kmer Bias (42 of 104)\n",
      "\n",
      "Adding Kmer Bias (43 of 104)\n",
      "\n",
      "Adding Kmer Bias (44 of 104)\n",
      "\n",
      "Adding Kmer Bias (45 of 104)\n",
      "\n",
      "Adding Kmer Bias (46 of 104)\n",
      "\n",
      "Adding Kmer Bias (47 of 104)\n",
      "\n",
      "Adding Kmer Bias (48 of 104)\n",
      "\n",
      "Adding Kmer Bias (49 of 104)\n",
      "\n",
      "Adding Kmer Bias (50 of 104)\n",
      "\n",
      "Adding Kmer Bias (51 of 104)\n",
      "\n",
      "Adding Kmer Bias (52 of 104)\n",
      "\n",
      "Adding Kmer Bias (53 of 104)\n",
      "\n",
      "Adding Kmer Bias (54 of 104)\n",
      "\n",
      "Adding Kmer Bias (55 of 104)\n",
      "\n",
      "Adding Kmer Bias (56 of 104)\n",
      "\n",
      "Adding Kmer Bias (57 of 104)\n",
      "\n",
      "Adding Kmer Bias (58 of 104)\n",
      "\n",
      "Adding Kmer Bias (59 of 104)\n",
      "\n",
      "Adding Kmer Bias (60 of 104)\n",
      "\n",
      "Adding Kmer Bias (61 of 104)\n",
      "\n",
      "Adding Kmer Bias (62 of 104)\n",
      "\n",
      "Adding Kmer Bias (63 of 104)\n",
      "\n",
      "Adding Kmer Bias (64 of 104)\n",
      "\n",
      "Adding Kmer Bias (65 of 104)\n",
      "\n",
      "Adding Kmer Bias (66 of 104)\n",
      "\n",
      "Adding Kmer Bias (67 of 104)\n",
      "\n",
      "Adding Kmer Bias (68 of 104)\n",
      "\n",
      "Adding Kmer Bias (69 of 104)\n",
      "\n",
      "Adding Kmer Bias (70 of 104)\n",
      "\n",
      "Adding Kmer Bias (71 of 104)\n",
      "\n",
      "Adding Kmer Bias (72 of 104)\n",
      "\n",
      "Adding Kmer Bias (73 of 104)\n",
      "\n",
      "Adding Kmer Bias (74 of 104)\n",
      "\n",
      "Adding Kmer Bias (75 of 104)\n",
      "\n",
      "Adding Kmer Bias (76 of 104)\n",
      "\n",
      "Adding Kmer Bias (77 of 104)\n",
      "\n",
      "Adding Kmer Bias (78 of 104)\n",
      "\n",
      "Adding Kmer Bias (79 of 104)\n",
      "\n",
      "Adding Kmer Bias (80 of 104)\n",
      "\n",
      "Adding Kmer Bias (81 of 104)\n",
      "\n",
      "Adding Kmer Bias (82 of 104)\n",
      "\n",
      "Adding Kmer Bias (83 of 104)\n",
      "\n",
      "Adding Kmer Bias (84 of 104)\n",
      "\n",
      "Adding Kmer Bias (85 of 104)\n",
      "\n",
      "Adding Kmer Bias (86 of 104)\n",
      "\n",
      "Adding Kmer Bias (87 of 104)\n",
      "\n",
      "Adding Kmer Bias (88 of 104)\n",
      "\n",
      "Adding Kmer Bias (89 of 104)\n",
      "\n",
      "Adding Kmer Bias (90 of 104)\n",
      "\n",
      "Adding Kmer Bias (91 of 104)\n",
      "\n",
      "Adding Kmer Bias (92 of 104)\n",
      "\n",
      "Adding Kmer Bias (93 of 104)\n",
      "\n",
      "Adding Kmer Bias (94 of 104)\n",
      "\n",
      "Adding Kmer Bias (95 of 104)\n",
      "\n",
      "Adding Kmer Bias (96 of 104)\n",
      "\n",
      "Adding Kmer Bias (97 of 104)\n",
      "\n",
      "Adding Kmer Bias (98 of 104)\n",
      "\n",
      "Adding Kmer Bias (99 of 104)\n",
      "\n",
      "Adding Kmer Bias (100 of 104)\n",
      "\n",
      "Adding Kmer Bias (101 of 104)\n",
      "\n",
      "Adding Kmer Bias (102 of 104)\n",
      "\n",
      "Adding Kmer Bias (103 of 104)\n",
      "\n",
      "Adding Kmer Bias (104 of 104)\n",
      "\n",
      "2023-08-31 21:34:18.99714 : Finished Creation of Coverage Files!, 5.719 mins elapsed.\n",
      "\n",
      "ArchR logging successful to : ArchRLogs/ArchR-addGroupCoverages-20126a1caf369a-Date-2023-08-31_Time-21-28-35.854248.log\n",
      "\n"
     ]
    }
   ],
   "source": [
    "projDLPFC1 <- addGroupCoverages(ArchRProj = projDLPFC1, groupBy = \"Clusters\")"
   ]
  },
  {
   "cell_type": "code",
   "execution_count": 14,
   "id": "750a82a8-087c-40af-9b3d-dadc4b037608",
   "metadata": {},
   "outputs": [
    {
     "name": "stderr",
     "output_type": "stream",
     "text": [
      "ArchR logging to : ArchRLogs/ArchR-addReproduciblePeakSet-20126a7fe22810-Date-2023-08-31_Time-21-34-19.320251.log\n",
      "If there is an issue, please report to github with logFile!\n",
      "\n",
      "Calling Peaks with Macs2\n",
      "\n",
      "2023-08-31 21:34:19.571676 : Peak Calling Parameters!, 0.004 mins elapsed.\n",
      "\n"
     ]
    },
    {
     "name": "stdout",
     "output_type": "stream",
     "text": [
      "    Group nCells nCellsUsed nReplicates nMin nMax maxPeaks\n",
      "C1     C1    198        198           4   44   60    99000\n",
      "C2     C2   2083       2074           5  324  500   150000\n",
      "C3     C3    579        579           5   91  154   150000\n",
      "C4     C4    946        946           5  136  225   150000\n",
      "C5     C5    423        423           5   68  101   150000\n",
      "C6     C6     98         98           2   49   49    49000\n",
      "C7     C7    292        292           5   41   68   146000\n",
      "C8     C8    241        203           4   45   55   101500\n",
      "C9     C9    510        510           5   70  120   150000\n",
      "C10   C10    282        282           5   47   70   141000\n",
      "C11   C11    102        102           2   51   51    51000\n",
      "C12   C12   2378       2285           5  303  500   150000\n",
      "C13   C13   1758       1758           5  290  426   150000\n",
      "C14   C14   1332       1332           5  193  302   150000\n",
      "C15   C15    359        323           4   41  167   150000\n",
      "C16   C16   1287       1287           5  179  310   150000\n",
      "C17   C17   1284       1284           5  167  321   150000\n",
      "C18   C18    693        693           5  101  159   150000\n",
      "C19   C19   1466       1466           5  210  356   150000\n",
      "C20   C20    161        161           2   47  114    80500\n",
      "C21   C21   1679       1679           5  260  375   150000\n",
      "C22   C22    978        978           5  157  223   150000\n",
      "C23   C23    176        176           2   45  131    88000\n",
      "C24   C24     87         87           2   43   44    43500\n",
      "C25   C25     88         88           2   44   44    44000\n"
     ]
    },
    {
     "name": "stderr",
     "output_type": "stream",
     "text": [
      "2023-08-31 21:34:19.581336 : Batching Peak Calls!, 0.004 mins elapsed.\n",
      "\n",
      "2023-08-31 21:34:19.588272 : Batch Execution w/ safelapply!, 0 mins elapsed.\n",
      "\n",
      "2023-08-31 21:40:17.13768 : Identifying Reproducible Peaks!, 5.964 mins elapsed.\n",
      "\n",
      "2023-08-31 21:40:33.065193 : Creating Union Peak Set!, 6.229 mins elapsed.\n",
      "\n",
      "Converged after 9 iterations!\n",
      "\n",
      "Plotting Ggplot!\n",
      "\n",
      "2023-08-31 21:40:51.846023 : Finished Creating Union Peak Set (557932)!, 6.542 mins elapsed.\n",
      "\n"
     ]
    }
   ],
   "source": [
    "pathToMacs2 <- \"/mnt/disk1/xiaojk/anaconda/envs/ArchR/bin/macs2\"\n",
    "projDLPFC1 <- addReproduciblePeakSet(\n",
    "    ArchRProj = projDLPFC1, \n",
    "    groupBy = \"Clusters\", \n",
    "    pathToMacs2 = pathToMacs2\n",
    ")"
   ]
  },
  {
   "cell_type": "code",
   "execution_count": 15,
   "id": "023ae1c1-6304-45b9-9dca-5f246a3f30e3",
   "metadata": {},
   "outputs": [
    {
     "data": {
      "text/plain": [
       "GRanges object with 557932 ranges and 13 metadata columns:\n",
       "      seqnames              ranges strand |     score replicateScoreQuantile\n",
       "         <Rle>           <IRanges>  <Rle> | <numeric>              <numeric>\n",
       "   C2     chr1     3005644-3006144      * |   5.27531                  0.350\n",
       "   C7     chr1     3046271-3046771      * |   3.84359                  0.601\n",
       "  C19     chr1     3071742-3072242      * |  36.64080                  0.828\n",
       "  C17     chr1     3087271-3087771      * |   7.60900                  0.486\n",
       "   C3     chr1     3094726-3095226      * |  14.65440                  0.808\n",
       "  ...      ...                 ...    ... .       ...                    ...\n",
       "  C22     chrX 169936727-169937227      * |  26.34570                  0.811\n",
       "   C6     chrX 169949351-169949851      * |  15.28710                  0.905\n",
       "   C6     chrX 169951024-169951524      * |  10.00790                  0.845\n",
       "   C9     chrX 169955888-169956388      * |   2.13390                  0.209\n",
       "   C8     chrX 169956784-169957284      * |   8.55302                  0.796\n",
       "      groupScoreQuantile Reproducibility         GroupReplicate distToGeneStart\n",
       "               <numeric>       <numeric>            <character>       <integer>\n",
       "   C2              0.201               4 C2._.Mouse_embryo_E9..          665603\n",
       "   C7              0.384               2 C7._.Mouse_embryo_E9..          624976\n",
       "  C19              0.785               5 C19._.Mouse_embryo_E..          599505\n",
       "  C17              0.312               2 C17._.Mouse_embryo_E..          583976\n",
       "   C3              0.702               5 C3._.Mouse_embryo_E9..          576521\n",
       "  ...                ...             ...                    ...             ...\n",
       "  C22              0.743               5 C22._.Mouse_embryo_E..          157341\n",
       "   C6              0.687               2              C6._.Rep2          169965\n",
       "   C6              0.542               2              C6._.Rep2          171638\n",
       "   C9              0.039               2 C9._.Mouse_embryo_E9..          176502\n",
       "   C8              0.597               3 C8._.Mouse_embryo_E9..          177398\n",
       "        nearestGene    peakType distToTSS  nearestTSS        GC       idx\n",
       "        <character> <character> <integer> <character> <numeric> <integer>\n",
       "   C2          Xkr4      Distal    209737  uc007aet.1    0.4012         1\n",
       "   C7          Xkr4      Distal    169110  uc007aet.1    0.3852         2\n",
       "  C19          Xkr4      Distal    143639  uc007aet.1    0.4212         3\n",
       "  C17          Xkr4      Distal    128110  uc007aet.1    0.4571         4\n",
       "   C3          Xkr4      Distal    120655  uc007aet.1    0.4112         5\n",
       "  ...           ...         ...       ...         ...       ...       ...\n",
       "  C22 4933400A11Rik    Intronic     10022  uc009uyf.1    0.4152      9883\n",
       "   C6 4933400A11Rik    Intronic     22646  uc009uyf.1    0.3972      9884\n",
       "   C6 4933400A11Rik    Intronic     21610  uc009uyh.2    0.3912      9885\n",
       "   C9 4933400A11Rik    Intronic     16746  uc009uyh.2    0.3633      9886\n",
       "   C8 4933400A11Rik    Intronic     15850  uc009uyh.2    0.3992      9887\n",
       "              N\n",
       "      <numeric>\n",
       "   C2         0\n",
       "   C7         0\n",
       "  C19         0\n",
       "  C17         0\n",
       "   C3         0\n",
       "  ...       ...\n",
       "  C22         0\n",
       "   C6         0\n",
       "   C6         0\n",
       "   C9         0\n",
       "   C8         0\n",
       "  -------\n",
       "  seqinfo: 20 sequences from an unspecified genome; no seqlengths"
      ]
     },
     "metadata": {},
     "output_type": "display_data"
    }
   ],
   "source": [
    "peakSet <- getPeakSet(projDLPFC1)\n",
    "peakSet"
   ]
  },
  {
   "cell_type": "code",
   "execution_count": 16,
   "id": "81ac622a-c6e2-4460-b56b-1d24e9b8b594",
   "metadata": {},
   "outputs": [
    {
     "name": "stderr",
     "output_type": "stream",
     "text": [
      "ArchR logging to : ArchRLogs/ArchR-addPeakMatrix-20126a4c170e3f-Date-2023-08-31_Time-21-40-51.912417.log\n",
      "If there is an issue, please report to github with logFile!\n",
      "\n",
      "2023-08-31 21:40:52.668629 : Batch Execution w/ safelapply!, 0 mins elapsed.\n",
      "\n",
      "ArchR logging successful to : ArchRLogs/ArchR-addPeakMatrix-20126a4c170e3f-Date-2023-08-31_Time-21-40-51.912417.log\n",
      "\n"
     ]
    }
   ],
   "source": [
    "projDLPFC2 <- addPeakMatrix(projDLPFC1)"
   ]
  },
  {
   "cell_type": "code",
   "execution_count": 17,
   "id": "28b6dbdc-50a9-460a-81c1-d14c4cf6f43e",
   "metadata": {},
   "outputs": [
    {
     "data": {
      "text/html": [
       "<style>\n",
       ".list-inline {list-style: none; margin:0; padding: 0}\n",
       ".list-inline>li {display: inline-block}\n",
       ".list-inline>li:not(:last-child)::after {content: \"\\00b7\"; padding: 0 .5ex}\n",
       "</style>\n",
       "<ol class=list-inline><li>'GeneScoreMatrix'</li><li>'PeakMatrix'</li><li>'TileMatrix'</li></ol>\n"
      ],
      "text/latex": [
       "\\begin{enumerate*}\n",
       "\\item 'GeneScoreMatrix'\n",
       "\\item 'PeakMatrix'\n",
       "\\item 'TileMatrix'\n",
       "\\end{enumerate*}\n"
      ],
      "text/markdown": [
       "1. 'GeneScoreMatrix'\n",
       "2. 'PeakMatrix'\n",
       "3. 'TileMatrix'\n",
       "\n",
       "\n"
      ],
      "text/plain": [
       "[1] \"GeneScoreMatrix\" \"PeakMatrix\"      \"TileMatrix\"     "
      ]
     },
     "metadata": {},
     "output_type": "display_data"
    }
   ],
   "source": [
    "getAvailableMatrices(projDLPFC1)"
   ]
  },
  {
   "cell_type": "code",
   "execution_count": 18,
   "id": "81af96d1-70b2-4f8d-bf4a-aff4364dddbe",
   "metadata": {},
   "outputs": [
    {
     "name": "stderr",
     "output_type": "stream",
     "text": [
      "ArchR logging to : ArchRLogs/ArchR-getMatrixFromProject-20126a4b4f3bf6-Date-2023-08-31_Time-21-42-35.575159.log\n",
      "If there is an issue, please report to github with logFile!\n",
      "\n",
      "2023-08-31 21:43:12.707878 : Organizing colData, 0.619 mins elapsed.\n",
      "\n",
      "2023-08-31 21:43:12.820611 : Organizing rowData, 0.621 mins elapsed.\n",
      "\n",
      "2023-08-31 21:43:12.829526 : Organizing rowRanges, 0.621 mins elapsed.\n",
      "\n",
      "2023-08-31 21:43:12.845073 : Organizing Assays (1 of 1), 0.621 mins elapsed.\n",
      "\n",
      "2023-08-31 21:43:28.37546 : Constructing SummarizedExperiment, 0.88 mins elapsed.\n",
      "\n",
      "2023-08-31 21:44:04.493628 : Finished Matrix Creation, 1.482 mins elapsed.\n",
      "\n"
     ]
    }
   ],
   "source": [
    "peak_matrix <- getMatrixFromProject(\n",
    "  ArchRProj = projDLPFC1,\n",
    "  useMatrix = \"PeakMatrix\",\n",
    "  useSeqnames = NULL,\n",
    "  verbose = TRUE,\n",
    "  binarize = TRUE,\n",
    "  threads = getArchRThreads(),\n",
    "  logFile = createLogFile(\"getMatrixFromProject\")\n",
    ")"
   ]
  },
  {
   "cell_type": "code",
   "execution_count": 19,
   "id": "53701ae1-b6a4-4dfa-a0c0-ef4c4f42832a",
   "metadata": {},
   "outputs": [
    {
     "data": {
      "text/plain": [
       "class: RangedSummarizedExperiment \n",
       "dim: 557932 19480 \n",
       "metadata(0):\n",
       "assays(1): PeakMatrix\n",
       "rownames: NULL\n",
       "rowData names(1): idx\n",
       "colnames(19480):\n",
       "  Mouse_embryo_E9.5_1.fragments#Mouse_embryo_E9.5_1_BC0080_N05\n",
       "  Mouse_embryo_E9.5_1.fragments#Mouse_embryo_E9.5_1_BC0033_N02 ...\n",
       "  Mouse_embryo_E9.5_3.fragments#Mouse_embryo_E9.5_3_BC2945_N01\n",
       "  Mouse_embryo_E9.5_3.fragments#Mouse_embryo_E9.5_3_BC3024_N01\n",
       "colData names(14): BlacklistRatio nDiFrags ... TSSEnrichment\n",
       "  projColData[, colnames(projColData) %ni% colnames(colData)]"
      ]
     },
     "metadata": {},
     "output_type": "display_data"
    }
   ],
   "source": [
    "peak_matrix"
   ]
  },
  {
   "cell_type": "code",
   "execution_count": 20,
   "id": "cad7d885-26ec-4a0d-8944-39a85521ca48",
   "metadata": {},
   "outputs": [],
   "source": [
    "seqnames_info <- seqnames(peakSet)\n",
    "ranges_info <- ranges(peakSet)\n",
    "seqnames_ranges <- paste(seqnames_info, ranges_info, sep = \"-\")\n",
    "rownames(peak_matrix) <- seqnames_ranges"
   ]
  },
  {
   "cell_type": "code",
   "execution_count": 24,
   "id": "7dc25b02-bb7f-4318-a801-1c2c395cb6be",
   "metadata": {
    "tags": []
   },
   "outputs": [],
   "source": [
    "colnames(peak_matrix) <- gsub(\".*#\", \"\", colnames(peak_matrix))"
   ]
  },
  {
   "cell_type": "code",
   "execution_count": 27,
   "id": "3664329d-0f80-47cc-922e-e9439445917c",
   "metadata": {},
   "outputs": [],
   "source": [
    "# 获取数据矩阵\n",
    "data_matrix <- assay(peak_matrix)\n",
    "# 将数据矩阵转换为稀疏矩阵\n",
    "sparse_matrix <- as(data_matrix, \"sparseMatrix\")"
   ]
  },
  {
   "cell_type": "code",
   "execution_count": 28,
   "id": "90e8b35e-40f2-45dc-a127-2992bd14c090",
   "metadata": {},
   "outputs": [],
   "source": [
    "# 将稀疏矩阵的非零值设为1\n",
    "# binary_matrix <- as(sparse_matrix, \"CsparseMatrix\")  # 将稀疏矩阵转换为CsparseMatrix\n",
    "# binary_matrix@x[binary_matrix@x != 0] <- 1  # 将非零值设为1"
   ]
  },
  {
   "cell_type": "code",
   "execution_count": 29,
   "id": "b596897d-90e2-47b1-a865-1100acf979e9",
   "metadata": {},
   "outputs": [],
   "source": [
    "library(Seurat)\n",
    "seurat_obj <- CreateSeuratObject(counts = sparse_matrix)\n",
    "obs_names <- colnames(seurat_obj)"
   ]
  },
  {
   "cell_type": "code",
   "execution_count": 30,
   "id": "6c87fae2-9e1f-4a65-b58a-fcfb8dbda1bb",
   "metadata": {},
   "outputs": [],
   "source": [
    "var_names <- rownames(seurat_obj)"
   ]
  },
  {
   "cell_type": "code",
   "execution_count": 31,
   "id": "640c2c95-e02e-44d1-9c2e-7bc92f02c0e1",
   "metadata": {
    "tags": []
   },
   "outputs": [],
   "source": [
    "rna_assay <- seurat_obj[[\"RNA\"]]\n",
    "\n",
    "# 查看 \"RNA\" assay 的值（前100个行和列）\n",
    "# print(rna_assay[1:100, 1:100])"
   ]
  },
  {
   "cell_type": "code",
   "execution_count": 32,
   "id": "d3576ff0-bc1f-467a-b139-1914867e111d",
   "metadata": {},
   "outputs": [
    {
     "data": {
      "text/html": [
       "17926"
      ],
      "text/latex": [
       "17926"
      ],
      "text/markdown": [
       "17926"
      ],
      "text/plain": [
       "[1] 17926"
      ]
     },
     "metadata": {},
     "output_type": "display_data"
    }
   ],
   "source": [
    "#根据元数据对碱基序列进行细胞类型注释\n",
    "meta <- read.delim(\"/mnt/disk1/xiaojk/data/mouse/mouse.embryo.E8.5.E9.5-E10.5.metadata.upload.txt\", header = TRUE)\n",
    "obs_cell_types <- meta$celltype[match(obs_names, meta$cell.id)]\n",
    "cell_type_counts <- table(obs_cell_types)\n",
    "sum(cell_type_counts)\n",
    "seurat_obj$cell_type <- obs_cell_types"
   ]
  },
  {
   "cell_type": "code",
   "execution_count": 33,
   "id": "6b4505b0-4b81-44ed-a543-947940d45999",
   "metadata": {
    "tags": []
   },
   "outputs": [
    {
     "data": {
      "text/plain": [
       "An object of class Seurat \n",
       "557932 features across 17926 samples within 1 assay \n",
       "Active assay: RNA (557932 features, 0 variable features)"
      ]
     },
     "metadata": {},
     "output_type": "display_data"
    }
   ],
   "source": [
    "# 获取匹配到的观测对象索引\n",
    "filtered_indices <- !is.na(obs_cell_types)\n",
    "# 使用 filtered_indices 子集化 Seurat 对象\n",
    "seurat_obj_filtered <- seurat_obj[,filtered_indices]\n",
    "seurat_obj_filtered$cell_type <- obs_cell_types[filtered_indices]\n",
    "seurat_obj_filtered"
   ]
  },
  {
   "cell_type": "code",
   "execution_count": 34,
   "id": "731f3a6e-852e-4559-a083-89507e54a585",
   "metadata": {},
   "outputs": [],
   "source": [
    "#删除不必要的特征\n",
    "seurat_obj_filtered$orig.ident <- NULL\n",
    "seurat_obj_filtered$nCount_RNA <- NULL\n",
    "seurat_obj_filtered$nFeature_RNA <- NULL"
   ]
  },
  {
   "cell_type": "code",
   "execution_count": 35,
   "id": "2c6c04f2-e00c-4254-a371-64074b3d33ae",
   "metadata": {},
   "outputs": [
    {
     "name": "stderr",
     "output_type": "stream",
     "text": [
      "Registered S3 method overwritten by 'SeuratDisk':\n",
      "  method            from  \n",
      "  as.sparse.H5Group Seurat\n",
      "\n",
      "Creating h5Seurat file for version 3.1.5.9900\n",
      "\n",
      "Adding counts for RNA\n",
      "\n",
      "Adding data for RNA\n",
      "\n",
      "No variable features found for RNA\n",
      "\n",
      "No feature-level metadata found for RNA\n",
      "\n",
      "Validating h5Seurat file\n",
      "\n",
      "Adding data from RNA as X\n",
      "\n",
      "Adding counts from RNA as raw\n",
      "\n",
      "Transfering meta.data to obs\n",
      "\n"
     ]
    }
   ],
   "source": [
    "library(SeuratDisk)\n",
    "SaveH5Seurat(seurat_obj_filtered, filename = \"/mnt/disk1/xiaojk/data/mouse/Mouse_embryo_E10.5.h5Seurat\")\n",
    "Convert(\"//mnt/disk1/xiaojk/data/mouse/Mouse_embryo_E10.5.h5Seurat\",dest = \"h5ad\")"
   ]
  },
  {
   "cell_type": "code",
   "execution_count": null,
   "id": "7ab2c02e-4a07-4964-a78b-82a733581fb4",
   "metadata": {},
   "outputs": [],
   "source": []
  }
 ],
 "metadata": {
  "kernelspec": {
   "display_name": "R",
   "language": "R",
   "name": "ir"
  },
  "language_info": {
   "codemirror_mode": "r",
   "file_extension": ".r",
   "mimetype": "text/x-r-source",
   "name": "R",
   "pygments_lexer": "r",
   "version": "4.3.1"
  }
 },
 "nbformat": 4,
 "nbformat_minor": 5
}
