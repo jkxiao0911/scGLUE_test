{
 "cells": [
  {
   "cell_type": "code",
   "execution_count": 1,
   "id": "a2775686-c8ca-4aa3-a389-11c0d59a3842",
   "metadata": {},
   "outputs": [
    {
     "name": "stderr",
     "output_type": "stream",
     "text": [
      "/mnt/disk1/xiaojk/anaconda/envs/scGLUE1/lib/python3.10/site-packages/tqdm/auto.py:21: TqdmWarning: IProgress not found. Please update jupyter and ipywidgets. See https://ipywidgets.readthedocs.io/en/stable/user_install.html\n",
      "  from .autonotebook import tqdm as notebook_tqdm\n"
     ]
    }
   ],
   "source": [
    "### setting for remote python debug, such as jupyter or pycharm, to avoid bedtools calling error\n",
    "### run before \"import scglue\"\n",
    "import os\n",
    "from os import path\n",
    "import sys\n",
    "import shutil\n",
    "import subprocess\n",
    "bin_dir = path.dirname(sys.executable)\n",
    "os.environ['PATH'] += os.pathsep + bin_dir #\n",
    "## shutil.which('bedtools')\n",
    "## subprocess.run(['bedtools', '--help'])\n",
    "\n",
    "# import pybedtools\n",
    "# pybedtools.set_bedtools_path('/mnt/disk1/xzhou/anaconda3/envs/PyG/bin/') ## 这里提前设置否则\"sortBed\"找不到\n",
    "# # pybedtools.set_bedtools_path('/mnt/disk1/xzhou/code/')\n",
    "# import importlib\n",
    "# pybedtools = importlib.reload(pybedtools)\n",
    "# print(pybedtools.settings.bedtools_version)\n",
    "# print(pybedtools.helpers._version_2_15_plus_names(\"sortBed\"))\n",
    "# print(pybedtools.settings._bedtools_installed)\n",
    "\n",
    "import pandas as pd\n",
    "import anndata as ad\n",
    "import networkx as nx\n",
    "import scanpy as sc\n",
    "import scglue\n",
    "from matplotlib import rcParams"
   ]
  },
  {
   "cell_type": "code",
   "execution_count": 2,
   "id": "e61cdc78-db91-4f8f-8419-4ed1422a1949",
   "metadata": {},
   "outputs": [],
   "source": [
    "atac=ad.read_h5ad(\"/mnt/disk1/xiaojk/data/mouse/peakmatrix_seurat_data_e11_F.h5ad\")"
   ]
  },
  {
   "cell_type": "code",
   "execution_count": 3,
   "id": "da948506-8658-4cc0-bc59-6f038b74092e",
   "metadata": {
    "tags": []
   },
   "outputs": [],
   "source": [
    "attributes_to_remove = ['nCount_RNA', 'nFeature_RNA']\n",
    "\n",
    "# 删除属性\n",
    "atac.obs.drop(attributes_to_remove, axis=1, inplace=True)"
   ]
  },
  {
   "cell_type": "code",
   "execution_count": 4,
   "id": "84ccdd10-9d1b-4421-aa9e-54609d93aefc",
   "metadata": {
    "collapsed": true,
    "jupyter": {
     "outputs_hidden": true
    },
    "tags": []
   },
   "outputs": [
    {
     "data": {
      "text/html": [
       "<div>\n",
       "<style scoped>\n",
       "    .dataframe tbody tr th:only-of-type {\n",
       "        vertical-align: middle;\n",
       "    }\n",
       "\n",
       "    .dataframe tbody tr th {\n",
       "        vertical-align: top;\n",
       "    }\n",
       "\n",
       "    .dataframe thead th {\n",
       "        text-align: right;\n",
       "    }\n",
       "</style>\n",
       "<table border=\"1\" class=\"dataframe\">\n",
       "  <thead>\n",
       "    <tr style=\"text-align: right;\">\n",
       "      <th></th>\n",
       "      <th>features</th>\n",
       "    </tr>\n",
       "  </thead>\n",
       "  <tbody>\n",
       "    <tr>\n",
       "      <th>chr1-3120258-3120758</th>\n",
       "      <td>chr1-3120258-3120758</td>\n",
       "    </tr>\n",
       "    <tr>\n",
       "      <th>chr1-3212732-3213232</th>\n",
       "      <td>chr1-3212732-3213232</td>\n",
       "    </tr>\n",
       "    <tr>\n",
       "      <th>chr1-3292521-3293021</th>\n",
       "      <td>chr1-3292521-3293021</td>\n",
       "    </tr>\n",
       "    <tr>\n",
       "      <th>chr1-3293438-3293938</th>\n",
       "      <td>chr1-3293438-3293938</td>\n",
       "    </tr>\n",
       "    <tr>\n",
       "      <th>chr1-3333589-3334089</th>\n",
       "      <td>chr1-3333589-3334089</td>\n",
       "    </tr>\n",
       "    <tr>\n",
       "      <th>chr1-3360810-3361310</th>\n",
       "      <td>chr1-3360810-3361310</td>\n",
       "    </tr>\n",
       "    <tr>\n",
       "      <th>chr1-3368156-3368656</th>\n",
       "      <td>chr1-3368156-3368656</td>\n",
       "    </tr>\n",
       "    <tr>\n",
       "      <th>chr1-3369553-3370053</th>\n",
       "      <td>chr1-3369553-3370053</td>\n",
       "    </tr>\n",
       "    <tr>\n",
       "      <th>chr1-3395183-3395683</th>\n",
       "      <td>chr1-3395183-3395683</td>\n",
       "    </tr>\n",
       "    <tr>\n",
       "      <th>chr1-3395737-3396237</th>\n",
       "      <td>chr1-3395737-3396237</td>\n",
       "    </tr>\n",
       "  </tbody>\n",
       "</table>\n",
       "</div>"
      ],
      "text/plain": [
       "                                  features\n",
       "chr1-3120258-3120758  chr1-3120258-3120758\n",
       "chr1-3212732-3213232  chr1-3212732-3213232\n",
       "chr1-3292521-3293021  chr1-3292521-3293021\n",
       "chr1-3293438-3293938  chr1-3293438-3293938\n",
       "chr1-3333589-3334089  chr1-3333589-3334089\n",
       "chr1-3360810-3361310  chr1-3360810-3361310\n",
       "chr1-3368156-3368656  chr1-3368156-3368656\n",
       "chr1-3369553-3370053  chr1-3369553-3370053\n",
       "chr1-3395183-3395683  chr1-3395183-3395683\n",
       "chr1-3395737-3396237  chr1-3395737-3396237"
      ]
     },
     "execution_count": 4,
     "metadata": {},
     "output_type": "execute_result"
    }
   ],
   "source": [
    "atac.var.head(10)"
   ]
  },
  {
   "cell_type": "code",
   "execution_count": 5,
   "id": "5e96ae08-c620-44e9-94fb-f008c1f8be96",
   "metadata": {},
   "outputs": [],
   "source": [
    "#稀疏矩阵转化为索引\n",
    "atac.X.tocoo()\n",
    "atac.obs.insert(0, 'domain', 'scATAC-seq')"
   ]
  },
  {
   "cell_type": "code",
   "execution_count": 6,
   "id": "3d7c5df5-1d7f-430b-845e-2bc1b1b0e1ae",
   "metadata": {},
   "outputs": [
    {
     "name": "stderr",
     "output_type": "stream",
     "text": [
      "/mnt/disk1/xiaojk/anaconda/envs/scGLUE1/lib/python3.10/site-packages/scglue/num.py:289: RuntimeWarning: divide by zero encountered in true_divide\n",
      "  idf = X.shape[0] / X.sum(axis=0)\n"
     ]
    }
   ],
   "source": [
    "#使用函数 scglue.data.lsi 进行潜在语义索引(LSI)降维\n",
    "scglue.data.lsi(atac, n_components=100, n_iter=15)"
   ]
  },
  {
   "cell_type": "code",
   "execution_count": 7,
   "id": "fec85ec9-eef7-4819-9963-732e71c66098",
   "metadata": {},
   "outputs": [
    {
     "name": "stderr",
     "output_type": "stream",
     "text": [
      "/mnt/disk1/xiaojk/anaconda/envs/scGLUE1/lib/python3.10/site-packages/umap/distances.py:1063: NumbaDeprecationWarning: \u001b[1mThe 'nopython' keyword argument was not supplied to the 'numba.jit' decorator. The implicit default value for this argument is currently False, but it will be changed to True in Numba 0.59.0. See https://numba.readthedocs.io/en/stable/reference/deprecation.html#deprecation-of-object-mode-fall-back-behaviour-when-using-jit for details.\u001b[0m\n",
      "  @numba.jit()\n",
      "/mnt/disk1/xiaojk/anaconda/envs/scGLUE1/lib/python3.10/site-packages/umap/distances.py:1071: NumbaDeprecationWarning: \u001b[1mThe 'nopython' keyword argument was not supplied to the 'numba.jit' decorator. The implicit default value for this argument is currently False, but it will be changed to True in Numba 0.59.0. See https://numba.readthedocs.io/en/stable/reference/deprecation.html#deprecation-of-object-mode-fall-back-behaviour-when-using-jit for details.\u001b[0m\n",
      "  @numba.jit()\n",
      "/mnt/disk1/xiaojk/anaconda/envs/scGLUE1/lib/python3.10/site-packages/umap/distances.py:1086: NumbaDeprecationWarning: \u001b[1mThe 'nopython' keyword argument was not supplied to the 'numba.jit' decorator. The implicit default value for this argument is currently False, but it will be changed to True in Numba 0.59.0. See https://numba.readthedocs.io/en/stable/reference/deprecation.html#deprecation-of-object-mode-fall-back-behaviour-when-using-jit for details.\u001b[0m\n",
      "  @numba.jit()\n",
      "/mnt/disk1/xiaojk/anaconda/envs/scGLUE1/lib/python3.10/site-packages/umap/umap_.py:660: NumbaDeprecationWarning: \u001b[1mThe 'nopython' keyword argument was not supplied to the 'numba.jit' decorator. The implicit default value for this argument is currently False, but it will be changed to True in Numba 0.59.0. See https://numba.readthedocs.io/en/stable/reference/deprecation.html#deprecation-of-object-mode-fall-back-behaviour-when-using-jit for details.\u001b[0m\n",
      "  @numba.jit()\n"
     ]
    },
    {
     "data": {
      "image/png": "[encoded data removed]",
      "text/plain": [
       "<Figure size 640x480 with 1 Axes>"
      ]
     },
     "metadata": {},
     "output_type": "display_data"
    }
   ],
   "source": [
    "#UMAP将ATAC模态可视化\n",
    "sc.pp.neighbors(atac, use_rep=\"X_lsi\", metric=\"cosine\")\n",
    "sc.tl.umap(atac)\n",
    "sc.pl.umap(atac, color=\"cell_type\")"
   ]
  },
  {
   "cell_type": "code",
   "execution_count": 8,
   "id": "6b99d556-d9cb-4c42-bb66-486685942056",
   "metadata": {},
   "outputs": [
    {
     "data": {
      "text/html": [
       "<div>\n",
       "<style scoped>\n",
       "    .dataframe tbody tr th:only-of-type {\n",
       "        vertical-align: middle;\n",
       "    }\n",
       "\n",
       "    .dataframe tbody tr th {\n",
       "        vertical-align: top;\n",
       "    }\n",
       "\n",
       "    .dataframe thead th {\n",
       "        text-align: right;\n",
       "    }\n",
       "</style>\n",
       "<table border=\"1\" class=\"dataframe\">\n",
       "  <thead>\n",
       "    <tr style=\"text-align: right;\">\n",
       "      <th></th>\n",
       "      <th>features</th>\n",
       "      <th>chrom</th>\n",
       "      <th>chromStart</th>\n",
       "      <th>chromEnd</th>\n",
       "    </tr>\n",
       "  </thead>\n",
       "  <tbody>\n",
       "    <tr>\n",
       "      <th>chr1-3120258-3120758</th>\n",
       "      <td>chr1-3120258-3120758</td>\n",
       "      <td>chr1</td>\n",
       "      <td>3120258</td>\n",
       "      <td>3120758</td>\n",
       "    </tr>\n",
       "    <tr>\n",
       "      <th>chr1-3212732-3213232</th>\n",
       "      <td>chr1-3212732-3213232</td>\n",
       "      <td>chr1</td>\n",
       "      <td>3212732</td>\n",
       "      <td>3213232</td>\n",
       "    </tr>\n",
       "    <tr>\n",
       "      <th>chr1-3292521-3293021</th>\n",
       "      <td>chr1-3292521-3293021</td>\n",
       "      <td>chr1</td>\n",
       "      <td>3292521</td>\n",
       "      <td>3293021</td>\n",
       "    </tr>\n",
       "    <tr>\n",
       "      <th>chr1-3293438-3293938</th>\n",
       "      <td>chr1-3293438-3293938</td>\n",
       "      <td>chr1</td>\n",
       "      <td>3293438</td>\n",
       "      <td>3293938</td>\n",
       "    </tr>\n",
       "    <tr>\n",
       "      <th>chr1-3333589-3334089</th>\n",
       "      <td>chr1-3333589-3334089</td>\n",
       "      <td>chr1</td>\n",
       "      <td>3333589</td>\n",
       "      <td>3334089</td>\n",
       "    </tr>\n",
       "  </tbody>\n",
       "</table>\n",
       "</div>"
      ],
      "text/plain": [
       "                                  features chrom  chromStart  chromEnd\n",
       "chr1-3120258-3120758  chr1-3120258-3120758  chr1     3120258   3120758\n",
       "chr1-3212732-3213232  chr1-3212732-3213232  chr1     3212732   3213232\n",
       "chr1-3292521-3293021  chr1-3292521-3293021  chr1     3292521   3293021\n",
       "chr1-3293438-3293938  chr1-3293438-3293938  chr1     3293438   3293938\n",
       "chr1-3333589-3334089  chr1-3333589-3334089  chr1     3333589   3334089"
      ]
     },
     "execution_count": 8,
     "metadata": {},
     "output_type": "execute_result"
    }
   ],
   "source": [
    "split = atac.var_names.str.split(r\"[:-]\")\n",
    "atac.var[\"chrom\"] = split.map(lambda x: x[0])\n",
    "atac.var[\"chromStart\"] = split.map(lambda x: x[1]).astype(int)\n",
    "atac.var[\"chromEnd\"] = split.map(lambda x: x[2]).astype(int)\n",
    "atac.var.head()"
   ]
  },
  {
   "cell_type": "code",
   "execution_count": 9,
   "id": "03321c4c-82d9-408f-809b-fa62a061412d",
   "metadata": {},
   "outputs": [
    {
     "data": {
      "text/plain": [
       "AnnData object with n_obs × n_vars = 4506 × 261642\n",
       "    obs: 'domain', 'cell_type'\n",
       "    var: 'features', 'chrom', 'chromStart', 'chromEnd'\n",
       "    uns: 'neighbors', 'umap', 'cell_type_colors'\n",
       "    obsm: 'X_lsi', 'X_umap'\n",
       "    obsp: 'distances', 'connectivities'"
      ]
     },
     "execution_count": 9,
     "metadata": {},
     "output_type": "execute_result"
    }
   ],
   "source": [
    "atac"
   ]
  },
  {
   "cell_type": "code",
   "execution_count": 10,
   "id": "15a92e53-3799-4312-81a0-7749fe795b73",
   "metadata": {},
   "outputs": [],
   "source": [
    "scglue.plot.set_publication_params()\n",
    "rcParams[\"figure.figsize\"] = (4, 4)"
   ]
  },
  {
   "cell_type": "code",
   "execution_count": 11,
   "id": "b88d35ea-2519-43a1-b816-9829ec875a4f",
   "metadata": {},
   "outputs": [],
   "source": [
    "rnadata=ad.read_h5ad(\"/mnt/disk1/xzhou/data/spatial_3D/stereo-seq/mosta/E13.5_E1S1.MOSTA.h5ad\")"
   ]
  },
  {
   "cell_type": "code",
   "execution_count": 12,
   "id": "778ea782-2511-4e05-9a19-f886f54c6b91",
   "metadata": {
    "tags": []
   },
   "outputs": [],
   "source": [
    "selected_indices = rnadata.obs['annotation'] == 'Brain'\n",
    "rna = rnadata[selected_indices, :]"
   ]
  },
  {
   "cell_type": "code",
   "execution_count": 13,
   "id": "eeb10420-4f27-44d5-bc45-54cfe4431020",
   "metadata": {
    "tags": []
   },
   "outputs": [
    {
     "data": {
      "text/plain": [
       "(12707, 28408)"
      ]
     },
     "execution_count": 13,
     "metadata": {},
     "output_type": "execute_result"
    }
   ],
   "source": [
    "rna.shape"
   ]
  },
  {
   "cell_type": "code",
   "execution_count": 14,
   "id": "5bf28901-6772-4593-ae60-2fbfa597886c",
   "metadata": {},
   "outputs": [
    {
     "name": "stderr",
     "output_type": "stream",
     "text": [
      "/mnt/disk1/xiaojk/anaconda/envs/scGLUE1/lib/python3.10/site-packages/scanpy/preprocessing/_highly_variable_genes.py:62: UserWarning: `flavor='seurat_v3'` expects raw count data, but non-integers were found.\n",
      "  warnings.warn(\n",
      "/mnt/disk1/xiaojk/anaconda/envs/scGLUE1/lib/python3.10/site-packages/scanpy/preprocessing/_highly_variable_genes.py:149: ImplicitModificationWarning: Trying to modify attribute `._uns` of view, initializing view as actual.\n",
      "  adata.uns['hvg'] = {'flavor': 'seurat_v3'}\n"
     ]
    }
   ],
   "source": [
    "#筛选2000个高表达基因\n",
    "sc.pp.highly_variable_genes(rna, n_top_genes=2000, flavor=\"seurat_v3\")"
   ]
  },
  {
   "cell_type": "code",
   "execution_count": 15,
   "id": "d8f8ad02-5ef5-4181-9af2-ce0e17876748",
   "metadata": {},
   "outputs": [],
   "source": [
    "#归一化和缩放，以及PCA降维\n",
    "sc.pp.normalize_total(rna)\n",
    "sc.pp.log1p(rna)\n",
    "sc.pp.scale(rna)\n",
    "sc.tl.pca(rna, n_comps=100, svd_solver=\"auto\")"
   ]
  },
  {
   "cell_type": "code",
   "execution_count": 16,
   "id": "38359648-ffcd-4162-b007-d00de3dc2947",
   "metadata": {},
   "outputs": [],
   "source": [
    "sc.pp.neighbors(rna, metric=\"cosine\")\n",
    "sc.tl.umap(rna)\n",
    "# sc.pl.umap(rna, color=\"cell_type\")"
   ]
  },
  {
   "cell_type": "code",
   "execution_count": 17,
   "id": "c2784472-71de-449d-b1cd-538c0e9f4224",
   "metadata": {},
   "outputs": [
    {
     "data": {
      "text/html": [
       "<div>\n",
       "<style scoped>\n",
       "    .dataframe tbody tr th:only-of-type {\n",
       "        vertical-align: middle;\n",
       "    }\n",
       "\n",
       "    .dataframe tbody tr th {\n",
       "        vertical-align: top;\n",
       "    }\n",
       "\n",
       "    .dataframe thead th {\n",
       "        text-align: right;\n",
       "    }\n",
       "</style>\n",
       "<table border=\"1\" class=\"dataframe\">\n",
       "  <thead>\n",
       "    <tr style=\"text-align: right;\">\n",
       "      <th></th>\n",
       "      <th>chrom</th>\n",
       "      <th>chromStart</th>\n",
       "      <th>chromEnd</th>\n",
       "    </tr>\n",
       "    <tr>\n",
       "      <th>gene_short_name</th>\n",
       "      <th></th>\n",
       "      <th></th>\n",
       "      <th></th>\n",
       "    </tr>\n",
       "  </thead>\n",
       "  <tbody>\n",
       "    <tr>\n",
       "      <th>Capzb</th>\n",
       "      <td>chr4</td>\n",
       "      <td>138920209.0</td>\n",
       "      <td>139019129.0</td>\n",
       "    </tr>\n",
       "    <tr>\n",
       "      <th>Elavl3</th>\n",
       "      <td>chr9</td>\n",
       "      <td>21926300.0</td>\n",
       "      <td>21963319.0</td>\n",
       "    </tr>\n",
       "    <tr>\n",
       "      <th>Naga</th>\n",
       "      <td>chr15</td>\n",
       "      <td>82213732.0</td>\n",
       "      <td>82223126.0</td>\n",
       "    </tr>\n",
       "    <tr>\n",
       "      <th>Ranbp1</th>\n",
       "      <td>chr16</td>\n",
       "      <td>18057647.0</td>\n",
       "      <td>18066596.0</td>\n",
       "    </tr>\n",
       "    <tr>\n",
       "      <th>Gja1</th>\n",
       "      <td>chr10</td>\n",
       "      <td>56253425.0</td>\n",
       "      <td>56278609.0</td>\n",
       "    </tr>\n",
       "  </tbody>\n",
       "</table>\n",
       "</div>"
      ],
      "text/plain": [
       "                 chrom   chromStart     chromEnd\n",
       "gene_short_name                                 \n",
       "Capzb             chr4  138920209.0  139019129.0\n",
       "Elavl3            chr9   21926300.0   21963319.0\n",
       "Naga             chr15   82213732.0   82223126.0\n",
       "Ranbp1           chr16   18057647.0   18066596.0\n",
       "Gja1             chr10   56253425.0   56278609.0"
      ]
     },
     "execution_count": 17,
     "metadata": {},
     "output_type": "execute_result"
    }
   ],
   "source": [
    "scglue.data.get_gene_annotation(\n",
    "    rna, gtf=\"/mnt/disk1/xiaojk/data/gencode.vM33.chr_patch_hapl_scaff.annotation.gtf.gz\",\n",
    "    gtf_by=\"gene_name\"\n",
    ")\n",
    "rna.var.loc[:, [\"chrom\", \"chromStart\", \"chromEnd\"]].head()"
   ]
  },
  {
   "cell_type": "code",
   "execution_count": 18,
   "id": "f81f88de-8864-4e8c-a3c7-f98cf3e0f4d1",
   "metadata": {},
   "outputs": [],
   "source": [
    "var_df = pd.DataFrame(rna.var)\n",
    "\n",
    "# 检查是否存在缺失值的行\n",
    "missing_rows = var_df[var_df[[\"chromStart\", \"chromEnd\"]].isnull().any(axis=1)]\n",
    "\n",
    "# 从 rna 中删除缺失的 var 变量\n",
    "rna = rna[:, ~rna.var.index.isin(missing_rows.index)]\n",
    "\n",
    "valid_chroms = ['chr' + str(i) for i in range(1, 23)] + ['chrX', 'chrY']\n",
    "\n",
    "# 检查 chrom 列是否包含有效的字符串值\n",
    "mask = rna.var['chrom'].isin(valid_chroms)\n",
    "\n",
    "# 从 rna 中删除 chrom 列不包含有效字符串值的 var 变量\n",
    "rna = rna[:, mask]"
   ]
  },
  {
   "cell_type": "code",
   "execution_count": 19,
   "id": "f813c956-c170-4896-86ef-7133712bb94d",
   "metadata": {
    "tags": []
   },
   "outputs": [
    {
     "data": {
      "text/plain": [
       "(12707, 25993)"
      ]
     },
     "execution_count": 19,
     "metadata": {},
     "output_type": "execute_result"
    }
   ],
   "source": [
    "rna.shape"
   ]
  },
  {
   "cell_type": "code",
   "execution_count": 20,
   "id": "3502be58-95dd-4f9b-90ed-221f24119787",
   "metadata": {},
   "outputs": [
    {
     "name": "stderr",
     "output_type": "stream",
     "text": [
      "window_graph: 100%|██████████| 25993/25993 [00:04<00:00, 5248.51it/s]\n"
     ]
    },
    {
     "data": {
      "text/plain": [
       "<networkx.classes.multidigraph.MultiDiGraph at 0x7f057028acb0>"
      ]
     },
     "execution_count": 20,
     "metadata": {},
     "output_type": "execute_result"
    }
   ],
   "source": [
    "guidance = scglue.genomics.rna_anchored_guidance_graph(rna, atac,propagate_highly_variable = True)\n",
    "guidance"
   ]
  },
  {
   "cell_type": "code",
   "execution_count": 21,
   "id": "403aa42c-4e33-4de7-9316-f77b5ee6a5d4",
   "metadata": {},
   "outputs": [
    {
     "name": "stdout",
     "output_type": "stream",
     "text": [
      "[INFO] check_graph: Checking variable coverage...\n",
      "[INFO] check_graph: Checking edge attributes...\n",
      "[INFO] check_graph: Checking self-loops...\n",
      "[INFO] check_graph: Checking graph symmetry...\n",
      "[INFO] check_graph: All checks passed!\n"
     ]
    }
   ],
   "source": [
    "scglue.graph.check_graph(guidance, [rna, atac])"
   ]
  },
  {
   "cell_type": "code",
   "execution_count": 22,
   "id": "d14b72a3-5553-4169-879d-2e5025ec7adc",
   "metadata": {},
   "outputs": [
    {
     "name": "stderr",
     "output_type": "stream",
     "text": [
      "/mnt/disk1/xiaojk/anaconda/envs/scGLUE1/lib/python3.10/site-packages/scglue/models/__init__.py:124: ImplicitModificationWarning: Trying to modify attribute `._uns` of view, initializing view as actual.\n",
      "  adata.uns[config.ANNDATA_KEY] = data_config\n"
     ]
    }
   ],
   "source": [
    "scglue.models.configure_dataset(\n",
    "    rna, \"NB\", use_highly_variable=True,\n",
    "    use_layer=\"count\", use_rep=\"X_pca\"\n",
    ")"
   ]
  },
  {
   "cell_type": "code",
   "execution_count": 23,
   "id": "9cb532f9-0d74-4dab-b0a9-5a823a497aaf",
   "metadata": {},
   "outputs": [],
   "source": [
    "scglue.models.configure_dataset(\n",
    "    atac, \"NB\", use_highly_variable=True,\n",
    "    use_rep=\"X_lsi\"\n",
    ")"
   ]
  },
  {
   "cell_type": "code",
   "execution_count": 24,
   "id": "647217de-a7ca-439e-95e4-e0799e1f6fa6",
   "metadata": {},
   "outputs": [],
   "source": [
    "from itertools import chain\n",
    "guidance_hvf = guidance.subgraph(chain(\n",
    "    rna.var.query(\"highly_variable\").index,\n",
    "    atac.var.query(\"highly_variable\").index\n",
    ")).copy()"
   ]
  },
  {
   "cell_type": "code",
   "execution_count": null,
   "id": "69064f91-4f7f-48ce-a9ed-a238cf87c511",
   "metadata": {},
   "outputs": [
    {
     "name": "stdout",
     "output_type": "stream",
     "text": [
      "[INFO] fit_SCGLUE: Pretraining SCGLUE model...\n",
      "[INFO] autodevice: Using GPU 3 as computation device.\n",
      "[INFO] check_graph: Checking variable coverage...\n",
      "[INFO] check_graph: Checking edge attributes...\n",
      "[INFO] check_graph: Checking self-loops...\n",
      "[INFO] check_graph: Checking graph symmetry...\n",
      "[INFO] SCGLUEModel: Setting `graph_batch_size` = 19250\n",
      "[INFO] SCGLUEModel: Setting `max_epochs` = 199\n",
      "[INFO] SCGLUEModel: Setting `patience` = 17\n",
      "[INFO] SCGLUEModel: Setting `reduce_lr_patience` = 9\n",
      "[INFO] SCGLUETrainer: Using training directory: \"glue/pretrain\"\n",
      "[INFO] SCGLUETrainer: [Epoch 10] train={'g_nll': 0.464, 'g_kl': 0.009, 'g_elbo': 0.474, 'x_rna_nll': 0.305, 'x_rna_kl': 0.008, 'x_rna_elbo': 0.313, 'x_atac_nll': 0.111, 'x_atac_kl': 0.001, 'x_atac_elbo': 0.112, 'dsc_loss': 0.686, 'vae_loss': 0.444, 'gen_loss': 0.409}, val={'g_nll': 0.464, 'g_kl': 0.009, 'g_elbo': 0.473, 'x_rna_nll': 0.303, 'x_rna_kl': 0.008, 'x_rna_elbo': 0.312, 'x_atac_nll': 0.11, 'x_atac_kl': 0.001, 'x_atac_elbo': 0.111, 'dsc_loss': 0.694, 'vae_loss': 0.442, 'gen_loss': 0.407}, 8.2s elapsed\n",
      "[INFO] SCGLUETrainer: [Epoch 20] train={'g_nll': 0.447, 'g_kl': 0.009, 'g_elbo': 0.456, 'x_rna_nll': 0.299, 'x_rna_kl': 0.008, 'x_rna_elbo': 0.307, 'x_atac_nll': 0.11, 'x_atac_kl': 0.001, 'x_atac_elbo': 0.11, 'dsc_loss': 0.689, 'vae_loss': 0.436, 'gen_loss': 0.401}, val={'g_nll': 0.449, 'g_kl': 0.009, 'g_elbo': 0.458, 'x_rna_nll': 0.3, 'x_rna_kl': 0.008, 'x_rna_elbo': 0.308, 'x_atac_nll': 0.111, 'x_atac_kl': 0.001, 'x_atac_elbo': 0.112, 'dsc_loss': 0.691, 'vae_loss': 0.437, 'gen_loss': 0.403}, 5.9s elapsed\n",
      "[INFO] SCGLUETrainer: [Epoch 30] train={'g_nll': 0.44, 'g_kl': 0.009, 'g_elbo': 0.448, 'x_rna_nll': 0.298, 'x_rna_kl': 0.008, 'x_rna_elbo': 0.306, 'x_atac_nll': 0.109, 'x_atac_kl': 0.001, 'x_atac_elbo': 0.11, 'dsc_loss': 0.69, 'vae_loss': 0.434, 'gen_loss': 0.399}, val={'g_nll': 0.44, 'g_kl': 0.009, 'g_elbo': 0.448, 'x_rna_nll': 0.298, 'x_rna_kl': 0.008, 'x_rna_elbo': 0.306, 'x_atac_nll': 0.109, 'x_atac_kl': 0.001, 'x_atac_elbo': 0.11, 'dsc_loss': 0.691, 'vae_loss': 0.434, 'gen_loss': 0.399}, 6.9s elapsed\n"
     ]
    }
   ],
   "source": [
    "glue = scglue.models.fit_SCGLUE(\n",
    "    {\"rna\": rna, \"atac\": atac}, guidance_hvf,\n",
    "    fit_kws={\"directory\": \"glue\"}\n",
    ")"
   ]
  },
  {
   "cell_type": "code",
   "execution_count": null,
   "id": "c9f15864-d076-4aaa-b324-b6a4b980a4fb",
   "metadata": {},
   "outputs": [],
   "source": [
    "glue.save(\"glue.dill\")\n",
    "# glue = scglue.models.load_model(\"glue.dill\")"
   ]
  },
  {
   "cell_type": "code",
   "execution_count": null,
   "id": "4b3f734a-9a63-4be3-ae12-c1972c1ef8c0",
   "metadata": {},
   "outputs": [],
   "source": [
    "dx = scglue.models.integration_consistency(\n",
    "    glue, {\"rna\": rna, \"atac\": atac}, guidance_hvf\n",
    ")\n",
    "dx"
   ]
  },
  {
   "cell_type": "code",
   "execution_count": null,
   "id": "8705b5e0-c313-43b7-8d1b-49a02f766ef8",
   "metadata": {},
   "outputs": [],
   "source": [
    "import seaborn as sns\n",
    "_ = sns.lineplot(x=\"n_meta\", y=\"consistency\", data=dx).axhline(y=0.05, c=\"darkred\", ls=\"--\")"
   ]
  },
  {
   "cell_type": "code",
   "execution_count": null,
   "id": "efa92247-889e-42f1-9fb9-a48d1eb4f0e8",
   "metadata": {},
   "outputs": [],
   "source": [
    "rna.obsm[\"X_glue\"] = glue.encode_data(\"rna\", rna)\n",
    "atac.obsm[\"X_glue\"] = glue.encode_data(\"atac\", atac)"
   ]
  },
  {
   "cell_type": "code",
   "execution_count": null,
   "id": "e62b49b4-7887-4e32-ad47-ef4fbb37b703",
   "metadata": {},
   "outputs": [],
   "source": [
    "rna.obs[\"domain\"] = \"RNA\"\n",
    "atac.obs[\"domain\"] = \"ATAC\"\n",
    "combined = ad.concat([rna, atac])"
   ]
  },
  {
   "cell_type": "code",
   "execution_count": null,
   "id": "9dd263f7-1cac-437d-83b5-8f07fbc1cf26",
   "metadata": {
    "tags": []
   },
   "outputs": [],
   "source": [
    "# sc.pp.neighbors(combined, use_rep=\"X_glue\", metric=\"cosine\")\n",
    "# sc.tl.umap(combined)\n",
    "# sc.pl.umap(combined, color=[\"cell_type\",\"domain\"], wspace=0.65)"
   ]
  },
  {
   "cell_type": "code",
   "execution_count": null,
   "id": "3acbfaab-fd3a-445b-8c86-bb1ca170002f",
   "metadata": {},
   "outputs": [],
   "source": [
    "feature_embeddings = glue.encode_graph(guidance_hvf)\n",
    "feature_embeddings = pd.DataFrame(feature_embeddings, index=glue.vertices)\n",
    "feature_embeddings.iloc[:5, :5]"
   ]
  },
  {
   "cell_type": "code",
   "execution_count": null,
   "id": "5a9bbb14-ff05-4ade-8204-3b80d108ad5b",
   "metadata": {},
   "outputs": [],
   "source": [
    "rna.varm[\"X_glue\"] = feature_embeddings.reindex(rna.var_names).to_numpy()\n",
    "atac.varm[\"X_glue\"] = feature_embeddings.reindex(atac.var_names).to_numpy()"
   ]
  },
  {
   "cell_type": "code",
   "execution_count": null,
   "id": "7b618305-47e4-4846-972f-742c523c1c2e",
   "metadata": {
    "tags": []
   },
   "outputs": [],
   "source": [
    "# import matplotlib.pyplot as plt\n",
    "# fig, ax = plt.subplots(1, 2, figsize=(12, 3), gridspec_kw={'wspace': 1.2, 'hspace': 0.2})\n",
    "\n",
    "# sc.pl.umap(combined[combined.obs['domain']==\"RNA\"], color=[\"cell_type\"], wspace=1, ax=ax[0], show=False)\n",
    "# sc.pl.umap(combined[combined.obs['domain']==\"ATAC\"], color=[\"cell_type\"], wspace=1, ax=ax[1], show=False)\n",
    "# plt.show()"
   ]
  },
  {
   "cell_type": "code",
   "execution_count": null,
   "id": "16ea125e-f3a4-4579-8f0e-6b7f726b5106",
   "metadata": {},
   "outputs": [],
   "source": [
    "from sklearn.neighbors import KNeighborsClassifier\n",
    "neigh = KNeighborsClassifier(n_neighbors=3)\n",
    "neigh.fit(atac.obsm[\"X_glue\"], atac.obs[\"cell_type\"])\n",
    "print(neigh.predict(rna.obsm[\"X_glue\"]))\n",
    "print(neigh.predict_proba(rna.obsm[\"X_glue\"]))"
   ]
  },
  {
   "cell_type": "code",
   "execution_count": null,
   "id": "9d774ecd-523b-4b46-8600-93402e14a39b",
   "metadata": {},
   "outputs": [],
   "source": [
    "import numpy as np\n",
    "rna.obsm[\"tangram_ct_pred\"] = pd.DataFrame(neigh.predict_proba(rna.obsm[\"X_glue\"]),\n",
    "                                           index=rna.obs_names, columns=np.sort(list(atac.obs[\"cell_type\"].unique())))"
   ]
  },
  {
   "cell_type": "code",
   "execution_count": null,
   "id": "ca71e2c0-f2d6-4105-8180-915291f4dc81",
   "metadata": {},
   "outputs": [],
   "source": [
    "def construct_obs_plot(df_plot, adata, perc=0, suffix=None):\n",
    "    # clip\n",
    "    df_plot = df_plot.clip(df_plot.quantile(perc), df_plot.quantile(1 - perc), axis=1)\n",
    "\n",
    "    # normalize\n",
    "    df_plot = (df_plot - df_plot.min()) / (df_plot.max() - df_plot.min())\n",
    "\n",
    "    if suffix:\n",
    "        df_plot = df_plot.add_suffix(\" ({})\".format(suffix))\n",
    "    adata.obs = pd.concat([adata.obs, df_plot], axis=1)\n",
    "    \n",
    "    \n",
    "def plot_cell_annotation_sc(\n",
    "    adata_sp, \n",
    "    annotation_list, \n",
    "    x=\"x\", \n",
    "    y=\"y\", \n",
    "    spot_size=None, \n",
    "    scale_factor=None, \n",
    "    perc=0,\n",
    "    alpha_img=1.0,\n",
    "    bw=False,\n",
    "    ax=None\n",
    "):\n",
    "        \n",
    "    # remove previous df_plot in obs\n",
    "    adata_sp.obs.drop(annotation_list, inplace=True, errors=\"ignore\", axis=1)\n",
    "\n",
    "    # construct df_plot\n",
    "    df = adata_sp.obsm[\"tangram_ct_pred\"][annotation_list]\n",
    "    construct_obs_plot(df, adata_sp, perc=perc)\n",
    "    \n",
    "    #non visium data \n",
    "    if 'spatial' not in adata_sp.obsm.keys():\n",
    "        #add spatial coordinates to obsm of spatial data \n",
    "        coords = [[x,y] for x,y in zip(adata_sp.obs[x].values,adata_sp.obs[y].values)]\n",
    "        adata_sp.obsm['spatial'] = np.array(coords)\n",
    "    \n",
    "    if 'spatial' not in adata_sp.uns.keys() and spot_size == None and scale_factor == None:\n",
    "        raise ValueError(\"Spot Size and Scale Factor cannot be None when ad_sp.uns['spatial'] does not exist\")\n",
    "    \n",
    "    #REVIEW\n",
    "    if 'spatial' in adata_sp.uns.keys() and spot_size != None and scale_factor != None:\n",
    "        raise ValueError(\"Spot Size and Scale Factor should be None when ad_sp.uns['spatial'] exists\")\n",
    "    \n",
    "    sc.pl.spatial(\n",
    "        adata_sp, color=annotation_list, cmap=\"viridis\", show=False, frameon=False, spot_size=spot_size,\n",
    "        scale_factor=scale_factor, alpha_img=alpha_img, bw=bw, ax=ax, colorbar_loc=None,ncols=5,wspace=0\n",
    "    )\n",
    "\n",
    "    adata_sp.obs.drop(annotation_list, inplace=True, errors=\"ignore\", axis=1)"
   ]
  },
  {
   "cell_type": "code",
   "execution_count": null,
   "id": "73a99e2e-56c2-43d4-986b-3312dd8e1b92",
   "metadata": {},
   "outputs": [],
   "source": [
    "list(atac.obs['cell_type'].unique())"
   ]
  },
  {
   "cell_type": "code",
   "execution_count": null,
   "id": "0b39b4ab-7311-4c43-8626-415f361e6471",
   "metadata": {},
   "outputs": [],
   "source": [
    "# tg.project_cell_annotations(ad_map, ad_sp1, annotation='subclass_label') \n",
    "##这里由于是FISH数据，每个spot都会对应一个细胞，如果是Visium，则需要对应多个细胞\n",
    "# annotation_list = list(pd.unique(ad_sc.obs['subclass_label']))\n",
    "annotation_list = ['PC',\n",
    " 'Glut_DN_V',\n",
    " 'Progenitor_bipotent',\n",
    " 'Isthmic_nuclei',\n",
    " 'GCP_prenatal',\n",
    " 'Glut_DN_P',\n",
    " 'MBO',\n",
    " 'Progenitor_RL',\n",
    " 'Interneuron_diff',\n",
    " 'Interneuron_early',\n",
    " 'Progenitor_isthmic',\n",
    " 'GABA_DN',\n",
    " 'PC_diff',\n",
    " 'Microglia',\n",
    " 'Parabrachial',\n",
    " 'GC_diff_prenatal',\n",
    " 'Low_quality',\n",
    " 'Progenitor_gliogenic',\n",
    " 'Vascular',\n",
    " 'NTZ_diff',\n",
    " 'Erythroid',\n",
    " 'Progenitor_brainstem',\n",
    " 'astroblast_WM']\n",
    "sc.settings.set_figure_params(frameon=True, fontsize=15, facecolor='white',figsize=(2, 2)) #dpi=300, \n",
    "# import tangram as tg\n",
    "# plot_cell_annotation_sc(rna, annotation_list, x='x', y='y', spot_size= 60, scale_factor=0.1, perc=0.001)\n",
    "plot_cell_annotation_sc(rna, annotation_list, x='x', y='y',spot_size=5, perc=0.001)"
   ]
  },
  {
   "cell_type": "code",
   "execution_count": null,
   "id": "4c467038-011e-485f-8050-ef89714efbbb",
   "metadata": {},
   "outputs": [],
   "source": []
  }
 ],
 "metadata": {
  "kernelspec": {
   "display_name": "scGLUE1",
   "language": "python",
   "name": "scglue1"
  },
  "language_info": {
   "codemirror_mode": {
    "name": "ipython",
    "version": 3
   },
   "file_extension": ".py",
   "mimetype": "text/x-python",
   "name": "python",
   "nbconvert_exporter": "python",
   "pygments_lexer": "ipython3",
   "version": "3.10.12"
  }
 },
 "nbformat": 4,
 "nbformat_minor": 5
}
