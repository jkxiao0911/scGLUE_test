{
 "cells": [
  {
   "cell_type": "code",
   "execution_count": 1,
   "id": "68718835-2b6c-4d31-b42d-12181aea48e3",
   "metadata": {
    "tags": []
   },
   "outputs": [
    {
     "name": "stderr",
     "output_type": "stream",
     "text": [
      "\n",
      "                                                   / |\n",
      "                                                 /    \\\n",
      "            .                                  /      |.\n",
      "            \\\\\\                              /        |.\n",
      "              \\\\\\                          /           `|.\n",
      "                \\\\\\                      /              |.\n",
      "                  \\                    /                |\\\n",
      "                  \\\\#####\\           /                  ||\n",
      "                ==###########>      /                   ||\n",
      "                 \\\\##==......\\    /                     ||\n",
      "            ______ =       =|__ /__                     ||      \\\\\\\n",
      "        ,--' ,----`-,__ ___/'  --,-`-===================##========>\n",
      "       \\               '        ##_______ _____ ,--,__,=##,__   ///\n",
      "        ,    __==    ___,-,__,--'#'  ==='      `-'    | ##,-/\n",
      "        -,____,---'       \\\\####\\\\________________,--\\\\_##,/\n",
      "           ___      .______        ______  __    __  .______      \n",
      "          /   \\     |   _  \\      /      ||  |  |  | |   _  \\     \n",
      "         /  ^  \\    |  |_)  |    |  ,----'|  |__|  | |  |_)  |    \n",
      "        /  /_\\  \\   |      /     |  |     |   __   | |      /     \n",
      "       /  _____  \\  |  |\\  \\\\___ |  `----.|  |  |  | |  |\\  \\\\___.\n",
      "      /__/     \\__\\ | _| `._____| \\______||__|  |__| | _| `._____|\n",
      "    \n",
      "\n",
      "ArchR : Version 1.0.2\n",
      "For more information see our website : www.ArchRProject.com\n",
      "If you encounter a bug please report : https://github.com/GreenleafLab/ArchR/issues\n",
      "\n",
      "Loading Required Packages...\n",
      "\n",
      "\tLoading Package : grid v4.3.1\n",
      "\n",
      "\tLoading Package : gridExtra v2.3\n",
      "\n",
      "\tLoading Package : gtools v3.9.4\n",
      "\n",
      "\tLoading Package : gtable v0.3.3\n",
      "\n",
      "\tLoading Package : ggplot2 v3.4.3\n",
      "\n",
      "\tLoading Package : magrittr v2.0.3\n",
      "\n",
      "\tLoading Package : plyr v1.8.8\n",
      "\n",
      "\tLoading Package : stringr v1.5.0\n",
      "\n",
      "\tLoading Package : data.table v1.14.8\n",
      "\n",
      "\tLoading Package : matrixStats v1.0.0\n",
      "\n",
      "\tLoading Package : S4Vectors v0.38.1\n",
      "\n",
      "\tLoading Package : GenomicRanges v1.52.0\n",
      "\n",
      "\tLoading Package : BiocGenerics v0.46.0\n",
      "\n",
      "\tLoading Package : Matrix v1.6.1\n",
      "\n",
      "\tLoading Package : Rcpp v1.0.11\n",
      "\n",
      "\tLoading Package : SummarizedExperiment v1.30.2\n",
      "\n",
      "\tLoading Package : rhdf5 v2.44.0\n",
      "\n"
     ]
    }
   ],
   "source": [
    "library(ArchR)"
   ]
  },
  {
   "cell_type": "code",
   "execution_count": 2,
   "id": "585d9811-04c6-472e-b50f-b92ccd4dacdc",
   "metadata": {},
   "outputs": [
    {
     "name": "stderr",
     "output_type": "stream",
     "text": [
      "Setting default number of Parallel threads to 12.\n",
      "\n"
     ]
    }
   ],
   "source": [
    "addArchRThreads(threads = 12)"
   ]
  },
  {
   "cell_type": "code",
   "execution_count": 3,
   "id": "2069c324-5e9a-47dc-8600-520a95a21676",
   "metadata": {},
   "outputs": [
    {
     "name": "stderr",
     "output_type": "stream",
     "text": [
      "Setting default genome to Mm10.\n",
      "\n"
     ]
    }
   ],
   "source": [
    "addArchRGenome(\"mm10\")"
   ]
  },
  {
   "cell_type": "code",
   "execution_count": 4,
   "id": "1e420339-35e7-4ae4-9466-250034c27ff4",
   "metadata": {},
   "outputs": [
    {
     "data": {
      "text/html": [
       "TRUE"
      ],
      "text/latex": [
       "TRUE"
      ],
      "text/markdown": [
       "TRUE"
      ],
      "text/plain": [
       "[1] TRUE"
      ]
     },
     "metadata": {},
     "output_type": "display_data"
    }
   ],
   "source": [
    "file.exists(\"/mnt/disk1/xiaojk/data/mouse/Mouse_embryo_E9.5_1.fragments.tsv.gz\")"
   ]
  },
  {
   "cell_type": "code",
   "execution_count": 5,
   "id": "97f18e8a-720e-4d7d-a1b6-1047e26e0c5c",
   "metadata": {},
   "outputs": [
    {
     "name": "stderr",
     "output_type": "stream",
     "text": [
      "filterFrags is no longer a valid input. Please use minFrags! Setting filterFrags value to minFrags!\n",
      "\n",
      "filterTSS is no longer a valid input. Please use minTSS! Setting filterTSS value to minTSS!\n",
      "\n",
      "Using GeneAnnotation set by addArchRGenome(Mm10)!\n",
      "\n",
      "Using GeneAnnotation set by addArchRGenome(Mm10)!\n",
      "\n",
      "ArchR logging to : ArchRLogs/ArchR-createArrows-36a2251d67a4ff-Date-2023-09-01_Time-16-00-36.005264.log\n",
      "If there is an issue, please report to github with logFile!\n",
      "\n",
      "Cleaning Temporary Files\n",
      "\n",
      "2023-09-01 16:00:36.225932 : Batch Execution w/ safelapply!, 0 mins elapsed.\n",
      "\n",
      "ArchR logging successful to : ArchRLogs/ArchR-createArrows-36a2251d67a4ff-Date-2023-09-01_Time-16-00-36.005264.log\n",
      "\n"
     ]
    }
   ],
   "source": [
    "# 构建包含所有文件路径的向量\n",
    "file_names <- sprintf(\"/mnt/disk1/xiaojk/data/mouse/Mouse_embryo_E9.5_%d.fragments.tsv.gz\", 6:10)\n",
    "# 构建与文件数量相匹配的样本名向量\n",
    "sample_names <- sprintf(\"Mouse_embryo_E9.5_%d.fragments\", 6:10)\n",
    "\n",
    "# 调用 createArrowFiles 函数\n",
    "ArrowFiles <- createArrowFiles(\n",
    "  inputFiles = file_names,\n",
    "  sampleNames = sample_names,\n",
    "  filterTSS = 4,\n",
    "  filterFrags = 1000,\n",
    "  addTileMat = TRUE,\n",
    "  addGeneScoreMat = TRUE\n",
    ")"
   ]
  },
  {
   "cell_type": "code",
   "execution_count": 6,
   "id": "0be60399-b657-4790-8eae-17768f048389",
   "metadata": {},
   "outputs": [
    {
     "data": {
      "text/html": [
       "<style>\n",
       ".list-inline {list-style: none; margin:0; padding: 0}\n",
       ".list-inline>li {display: inline-block}\n",
       ".list-inline>li:not(:last-child)::after {content: \"\\00b7\"; padding: 0 .5ex}\n",
       "</style>\n",
       "<ol class=list-inline><li>'Mouse_embryo_E9.5_7.fragments.arrow'</li><li>'Mouse_embryo_E9.5_9.fragments.arrow'</li><li>'Mouse_embryo_E9.5_8.fragments.arrow'</li><li>'Mouse_embryo_E9.5_6.fragments.arrow'</li><li>'Mouse_embryo_E9.5_10.fragments.arrow'</li></ol>\n"
      ],
      "text/latex": [
       "\\begin{enumerate*}\n",
       "\\item 'Mouse\\_embryo\\_E9.5\\_7.fragments.arrow'\n",
       "\\item 'Mouse\\_embryo\\_E9.5\\_9.fragments.arrow'\n",
       "\\item 'Mouse\\_embryo\\_E9.5\\_8.fragments.arrow'\n",
       "\\item 'Mouse\\_embryo\\_E9.5\\_6.fragments.arrow'\n",
       "\\item 'Mouse\\_embryo\\_E9.5\\_10.fragments.arrow'\n",
       "\\end{enumerate*}\n"
      ],
      "text/markdown": [
       "1. 'Mouse_embryo_E9.5_7.fragments.arrow'\n",
       "2. 'Mouse_embryo_E9.5_9.fragments.arrow'\n",
       "3. 'Mouse_embryo_E9.5_8.fragments.arrow'\n",
       "4. 'Mouse_embryo_E9.5_6.fragments.arrow'\n",
       "5. 'Mouse_embryo_E9.5_10.fragments.arrow'\n",
       "\n",
       "\n"
      ],
      "text/plain": [
       "[1] \"Mouse_embryo_E9.5_7.fragments.arrow\" \n",
       "[2] \"Mouse_embryo_E9.5_9.fragments.arrow\" \n",
       "[3] \"Mouse_embryo_E9.5_8.fragments.arrow\" \n",
       "[4] \"Mouse_embryo_E9.5_6.fragments.arrow\" \n",
       "[5] \"Mouse_embryo_E9.5_10.fragments.arrow\""
      ]
     },
     "metadata": {},
     "output_type": "display_data"
    }
   ],
   "source": [
    "ArrowFiles"
   ]
  },
  {
   "cell_type": "code",
   "execution_count": 7,
   "id": "b94799a1-815d-41cd-a647-2483632cbf26",
   "metadata": {
    "tags": []
   },
   "outputs": [
    {
     "name": "stderr",
     "output_type": "stream",
     "text": [
      "Using GeneAnnotation set by addArchRGenome(Mm10)!\n",
      "\n",
      "Using GeneAnnotation set by addArchRGenome(Mm10)!\n",
      "\n",
      "Validating Arrows...\n",
      "\n",
      "Getting SampleNames...\n",
      "\n",
      "\n",
      "\n",
      "Copying ArrowFiles to Ouptut Directory! If you want to save disk space set copyArrows = FALSE\n",
      "\n",
      "1 \n",
      "2 \n",
      "3 \n",
      "4 \n",
      "5 \n",
      "\n",
      "\n",
      "Getting Cell Metadata...\n",
      "\n",
      "\n",
      "\n",
      "Merging Cell Metadata...\n",
      "\n",
      "Initializing ArchRProject...\n",
      "\n",
      "\n",
      "                                                   / |\n",
      "                                                 /    \\\n",
      "            .                                  /      |.\n",
      "            \\\\\\                              /        |.\n",
      "              \\\\\\                          /           `|.\n",
      "                \\\\\\                      /              |.\n",
      "                  \\                    /                |\\\n",
      "                  \\\\#####\\           /                  ||\n",
      "                ==###########>      /                   ||\n",
      "                 \\\\##==......\\    /                     ||\n",
      "            ______ =       =|__ /__                     ||      \\\\\\\n",
      "        ,--' ,----`-,__ ___/'  --,-`-===================##========>\n",
      "       \\               '        ##_______ _____ ,--,__,=##,__   ///\n",
      "        ,    __==    ___,-,__,--'#'  ==='      `-'    | ##,-/\n",
      "        -,____,---'       \\\\####\\\\________________,--\\\\_##,/\n",
      "           ___      .______        ______  __    __  .______      \n",
      "          /   \\     |   _  \\      /      ||  |  |  | |   _  \\     \n",
      "         /  ^  \\    |  |_)  |    |  ,----'|  |__|  | |  |_)  |    \n",
      "        /  /_\\  \\   |      /     |  |     |   __   | |      /     \n",
      "       /  _____  \\  |  |\\  \\\\___ |  `----.|  |  |  | |  |\\  \\\\___.\n",
      "      /__/     \\__\\ | _| `._____| \\______||__|  |__| | _| `._____|\n",
      "    \n",
      "\n"
     ]
    }
   ],
   "source": [
    "projDLPFC1 <- ArchRProject(\n",
    "  ArrowFiles = ArrowFiles,\n",
    "  outputDirectory = \"/mnt/disk1/xiaojk/data/mouse/\",\n",
    "  copyArrows = TRUE #This is recommened so that if you modify the Arrow files you have an original copy for later usage.\n",
    ")"
   ]
  },
  {
   "cell_type": "code",
   "execution_count": 8,
   "id": "9cf81d43-2c01-47f6-a7a2-e413fe38085d",
   "metadata": {},
   "outputs": [
    {
     "name": "stderr",
     "output_type": "stream",
     "text": [
      "\n",
      "           ___      .______        ______  __    __  .______      \n",
      "          /   \\     |   _  \\      /      ||  |  |  | |   _  \\     \n",
      "         /  ^  \\    |  |_)  |    |  ,----'|  |__|  | |  |_)  |    \n",
      "        /  /_\\  \\   |      /     |  |     |   __   | |      /     \n",
      "       /  _____  \\  |  |\\  \\\\___ |  `----.|  |  |  | |  |\\  \\\\___.\n",
      "      /__/     \\__\\ | _| `._____| \\______||__|  |__| | _| `._____|\n",
      "    \n",
      "\n"
     ]
    },
    {
     "data": {
      "text/plain": [
       "class: ArchRProject \n",
       "outputDirectory: /mnt/disk1/xiaojk/data/mouse \n",
       "samples(5): Mouse_embryo_E9.5_7.fragments Mouse_embryo_E9.5_9.fragments\n",
       "  Mouse_embryo_E9.5_8.fragments Mouse_embryo_E9.5_6.fragments\n",
       "  Mouse_embryo_E9.5_10.fragments\n",
       "sampleColData names(1): ArrowFiles\n",
       "cellColData names(13): Sample TSSEnrichment ... nDiFrags BlacklistRatio\n",
       "numberOfCells(1): 14181\n",
       "medianTSS(1): 14.494\n",
       "medianFrags(1): 18921"
      ]
     },
     "metadata": {},
     "output_type": "display_data"
    }
   ],
   "source": [
    "projDLPFC1"
   ]
  },
  {
   "cell_type": "code",
   "execution_count": 9,
   "id": "1ac0e813-eb32-4f2b-9f70-d06807707360",
   "metadata": {},
   "outputs": [
    {
     "data": {
      "text/html": [
       "'Memory Size = 31.927 MB'"
      ],
      "text/latex": [
       "'Memory Size = 31.927 MB'"
      ],
      "text/markdown": [
       "'Memory Size = 31.927 MB'"
      ],
      "text/plain": [
       "[1] \"Memory Size = 31.927 MB\""
      ]
     },
     "metadata": {},
     "output_type": "display_data"
    },
    {
     "data": {
      "text/html": [
       "<style>\n",
       ".list-inline {list-style: none; margin:0; padding: 0}\n",
       ".list-inline>li {display: inline-block}\n",
       ".list-inline>li:not(:last-child)::after {content: \"\\00b7\"; padding: 0 .5ex}\n",
       "</style>\n",
       "<ol class=list-inline><li>'GeneScoreMatrix'</li><li>'TileMatrix'</li></ol>\n"
      ],
      "text/latex": [
       "\\begin{enumerate*}\n",
       "\\item 'GeneScoreMatrix'\n",
       "\\item 'TileMatrix'\n",
       "\\end{enumerate*}\n"
      ],
      "text/markdown": [
       "1. 'GeneScoreMatrix'\n",
       "2. 'TileMatrix'\n",
       "\n",
       "\n"
      ],
      "text/plain": [
       "[1] \"GeneScoreMatrix\" \"TileMatrix\"     "
      ]
     },
     "metadata": {},
     "output_type": "display_data"
    }
   ],
   "source": [
    "paste0(\"Memory Size = \", round(object.size(projDLPFC1) / 10^6, 3), \" MB\")\n",
    "getAvailableMatrices(projDLPFC1)"
   ]
  },
  {
   "cell_type": "code",
   "execution_count": 10,
   "id": "0c5575c3-bb3c-4651-9eec-c9819595c2e2",
   "metadata": {},
   "outputs": [
    {
     "name": "stderr",
     "output_type": "stream",
     "text": [
      "Checking Inputs...\n",
      "\n",
      "ArchR logging to : ArchRLogs/ArchR-addIterativeLSI-36a22521910b5-Date-2023-09-01_Time-16-17-07.964788.log\n",
      "If there is an issue, please report to github with logFile!\n",
      "\n",
      "2023-09-01 16:17:08.414446 : Computing Total Across All Features, 0.004 mins elapsed.\n",
      "\n",
      "2023-09-01 16:17:14.891301 : Computing Top Features, 0.112 mins elapsed.\n",
      "\n",
      "###########\n",
      "2023-09-01 16:17:16.444539 : Running LSI (1 of 2) on Top Features, 0.138 mins elapsed.\n",
      "###########\n",
      "\n",
      "2023-09-01 16:17:16.621793 : Sampling Cells (N = 10003) for Estimated LSI, 0.141 mins elapsed.\n",
      "\n",
      "2023-09-01 16:17:16.625234 : Creating Sampled Partial Matrix, 0.141 mins elapsed.\n",
      "\n",
      "2023-09-01 16:17:36.253909 : Computing Estimated LSI (projectAll = FALSE), 0.468 mins elapsed.\n",
      "\n",
      "2023-09-01 16:18:07.292094 : Identifying Clusters, 0.986 mins elapsed.\n",
      "\n",
      "2023-09-01 16:18:26.93315 : Identified 11 Clusters, 1.313 mins elapsed.\n",
      "\n",
      "2023-09-01 16:18:26.955193 : Saving LSI Iteration, 1.313 mins elapsed.\n",
      "\n",
      "2023-09-01 16:18:48.037046 : Creating Cluster Matrix on the total Group Features, 1.665 mins elapsed.\n",
      "\n",
      "2023-09-01 16:19:04.327078 : Computing Variable Features, 1.936 mins elapsed.\n",
      "\n",
      "###########\n",
      "2023-09-01 16:19:04.732344 : Running LSI (2 of 2) on Variable Features, 1.943 mins elapsed.\n",
      "###########\n",
      "\n",
      "2023-09-01 16:19:04.763765 : Creating Partial Matrix, 1.944 mins elapsed.\n",
      "\n",
      "2023-09-01 16:19:29.076576 : Computing LSI, 2.349 mins elapsed.\n",
      "\n",
      "2023-09-01 16:20:01.614753 : Finished Running IterativeLSI, 2.891 mins elapsed.\n",
      "\n"
     ]
    }
   ],
   "source": [
    "projDLPFC1 <- addIterativeLSI(\n",
    "    ArchRProj = projDLPFC1,\n",
    "    useMatrix = \"TileMatrix\", \n",
    "    name = \"IterativeLSI\", \n",
    "    iterations = 2, \n",
    "    clusterParams = list( #See Seurat::FindClusters\n",
    "        resolution = c(0.2), \n",
    "        sampleCells = 10000, \n",
    "        n.start = 10\n",
    "    ), \n",
    "    varFeatures = 25000, \n",
    "    dimsToUse = 1:30\n",
    ")"
   ]
  },
  {
   "cell_type": "code",
   "execution_count": 11,
   "id": "9e62f8cf-75fc-4dc2-a44d-e6f6cbaf033d",
   "metadata": {},
   "outputs": [
    {
     "name": "stderr",
     "output_type": "stream",
     "text": [
      "ArchR logging to : ArchRLogs/ArchR-addClusters-36a22552b9869d-Date-2023-09-01_Time-16-20-01.643383.log\n",
      "If there is an issue, please report to github with logFile!\n",
      "\n",
      "2023-09-01 16:20:01.864122 : Running Seurats FindClusters (Stuart et al. Cell 2019), 0.002 mins elapsed.\n",
      "\n",
      "Computing nearest neighbor graph\n",
      "\n",
      "Computing SNN\n",
      "\n"
     ]
    },
    {
     "name": "stdout",
     "output_type": "stream",
     "text": [
      "Modularity Optimizer version 1.3.0 by Ludo Waltman and Nees Jan van Eck\n",
      "\n",
      "Number of nodes: 14181\n",
      "Number of edges: 473286\n",
      "\n",
      "Running Louvain algorithm...\n",
      "Maximum modularity in 10 random starts: 0.9136\n",
      "Number of communities: 26\n",
      "Elapsed time: 1 seconds\n"
     ]
    },
    {
     "name": "stderr",
     "output_type": "stream",
     "text": [
      "2023-09-01 16:20:19.590963 : Testing Biased Clusters, 0.298 mins elapsed.\n",
      "\n",
      "2023-09-01 16:20:19.818064 : Testing Outlier Clusters, 0.302 mins elapsed.\n",
      "\n",
      "2023-09-01 16:20:19.822897 : Identified more clusters than maxClusters allowed (n = 0). Merging clusters to maxClusters (n = 25).\n",
      "If this is not desired set maxClusters = NULL!, 0.302 mins elapsed.\n",
      "\n",
      "2023-09-01 16:20:19.848665 : Assigning Cluster Names to 25 Clusters, 0.302 mins elapsed.\n",
      "\n",
      "2023-09-01 16:20:19.976124 : Finished addClusters, 0.304 mins elapsed.\n",
      "\n"
     ]
    }
   ],
   "source": [
    "projDLPFC1 <- addClusters(\n",
    "    input = projDLPFC1,\n",
    "    reducedDims = \"IterativeLSI\",\n",
    "    method = \"Seurat\",\n",
    "    name = \"Clusters\",\n",
    "    resolution = 0.8\n",
    ")"
   ]
  },
  {
   "cell_type": "code",
   "execution_count": 12,
   "id": "5dfa3d92-6012-4160-8a23-8900c7a3f8a5",
   "metadata": {},
   "outputs": [
    {
     "data": {
      "text/html": [
       "<style>\n",
       ".list-inline {list-style: none; margin:0; padding: 0}\n",
       ".list-inline>li {display: inline-block}\n",
       ".list-inline>li:not(:last-child)::after {content: \"\\00b7\"; padding: 0 .5ex}\n",
       "</style>\n",
       "<ol class=list-inline><li>'C18'</li><li>'C6'</li><li>'C1'</li><li>'C23'</li><li>'C21'</li><li>'C7'</li></ol>\n"
      ],
      "text/latex": [
       "\\begin{enumerate*}\n",
       "\\item 'C18'\n",
       "\\item 'C6'\n",
       "\\item 'C1'\n",
       "\\item 'C23'\n",
       "\\item 'C21'\n",
       "\\item 'C7'\n",
       "\\end{enumerate*}\n"
      ],
      "text/markdown": [
       "1. 'C18'\n",
       "2. 'C6'\n",
       "3. 'C1'\n",
       "4. 'C23'\n",
       "5. 'C21'\n",
       "6. 'C7'\n",
       "\n",
       "\n"
      ],
      "text/plain": [
       "[1] \"C18\" \"C6\"  \"C1\"  \"C23\" \"C21\" \"C7\" "
      ]
     },
     "metadata": {},
     "output_type": "display_data"
    },
    {
     "data": {
      "text/plain": [
       "\n",
       "  C1  C10  C11  C12  C13  C14  C15  C16  C17  C18  C19   C2  C20  C21  C22  C23 \n",
       " 873  972  266  718  101  137  794  291  485  155  357  250  119  650 1541  523 \n",
       " C24  C25   C3   C4   C5   C6   C7   C8   C9 \n",
       " 389 1482   58   47 1168 1101 1020  565  119 "
      ]
     },
     "metadata": {},
     "output_type": "display_data"
    }
   ],
   "source": [
    "head(projDLPFC1$Clusters)\n",
    "table(projDLPFC1$Clusters)"
   ]
  },
  {
   "cell_type": "code",
   "execution_count": 13,
   "id": "e594962c-3c78-4427-958e-24837a624900",
   "metadata": {
    "tags": []
   },
   "outputs": [
    {
     "name": "stderr",
     "output_type": "stream",
     "text": [
      "ArchR logging to : ArchRLogs/ArchR-addGroupCoverages-36a225bb46bfa-Date-2023-09-01_Time-16-20-20.027421.log\n",
      "If there is an issue, please report to github with logFile!\n",
      "\n",
      "C1 (1 of 25) : CellGroups N = 5\n",
      "\n",
      "C2 (2 of 25) : CellGroups N = 4\n",
      "\n",
      "C3 (3 of 25) : CellGroups N = 2\n",
      "\n",
      "C4 (4 of 25) : CellGroups N = 2\n",
      "\n",
      "C5 (5 of 25) : CellGroups N = 5\n",
      "\n",
      "C6 (6 of 25) : CellGroups N = 5\n",
      "\n",
      "C7 (7 of 25) : CellGroups N = 5\n",
      "\n",
      "C8 (8 of 25) : CellGroups N = 5\n",
      "\n",
      "C9 (9 of 25) : CellGroups N = 2\n",
      "\n",
      "C10 (10 of 25) : CellGroups N = 5\n",
      "\n",
      "C11 (11 of 25) : CellGroups N = 4\n",
      "\n",
      "C12 (12 of 25) : CellGroups N = 5\n",
      "\n",
      "C13 (13 of 25) : CellGroups N = 2\n",
      "\n",
      "C14 (14 of 25) : CellGroups N = 1\n",
      "\n",
      "C15 (15 of 25) : CellGroups N = 5\n",
      "\n",
      "C16 (16 of 25) : CellGroups N = 3\n",
      "\n",
      "C17 (17 of 25) : CellGroups N = 5\n",
      "\n",
      "C18 (18 of 25) : CellGroups N = 2\n",
      "\n",
      "C19 (19 of 25) : CellGroups N = 5\n",
      "\n",
      "C20 (20 of 25) : CellGroups N = 2\n",
      "\n",
      "C21 (21 of 25) : CellGroups N = 5\n",
      "\n",
      "C22 (22 of 25) : CellGroups N = 5\n",
      "\n",
      "C23 (23 of 25) : CellGroups N = 5\n",
      "\n",
      "C24 (24 of 25) : CellGroups N = 5\n",
      "\n",
      "C25 (25 of 25) : CellGroups N = 5\n",
      "\n",
      "2023-09-01 16:20:23.970692 : Creating Coverage Files!, 0.066 mins elapsed.\n",
      "\n",
      "2023-09-01 16:20:23.974022 : Batch Execution w/ safelapply!, 0.066 mins elapsed.\n",
      "\n",
      "2023-09-01 16:25:32.151018 : Adding Kmer Bias to Coverage Files!, 5.202 mins elapsed.\n",
      "\n",
      "Completed Kmer Bias Calculation\n",
      "\n",
      "Adding Kmer Bias (1 of 99)\n",
      "\n",
      "Adding Kmer Bias (2 of 99)\n",
      "\n",
      "Adding Kmer Bias (3 of 99)\n",
      "\n",
      "Adding Kmer Bias (4 of 99)\n",
      "\n",
      "Adding Kmer Bias (5 of 99)\n",
      "\n",
      "Adding Kmer Bias (6 of 99)\n",
      "\n",
      "Adding Kmer Bias (7 of 99)\n",
      "\n",
      "Adding Kmer Bias (8 of 99)\n",
      "\n",
      "Adding Kmer Bias (9 of 99)\n",
      "\n",
      "Adding Kmer Bias (10 of 99)\n",
      "\n",
      "Adding Kmer Bias (11 of 99)\n",
      "\n",
      "Adding Kmer Bias (12 of 99)\n",
      "\n",
      "Adding Kmer Bias (13 of 99)\n",
      "\n",
      "Adding Kmer Bias (14 of 99)\n",
      "\n",
      "Adding Kmer Bias (15 of 99)\n",
      "\n",
      "Adding Kmer Bias (16 of 99)\n",
      "\n",
      "Adding Kmer Bias (17 of 99)\n",
      "\n",
      "Adding Kmer Bias (18 of 99)\n",
      "\n",
      "Adding Kmer Bias (19 of 99)\n",
      "\n",
      "Adding Kmer Bias (20 of 99)\n",
      "\n",
      "Adding Kmer Bias (21 of 99)\n",
      "\n",
      "Adding Kmer Bias (22 of 99)\n",
      "\n",
      "Adding Kmer Bias (23 of 99)\n",
      "\n",
      "Adding Kmer Bias (24 of 99)\n",
      "\n",
      "Adding Kmer Bias (25 of 99)\n",
      "\n",
      "Adding Kmer Bias (26 of 99)\n",
      "\n",
      "Adding Kmer Bias (27 of 99)\n",
      "\n",
      "Adding Kmer Bias (28 of 99)\n",
      "\n",
      "Adding Kmer Bias (29 of 99)\n",
      "\n",
      "Adding Kmer Bias (30 of 99)\n",
      "\n",
      "Adding Kmer Bias (31 of 99)\n",
      "\n",
      "Adding Kmer Bias (32 of 99)\n",
      "\n",
      "Adding Kmer Bias (33 of 99)\n",
      "\n",
      "Adding Kmer Bias (34 of 99)\n",
      "\n",
      "Adding Kmer Bias (35 of 99)\n",
      "\n",
      "Adding Kmer Bias (36 of 99)\n",
      "\n",
      "Adding Kmer Bias (37 of 99)\n",
      "\n",
      "Adding Kmer Bias (38 of 99)\n",
      "\n",
      "Adding Kmer Bias (39 of 99)\n",
      "\n",
      "Adding Kmer Bias (40 of 99)\n",
      "\n",
      "Adding Kmer Bias (41 of 99)\n",
      "\n",
      "Adding Kmer Bias (42 of 99)\n",
      "\n",
      "Adding Kmer Bias (43 of 99)\n",
      "\n",
      "Adding Kmer Bias (44 of 99)\n",
      "\n",
      "Adding Kmer Bias (45 of 99)\n",
      "\n",
      "Adding Kmer Bias (46 of 99)\n",
      "\n",
      "Adding Kmer Bias (47 of 99)\n",
      "\n",
      "Adding Kmer Bias (48 of 99)\n",
      "\n",
      "Adding Kmer Bias (49 of 99)\n",
      "\n",
      "Adding Kmer Bias (50 of 99)\n",
      "\n",
      "Adding Kmer Bias (51 of 99)\n",
      "\n",
      "Adding Kmer Bias (52 of 99)\n",
      "\n",
      "Adding Kmer Bias (53 of 99)\n",
      "\n",
      "Adding Kmer Bias (54 of 99)\n",
      "\n",
      "Adding Kmer Bias (55 of 99)\n",
      "\n",
      "Adding Kmer Bias (56 of 99)\n",
      "\n",
      "Adding Kmer Bias (57 of 99)\n",
      "\n",
      "Adding Kmer Bias (58 of 99)\n",
      "\n",
      "Adding Kmer Bias (59 of 99)\n",
      "\n",
      "Adding Kmer Bias (60 of 99)\n",
      "\n",
      "Adding Kmer Bias (61 of 99)\n",
      "\n",
      "Adding Kmer Bias (62 of 99)\n",
      "\n",
      "Adding Kmer Bias (63 of 99)\n",
      "\n",
      "Adding Kmer Bias (64 of 99)\n",
      "\n",
      "Adding Kmer Bias (65 of 99)\n",
      "\n",
      "Adding Kmer Bias (66 of 99)\n",
      "\n",
      "Adding Kmer Bias (67 of 99)\n",
      "\n",
      "Adding Kmer Bias (68 of 99)\n",
      "\n",
      "Adding Kmer Bias (69 of 99)\n",
      "\n",
      "Adding Kmer Bias (70 of 99)\n",
      "\n",
      "Adding Kmer Bias (71 of 99)\n",
      "\n",
      "Adding Kmer Bias (72 of 99)\n",
      "\n",
      "Adding Kmer Bias (73 of 99)\n",
      "\n",
      "Adding Kmer Bias (74 of 99)\n",
      "\n",
      "Adding Kmer Bias (75 of 99)\n",
      "\n",
      "Adding Kmer Bias (76 of 99)\n",
      "\n",
      "Adding Kmer Bias (77 of 99)\n",
      "\n",
      "Adding Kmer Bias (78 of 99)\n",
      "\n",
      "Adding Kmer Bias (79 of 99)\n",
      "\n",
      "Adding Kmer Bias (80 of 99)\n",
      "\n",
      "Adding Kmer Bias (81 of 99)\n",
      "\n",
      "Adding Kmer Bias (82 of 99)\n",
      "\n",
      "Adding Kmer Bias (83 of 99)\n",
      "\n",
      "Adding Kmer Bias (84 of 99)\n",
      "\n",
      "Adding Kmer Bias (85 of 99)\n",
      "\n",
      "Adding Kmer Bias (86 of 99)\n",
      "\n",
      "Adding Kmer Bias (87 of 99)\n",
      "\n",
      "Adding Kmer Bias (88 of 99)\n",
      "\n",
      "Adding Kmer Bias (89 of 99)\n",
      "\n",
      "Adding Kmer Bias (90 of 99)\n",
      "\n",
      "Adding Kmer Bias (91 of 99)\n",
      "\n",
      "Adding Kmer Bias (92 of 99)\n",
      "\n",
      "Adding Kmer Bias (93 of 99)\n",
      "\n",
      "Adding Kmer Bias (94 of 99)\n",
      "\n",
      "Adding Kmer Bias (95 of 99)\n",
      "\n",
      "Adding Kmer Bias (96 of 99)\n",
      "\n",
      "Adding Kmer Bias (97 of 99)\n",
      "\n",
      "Adding Kmer Bias (98 of 99)\n",
      "\n",
      "Adding Kmer Bias (99 of 99)\n",
      "\n",
      "2023-09-01 16:30:17.588978 : Finished Creation of Coverage Files!, 9.959 mins elapsed.\n",
      "\n",
      "ArchR logging successful to : ArchRLogs/ArchR-addGroupCoverages-36a225bb46bfa-Date-2023-09-01_Time-16-20-20.027421.log\n",
      "\n"
     ]
    }
   ],
   "source": [
    "projDLPFC1 <- addGroupCoverages(ArchRProj = projDLPFC1, groupBy = \"Clusters\")"
   ]
  },
  {
   "cell_type": "code",
   "execution_count": 14,
   "id": "750a82a8-087c-40af-9b3d-dadc4b037608",
   "metadata": {
    "tags": []
   },
   "outputs": [
    {
     "name": "stderr",
     "output_type": "stream",
     "text": [
      "ArchR logging to : ArchRLogs/ArchR-addReproduciblePeakSet-36a225180731f0-Date-2023-09-01_Time-16-30-18.189002.log\n",
      "If there is an issue, please report to github with logFile!\n",
      "\n",
      "Calling Peaks with Macs2\n",
      "\n",
      "2023-09-01 16:30:18.377672 : Peak Calling Parameters!, 0.003 mins elapsed.\n",
      "\n"
     ]
    },
    {
     "name": "stdout",
     "output_type": "stream",
     "text": [
      "    Group nCells nCellsUsed nReplicates nMin nMax maxPeaks\n",
      "C1     C1    873        873           5  113  268   150000\n",
      "C2     C2    250        250           4   45   76   125000\n",
      "C3     C3     58         56           2   40   40    28000\n",
      "C4     C4     47         41           2   23   26    20500\n",
      "C5     C5   1168       1168           5  134  364   150000\n",
      "C6     C6   1101       1101           5  136  322   150000\n",
      "C7     C7   1020       1020           5  143  276   150000\n",
      "C8     C8    565        565           5   75  159   150000\n",
      "C9     C9    119        119           2   59   60    59500\n",
      "C10   C10    972        972           5  132  271   150000\n",
      "C11   C11    266        266           4   52   77   133000\n",
      "C12   C12    718        718           5   89  231   150000\n",
      "C13   C13    101        101           2   50   51    50500\n",
      "C14   C14    137        137           1  137  137    68500\n",
      "C15   C15    794        794           5  124  219   150000\n",
      "C16   C16    291        291           3   82  117   145500\n",
      "C17   C17    485        485           5   53  169   150000\n",
      "C18   C18    155        155           2   56   99    77500\n",
      "C19   C19    357        357           5   44  105   150000\n",
      "C20   C20    119        119           2   42   77    59500\n",
      "C21   C21    650        650           5   70  190   150000\n",
      "C22   C22   1541       1541           5  179  460   150000\n",
      "C23   C23    523        523           5   74  157   150000\n",
      "C24   C24    389        389           5   51  103   150000\n",
      "C25   C25   1482       1482           5  193  425   150000\n"
     ]
    },
    {
     "name": "stderr",
     "output_type": "stream",
     "text": [
      "2023-09-01 16:30:18.387487 : Batching Peak Calls!, 0.003 mins elapsed.\n",
      "\n",
      "2023-09-01 16:30:18.394945 : Batch Execution w/ safelapply!, 0 mins elapsed.\n",
      "\n",
      "2023-09-01 16:41:40.362482 : Identifying Reproducible Peaks!, 11.37 mins elapsed.\n",
      "\n",
      "2023-09-01 16:42:02.786862 : Creating Union Peak Set!, 11.743 mins elapsed.\n",
      "\n",
      "Converged after 11 iterations!\n",
      "\n",
      "Plotting Ggplot!\n",
      "\n",
      "2023-09-01 16:42:20.031291 : Finished Creating Union Peak Set (540091)!, 12.031 mins elapsed.\n",
      "\n"
     ]
    }
   ],
   "source": [
    "pathToMacs2 <- \"/mnt/disk1/xiaojk/anaconda/envs/ArchR/bin/macs2\"\n",
    "projDLPFC1 <- addReproduciblePeakSet(\n",
    "    ArchRProj = projDLPFC1, \n",
    "    groupBy = \"Clusters\", \n",
    "    pathToMacs2 = pathToMacs2\n",
    ")"
   ]
  },
  {
   "cell_type": "code",
   "execution_count": 15,
   "id": "023ae1c1-6304-45b9-9dca-5f246a3f30e3",
   "metadata": {
    "tags": []
   },
   "outputs": [
    {
     "data": {
      "text/plain": [
       "GRanges object with 540091 ranges and 13 metadata columns:\n",
       "      seqnames              ranges strand |     score replicateScoreQuantile\n",
       "         <Rle>           <IRanges>  <Rle> | <numeric>              <numeric>\n",
       "  C25     chr1     3005395-3005895      * |   6.27918                  0.403\n",
       "   C7     chr1     3071746-3072246      * |  27.16520                  0.829\n",
       "  C24     chr1     3094725-3095225      * |   7.48436                  0.590\n",
       "  C21     chr1     3101644-3102144      * |   4.21535                  0.601\n",
       "  C13     chr1     3116760-3117260      * |   6.13937                  0.695\n",
       "  ...      ...                 ...    ... .       ...                    ...\n",
       "  C24     chrX 169945527-169946027      * |   3.65334                  0.261\n",
       "  C24     chrX 169948996-169949496      * |   6.15084                  0.547\n",
       "  C19     chrX 169950501-169951001      * |   1.22407                  0.034\n",
       "  C24     chrX 169951026-169951526      * |  11.72860                  0.741\n",
       "  C18     chrX 169956754-169957254      * |   3.62111                  0.250\n",
       "      groupScoreQuantile Reproducibility         GroupReplicate distToGeneStart\n",
       "               <numeric>       <numeric>            <character>       <integer>\n",
       "  C25              0.232               3 C25._.Mouse_embryo_E..          665852\n",
       "   C7              0.776               5 C7._.Mouse_embryo_E9..          599501\n",
       "  C24              0.358               3 C24._.Mouse_embryo_E..          576522\n",
       "  C21              0.308               2 C21._.Mouse_embryo_E..          569603\n",
       "  C13              0.321               2             C13._.Rep2          554487\n",
       "  ...                ...             ...                    ...             ...\n",
       "  C24              0.090               2 C24._.Mouse_embryo_E..          166141\n",
       "  C24              0.336               4 C24._.Mouse_embryo_E..          169610\n",
       "  C19              0.004               2 C19._.Mouse_embryo_E..          171115\n",
       "  C24              0.587               4 C24._.Mouse_embryo_E..          171640\n",
       "  C18              0.048               2                C18._.1          177368\n",
       "        nearestGene    peakType distToTSS  nearestTSS        GC       idx\n",
       "        <character> <character> <integer> <character> <numeric> <integer>\n",
       "  C25          Xkr4      Distal    209986  uc007aet.1    0.3752         1\n",
       "   C7          Xkr4      Distal    143635  uc007aet.1    0.4192         2\n",
       "  C24          Xkr4      Distal    120656  uc007aet.1    0.4132         3\n",
       "  C21          Xkr4      Distal    113737  uc007aet.1    0.3593         4\n",
       "  C13          Xkr4      Distal     98621  uc007aet.1    0.4152         5\n",
       "  ...           ...         ...       ...         ...       ...       ...\n",
       "  C24 4933400A11Rik    Intronic     18822  uc009uyf.1    0.3693      9645\n",
       "  C24 4933400A11Rik    Intronic     22291  uc009uyf.1    0.4172      9646\n",
       "  C19 4933400A11Rik    Intronic     22133  uc009uyh.2    0.3673      9647\n",
       "  C24 4933400A11Rik    Intronic     21608  uc009uyh.2    0.3892      9648\n",
       "  C18 4933400A11Rik    Intronic     15880  uc009uyh.2    0.4172      9649\n",
       "              N\n",
       "      <numeric>\n",
       "  C25         0\n",
       "   C7         0\n",
       "  C24         0\n",
       "  C21         0\n",
       "  C13         0\n",
       "  ...       ...\n",
       "  C24         0\n",
       "  C24         0\n",
       "  C19         0\n",
       "  C24         0\n",
       "  C18         0\n",
       "  -------\n",
       "  seqinfo: 20 sequences from an unspecified genome; no seqlengths"
      ]
     },
     "metadata": {},
     "output_type": "display_data"
    }
   ],
   "source": [
    "peakSet <- getPeakSet(projDLPFC1)\n",
    "peakSet"
   ]
  },
  {
   "cell_type": "code",
   "execution_count": 16,
   "id": "81ac622a-c6e2-4460-b56b-1d24e9b8b594",
   "metadata": {
    "tags": []
   },
   "outputs": [
    {
     "name": "stderr",
     "output_type": "stream",
     "text": [
      "ArchR logging to : ArchRLogs/ArchR-addPeakMatrix-36a22536a560f3-Date-2023-09-01_Time-16-42-20.081799.log\n",
      "If there is an issue, please report to github with logFile!\n",
      "\n",
      "2023-09-01 16:42:20.188099 : Batch Execution w/ safelapply!, 0 mins elapsed.\n",
      "\n",
      "ArchR logging successful to : ArchRLogs/ArchR-addPeakMatrix-36a22536a560f3-Date-2023-09-01_Time-16-42-20.081799.log\n",
      "\n"
     ]
    }
   ],
   "source": [
    "projDLPFC2 <- addPeakMatrix(projDLPFC1)"
   ]
  },
  {
   "cell_type": "code",
   "execution_count": 17,
   "id": "28b6dbdc-50a9-460a-81c1-d14c4cf6f43e",
   "metadata": {},
   "outputs": [
    {
     "data": {
      "text/html": [
       "<style>\n",
       ".list-inline {list-style: none; margin:0; padding: 0}\n",
       ".list-inline>li {display: inline-block}\n",
       ".list-inline>li:not(:last-child)::after {content: \"\\00b7\"; padding: 0 .5ex}\n",
       "</style>\n",
       "<ol class=list-inline><li>'GeneScoreMatrix'</li><li>'PeakMatrix'</li><li>'TileMatrix'</li></ol>\n"
      ],
      "text/latex": [
       "\\begin{enumerate*}\n",
       "\\item 'GeneScoreMatrix'\n",
       "\\item 'PeakMatrix'\n",
       "\\item 'TileMatrix'\n",
       "\\end{enumerate*}\n"
      ],
      "text/markdown": [
       "1. 'GeneScoreMatrix'\n",
       "2. 'PeakMatrix'\n",
       "3. 'TileMatrix'\n",
       "\n",
       "\n"
      ],
      "text/plain": [
       "[1] \"GeneScoreMatrix\" \"PeakMatrix\"      \"TileMatrix\"     "
      ]
     },
     "metadata": {},
     "output_type": "display_data"
    }
   ],
   "source": [
    "getAvailableMatrices(projDLPFC1)"
   ]
  },
  {
   "cell_type": "code",
   "execution_count": 18,
   "id": "81af96d1-70b2-4f8d-bf4a-aff4364dddbe",
   "metadata": {},
   "outputs": [
    {
     "name": "stderr",
     "output_type": "stream",
     "text": [
      "ArchR logging to : ArchRLogs/ArchR-getMatrixFromProject-36a2256ba8530-Date-2023-09-01_Time-16-43-49.86921.log\n",
      "If there is an issue, please report to github with logFile!\n",
      "\n",
      "2023-09-01 16:44:20.690378 : Organizing colData, 0.514 mins elapsed.\n",
      "\n",
      "2023-09-01 16:44:20.797743 : Organizing rowData, 0.515 mins elapsed.\n",
      "\n",
      "2023-09-01 16:44:20.806726 : Organizing rowRanges, 0.516 mins elapsed.\n",
      "\n",
      "2023-09-01 16:44:20.822402 : Organizing Assays (1 of 1), 0.516 mins elapsed.\n",
      "\n",
      "2023-09-01 16:44:34.123921 : Constructing SummarizedExperiment, 0.738 mins elapsed.\n",
      "\n",
      "2023-09-01 16:45:01.01344 : Finished Matrix Creation, 1.186 mins elapsed.\n",
      "\n"
     ]
    }
   ],
   "source": [
    "peak_matrix <- getMatrixFromProject(\n",
    "  ArchRProj = projDLPFC1,\n",
    "  useMatrix = \"PeakMatrix\",\n",
    "  useSeqnames = NULL,\n",
    "  verbose = TRUE,\n",
    "  binarize = TRUE,\n",
    "  threads = getArchRThreads(),\n",
    "  logFile = createLogFile(\"getMatrixFromProject\")\n",
    ")"
   ]
  },
  {
   "cell_type": "code",
   "execution_count": 19,
   "id": "53701ae1-b6a4-4dfa-a0c0-ef4c4f42832a",
   "metadata": {},
   "outputs": [
    {
     "data": {
      "text/plain": [
       "class: RangedSummarizedExperiment \n",
       "dim: 540091 14181 \n",
       "metadata(0):\n",
       "assays(1): PeakMatrix\n",
       "rownames: NULL\n",
       "rowData names(1): idx\n",
       "colnames(14181):\n",
       "  Mouse_embryo_E9.5_7.fragments#Mouse_embryo_E9.5_7_BC0013_N02\n",
       "  Mouse_embryo_E9.5_7.fragments#Mouse_embryo_E9.5_7_BC0018_N02 ...\n",
       "  Mouse_embryo_E9.5_6.fragments#Mouse_embryo_E9.5_6_BC1884_N01\n",
       "  Mouse_embryo_E9.5_6.fragments#Mouse_embryo_E9.5_6_BC1607_N01\n",
       "colData names(14): BlacklistRatio nDiFrags ... TSSEnrichment\n",
       "  projColData[, colnames(projColData) %ni% colnames(colData)]"
      ]
     },
     "metadata": {},
     "output_type": "display_data"
    }
   ],
   "source": [
    "peak_matrix"
   ]
  },
  {
   "cell_type": "code",
   "execution_count": 20,
   "id": "f67b8dff-dceb-4ca7-bc90-fa96388018bd",
   "metadata": {},
   "outputs": [],
   "source": [
    "seqnames_info <- seqnames(peakSet)\n",
    "ranges_info <- ranges(peakSet)\n",
    "seqnames_ranges <- paste(seqnames_info, ranges_info, sep = \"-\")\n",
    "rownames(peak_matrix) <- seqnames_ranges"
   ]
  },
  {
   "cell_type": "code",
   "execution_count": 21,
   "id": "ce010672-2945-4099-907d-c91d7c37b694",
   "metadata": {},
   "outputs": [
    {
     "data": {
      "text/html": [
       "<style>\n",
       ".list-inline {list-style: none; margin:0; padding: 0}\n",
       ".list-inline>li {display: inline-block}\n",
       ".list-inline>li:not(:last-child)::after {content: \"\\00b7\"; padding: 0 .5ex}\n",
       "</style>\n",
       "<ol class=list-inline><li>'chr1-3005395-3005895'</li><li>'chr1-3071746-3072246'</li><li>'chr1-3094725-3095225'</li><li>'chr1-3101644-3102144'</li><li>'chr1-3116760-3117260'</li><li>'chr1-3119439-3119939'</li></ol>\n"
      ],
      "text/latex": [
       "\\begin{enumerate*}\n",
       "\\item 'chr1-3005395-3005895'\n",
       "\\item 'chr1-3071746-3072246'\n",
       "\\item 'chr1-3094725-3095225'\n",
       "\\item 'chr1-3101644-3102144'\n",
       "\\item 'chr1-3116760-3117260'\n",
       "\\item 'chr1-3119439-3119939'\n",
       "\\end{enumerate*}\n"
      ],
      "text/markdown": [
       "1. 'chr1-3005395-3005895'\n",
       "2. 'chr1-3071746-3072246'\n",
       "3. 'chr1-3094725-3095225'\n",
       "4. 'chr1-3101644-3102144'\n",
       "5. 'chr1-3116760-3117260'\n",
       "6. 'chr1-3119439-3119939'\n",
       "\n",
       "\n"
      ],
      "text/plain": [
       "[1] \"chr1-3005395-3005895\" \"chr1-3071746-3072246\" \"chr1-3094725-3095225\"\n",
       "[4] \"chr1-3101644-3102144\" \"chr1-3116760-3117260\" \"chr1-3119439-3119939\""
      ]
     },
     "metadata": {},
     "output_type": "display_data"
    }
   ],
   "source": [
    "head(rownames(peak_matrix))"
   ]
  },
  {
   "cell_type": "code",
   "execution_count": 22,
   "id": "ee8eee00-1594-4093-b020-0696ba96e476",
   "metadata": {
    "tags": []
   },
   "outputs": [],
   "source": [
    "colnames(peak_matrix) <- gsub(\".*#\", \"\", colnames(peak_matrix))"
   ]
  },
  {
   "cell_type": "code",
   "execution_count": null,
   "id": "8aeb244f-b225-428c-9ecd-eabdd7600e4c",
   "metadata": {
    "collapsed": true,
    "jupyter": {
     "outputs_hidden": true
    },
    "tags": []
   },
   "outputs": [],
   "source": []
  },
  {
   "cell_type": "code",
   "execution_count": 23,
   "id": "3664329d-0f80-47cc-922e-e9439445917c",
   "metadata": {},
   "outputs": [],
   "source": [
    "# 获取数据矩阵\n",
    "data_matrix <- assay(peak_matrix)\n",
    "# 将数据矩阵转换为稀疏矩阵\n",
    "sparse_matrix <- as(data_matrix, \"sparseMatrix\")"
   ]
  },
  {
   "cell_type": "code",
   "execution_count": 24,
   "id": "90e8b35e-40f2-45dc-a127-2992bd14c090",
   "metadata": {},
   "outputs": [],
   "source": [
    "# 将稀疏矩阵的非零值设为1\n",
    "# binary_matrix <- as(sparse_matrix, \"CsparseMatrix\")  # 将稀疏矩阵转换为CsparseMatrix\n",
    "# binary_matrix@x[binary_matrix@x != 0] <- 1  # 将非零值设为1"
   ]
  },
  {
   "cell_type": "code",
   "execution_count": 25,
   "id": "b596897d-90e2-47b1-a865-1100acf979e9",
   "metadata": {},
   "outputs": [],
   "source": [
    "library(Seurat)\n",
    "seurat_obj <- CreateSeuratObject(counts = sparse_matrix)\n",
    "obs_names <- colnames(seurat_obj)"
   ]
  },
  {
   "cell_type": "code",
   "execution_count": 26,
   "id": "6c87fae2-9e1f-4a65-b58a-fcfb8dbda1bb",
   "metadata": {},
   "outputs": [],
   "source": [
    "var_names <- rownames(seurat_obj)"
   ]
  },
  {
   "cell_type": "code",
   "execution_count": 27,
   "id": "640c2c95-e02e-44d1-9c2e-7bc92f02c0e1",
   "metadata": {
    "tags": []
   },
   "outputs": [],
   "source": [
    "rna_assay <- seurat_obj[[\"RNA\"]]\n",
    "\n",
    "# 查看 \"RNA\" assay 的值（前100个行和列）\n",
    "# print(rna_assay[1:100, 1:100])"
   ]
  },
  {
   "cell_type": "code",
   "execution_count": 29,
   "id": "6b4505b0-4b81-44ed-a543-947940d45999",
   "metadata": {
    "tags": []
   },
   "outputs": [
    {
     "data": {
      "text/plain": [
       "An object of class Seurat \n",
       "540091 features across 13263 samples within 1 assay \n",
       "Active assay: RNA (540091 features, 0 variable features)"
      ]
     },
     "metadata": {},
     "output_type": "display_data"
    }
   ],
   "source": [
    "# 获取匹配到的观测对象索引\n",
    "filtered_indices <- !is.na(obs_cell_types)\n",
    "# 使用 filtered_indices 子集化 Seurat 对象\n",
    "seurat_obj_filtered <- seurat_obj[,filtered_indices]\n",
    "seurat_obj_filtered$cell_type <- obs_cell_types[filtered_indices]\n",
    "seurat_obj_filtered"
   ]
  },
  {
   "cell_type": "code",
   "execution_count": 30,
   "id": "731f3a6e-852e-4559-a083-89507e54a585",
   "metadata": {},
   "outputs": [],
   "source": [
    "#删除不必要的特征\n",
    "seurat_obj_filtered$orig.ident <- NULL\n",
    "seurat_obj_filtered$nCount_RNA <- NULL\n",
    "seurat_obj_filtered$nFeature_RNA <- NULL"
   ]
  },
  {
   "cell_type": "code",
   "execution_count": 33,
   "id": "2c6c04f2-e00c-4254-a371-64074b3d33ae",
   "metadata": {},
   "outputs": [
    {
     "name": "stderr",
     "output_type": "stream",
     "text": [
      "Creating h5Seurat file for version 3.1.5.9900\n",
      "\n",
      "Adding counts for RNA\n",
      "\n",
      "Adding data for RNA\n",
      "\n",
      "No variable features found for RNA\n",
      "\n",
      "No feature-level metadata found for RNA\n",
      "\n",
      "Validating h5Seurat file\n",
      "\n",
      "Adding data from RNA as X\n",
      "\n",
      "Adding counts from RNA as raw\n",
      "\n",
      "Transfering meta.data to obs\n",
      "\n"
     ]
    }
   ],
   "source": [
    "library(SeuratDisk)\n",
    "\n",
    "SaveH5Seurat(seurat_obj_filtered, filename = \"/mnt/disk1/xiaojk/data/mouse/Mouse_embryo_E9.5_v2.h5Seurat\")\n",
    "Convert(\"//mnt/disk1/xiaojk/data/mouse/Mouse_embryo_E9.5_v2.h5Seurat\",dest = \"h5ad\")"
   ]
  },
  {
   "cell_type": "code",
   "execution_count": null,
   "id": "7ab2c02e-4a07-4964-a78b-82a733581fb4",
   "metadata": {},
   "outputs": [],
   "source": []
  }
 ],
 "metadata": {
  "kernelspec": {
   "display_name": "R",
   "language": "R",
   "name": "ir"
  },
  "language_info": {
   "codemirror_mode": "r",
   "file_extension": ".r",
   "mimetype": "text/x-r-source",
   "name": "R",
   "pygments_lexer": "r",
   "version": "4.3.1"
  }
 },
 "nbformat": 4,
 "nbformat_minor": 5
}
