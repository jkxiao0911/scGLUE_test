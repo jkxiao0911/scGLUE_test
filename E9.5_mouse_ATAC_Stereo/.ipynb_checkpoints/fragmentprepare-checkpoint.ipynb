{
 "cells": [
  {
   "cell_type": "code",
   "execution_count": 1,
   "id": "68718835-2b6c-4d31-b42d-12181aea48e3",
   "metadata": {
    "tags": []
   },
   "outputs": [
    {
     "name": "stderr",
     "output_type": "stream",
     "text": [
      "\n",
      "                                                   / |\n",
      "                                                 /    \\\n",
      "            .                                  /      |.\n",
      "            \\\\\\                              /        |.\n",
      "              \\\\\\                          /           `|.\n",
      "                \\\\\\                      /              |.\n",
      "                  \\                    /                |\\\n",
      "                  \\\\#####\\           /                  ||\n",
      "                ==###########>      /                   ||\n",
      "                 \\\\##==......\\    /                     ||\n",
      "            ______ =       =|__ /__                     ||      \\\\\\\n",
      "        ,--' ,----`-,__ ___/'  --,-`-===================##========>\n",
      "       \\               '        ##_______ _____ ,--,__,=##,__   ///\n",
      "        ,    __==    ___,-,__,--'#'  ==='      `-'    | ##,-/\n",
      "        -,____,---'       \\\\####\\\\________________,--\\\\_##,/\n",
      "           ___      .______        ______  __    __  .______      \n",
      "          /   \\     |   _  \\      /      ||  |  |  | |   _  \\     \n",
      "         /  ^  \\    |  |_)  |    |  ,----'|  |__|  | |  |_)  |    \n",
      "        /  /_\\  \\   |      /     |  |     |   __   | |      /     \n",
      "       /  _____  \\  |  |\\  \\\\___ |  `----.|  |  |  | |  |\\  \\\\___.\n",
      "      /__/     \\__\\ | _| `._____| \\______||__|  |__| | _| `._____|\n",
      "    \n",
      "\n",
      "ArchR : Version 1.0.2\n",
      "For more information see our website : www.ArchRProject.com\n",
      "If you encounter a bug please report : https://github.com/GreenleafLab/ArchR/issues\n",
      "\n",
      "Loading Required Packages...\n",
      "\n",
      "\tLoading Package : grid v4.3.1\n",
      "\n",
      "\tLoading Package : gridExtra v2.3\n",
      "\n",
      "\tLoading Package : gtools v3.9.4\n",
      "\n",
      "\tLoading Package : gtable v0.3.3\n",
      "\n",
      "\tLoading Package : ggplot2 v3.4.3\n",
      "\n",
      "\tLoading Package : magrittr v2.0.3\n",
      "\n",
      "\tLoading Package : plyr v1.8.8\n",
      "\n",
      "\tLoading Package : stringr v1.5.0\n",
      "\n",
      "\tLoading Package : data.table v1.14.8\n",
      "\n",
      "\tLoading Package : matrixStats v1.0.0\n",
      "\n",
      "\tLoading Package : S4Vectors v0.38.1\n",
      "\n",
      "\tLoading Package : GenomicRanges v1.52.0\n",
      "\n",
      "\tLoading Package : BiocGenerics v0.46.0\n",
      "\n",
      "\tLoading Package : Matrix v1.6.1\n",
      "\n",
      "\tLoading Package : Rcpp v1.0.11\n",
      "\n",
      "\tLoading Package : SummarizedExperiment v1.30.2\n",
      "\n",
      "\tLoading Package : rhdf5 v2.44.0\n",
      "\n"
     ]
    }
   ],
   "source": [
    "library(ArchR)"
   ]
  },
  {
   "cell_type": "code",
   "execution_count": 2,
   "id": "585d9811-04c6-472e-b50f-b92ccd4dacdc",
   "metadata": {},
   "outputs": [
    {
     "name": "stderr",
     "output_type": "stream",
     "text": [
      "Setting default number of Parallel threads to 48.\n",
      "\n"
     ]
    }
   ],
   "source": [
    "addArchRThreads(threads = 12)"
   ]
  },
  {
   "cell_type": "code",
   "execution_count": 3,
   "id": "2069c324-5e9a-47dc-8600-520a95a21676",
   "metadata": {},
   "outputs": [
    {
     "name": "stderr",
     "output_type": "stream",
     "text": [
      "Setting default genome to Mm10.\n",
      "\n"
     ]
    }
   ],
   "source": [
    "addArchRGenome(\"mm10\")"
   ]
  },
  {
   "cell_type": "code",
   "execution_count": 8,
   "id": "1e420339-35e7-4ae4-9466-250034c27ff4",
   "metadata": {},
   "outputs": [
    {
     "data": {
      "text/html": [
       "TRUE"
      ],
      "text/latex": [
       "TRUE"
      ],
      "text/markdown": [
       "TRUE"
      ],
      "text/plain": [
       "[1] TRUE"
      ]
     },
     "metadata": {},
     "output_type": "display_data"
    }
   ],
   "source": [
    "file.exists(\"/mnt/disk1/xiaojk/data/mouse/Mouse_embryo_E9.5_1.fragments.tsv.gz\")"
   ]
  },
  {
   "cell_type": "code",
   "execution_count": 9,
   "id": "97f18e8a-720e-4d7d-a1b6-1047e26e0c5c",
   "metadata": {},
   "outputs": [
    {
     "name": "stderr",
     "output_type": "stream",
     "text": [
      "filterFrags is no longer a valid input. Please use minFrags! Setting filterFrags value to minFrags!\n",
      "\n",
      "filterTSS is no longer a valid input. Please use minTSS! Setting filterTSS value to minTSS!\n",
      "\n",
      "Using GeneAnnotation set by addArchRGenome(Mm10)!\n",
      "\n",
      "Using GeneAnnotation set by addArchRGenome(Mm10)!\n",
      "\n",
      "ArchR logging to : ArchRLogs/ArchR-createArrows-3077f16b41f6ca-Date-2023-09-01_Time-14-45-53.938774.log\n",
      "If there is an issue, please report to github with logFile!\n",
      "\n",
      "Cleaning Temporary Files\n",
      "\n",
      "2023-09-01 14:45:54.266955 : Batch Execution w/ safelapply!, 0 mins elapsed.\n",
      "\n",
      "(Mouse_embryo_E9.5_1.fragments : 1 of 1) Checking if completed file exists!\n",
      "\n",
      "2023-09-01 14:45:54.333683 : (Mouse_embryo_E9.5_1.fragments : 1 of 1) Arrow Exists! Marking as completed since force = FALSE!, 0.001 mins elapsed.\n",
      "\n",
      "ArchR logging successful to : ArchRLogs/ArchR-createArrows-3077f16b41f6ca-Date-2023-09-01_Time-14-45-53.938774.log\n",
      "\n"
     ]
    }
   ],
   "source": [
    "# 构建包含所有文件路径的向量\n",
    "file_names <- sprintf(\"/mnt/disk1/xiaojk/data/mouse/Mouse_embryo_E9.5_%d.fragments.tsv.gz\", 6:10)\n",
    "# 构建与文件数量相匹配的样本名向量\n",
    "sample_names <- sprintf(\"Mouse_embryo_E9.5_%d.fragments\", 6:10)\n",
    "\n",
    "# 调用 createArrowFiles 函数\n",
    "ArrowFiles <- createArrowFiles(\n",
    "  inputFiles = file_names,\n",
    "  sampleNames = sample_names,\n",
    "  filterTSS = 4,\n",
    "  filterFrags = 1000,\n",
    "  addTileMat = TRUE,\n",
    "  addGeneScoreMat = TRUE\n",
    ")"
   ]
  },
  {
   "cell_type": "code",
   "execution_count": 10,
   "id": "0be60399-b657-4790-8eae-17768f048389",
   "metadata": {},
   "outputs": [
    {
     "data": {
      "text/html": [
       "'Mouse_embryo_E9.5_1.fragments.arrow'"
      ],
      "text/latex": [
       "'Mouse\\_embryo\\_E9.5\\_1.fragments.arrow'"
      ],
      "text/markdown": [
       "'Mouse_embryo_E9.5_1.fragments.arrow'"
      ],
      "text/plain": [
       "[1] \"Mouse_embryo_E9.5_1.fragments.arrow\""
      ]
     },
     "metadata": {},
     "output_type": "display_data"
    }
   ],
   "source": [
    "ArrowFiles"
   ]
  },
  {
   "cell_type": "code",
   "execution_count": 11,
   "id": "b94799a1-815d-41cd-a647-2483632cbf26",
   "metadata": {
    "tags": []
   },
   "outputs": [
    {
     "name": "stderr",
     "output_type": "stream",
     "text": [
      "Using GeneAnnotation set by addArchRGenome(Mm10)!\n",
      "\n",
      "Using GeneAnnotation set by addArchRGenome(Mm10)!\n",
      "\n",
      "Validating Arrows...\n",
      "\n",
      "Getting SampleNames...\n",
      "\n",
      "1 \n",
      "\n",
      "\n",
      "Copying ArrowFiles to Ouptut Directory! If you want to save disk space set copyArrows = FALSE\n",
      "\n",
      "1 \n",
      "\n",
      "\n",
      "Getting Cell Metadata...\n",
      "\n",
      "1 \n",
      "\n",
      "\n",
      "Merging Cell Metadata...\n",
      "\n",
      "Initializing ArchRProject...\n",
      "\n",
      "\n",
      "                                                   / |\n",
      "                                                 /    \\\n",
      "            .                                  /      |.\n",
      "            \\\\\\                              /        |.\n",
      "              \\\\\\                          /           `|.\n",
      "                \\\\\\                      /              |.\n",
      "                  \\                    /                |\\\n",
      "                  \\\\#####\\           /                  ||\n",
      "                ==###########>      /                   ||\n",
      "                 \\\\##==......\\    /                     ||\n",
      "            ______ =       =|__ /__                     ||      \\\\\\\n",
      "        ,--' ,----`-,__ ___/'  --,-`-===================##========>\n",
      "       \\               '        ##_______ _____ ,--,__,=##,__   ///\n",
      "        ,    __==    ___,-,__,--'#'  ==='      `-'    | ##,-/\n",
      "        -,____,---'       \\\\####\\\\________________,--\\\\_##,/\n",
      "           ___      .______        ______  __    __  .______      \n",
      "          /   \\     |   _  \\      /      ||  |  |  | |   _  \\     \n",
      "         /  ^  \\    |  |_)  |    |  ,----'|  |__|  | |  |_)  |    \n",
      "        /  /_\\  \\   |      /     |  |     |   __   | |      /     \n",
      "       /  _____  \\  |  |\\  \\\\___ |  `----.|  |  |  | |  |\\  \\\\___.\n",
      "      /__/     \\__\\ | _| `._____| \\______||__|  |__| | _| `._____|\n",
      "    \n",
      "\n"
     ]
    }
   ],
   "source": [
    "projDLPFC1 <- ArchRProject(\n",
    "  ArrowFiles = ArrowFiles,\n",
    "  outputDirectory = \"/mnt/disk1/xiaojk/data/mouse/\",\n",
    "  copyArrows = TRUE #This is recommened so that if you modify the Arrow files you have an original copy for later usage.\n",
    ")"
   ]
  },
  {
   "cell_type": "code",
   "execution_count": 12,
   "id": "9cf81d43-2c01-47f6-a7a2-e413fe38085d",
   "metadata": {},
   "outputs": [
    {
     "name": "stderr",
     "output_type": "stream",
     "text": [
      "\n",
      "           ___      .______        ______  __    __  .______      \n",
      "          /   \\     |   _  \\      /      ||  |  |  | |   _  \\     \n",
      "         /  ^  \\    |  |_)  |    |  ,----'|  |__|  | |  |_)  |    \n",
      "        /  /_\\  \\   |      /     |  |     |   __   | |      /     \n",
      "       /  _____  \\  |  |\\  \\\\___ |  `----.|  |  |  | |  |\\  \\\\___.\n",
      "      /__/     \\__\\ | _| `._____| \\______||__|  |__| | _| `._____|\n",
      "    \n",
      "\n"
     ]
    },
    {
     "data": {
      "text/plain": [
       "class: ArchRProject \n",
       "outputDirectory: /mnt/disk1/xiaojk/data/mouse \n",
       "samples(1): Mouse_embryo_E9.5_1.fragments\n",
       "sampleColData names(1): ArrowFiles\n",
       "cellColData names(13): Sample TSSEnrichment ... nDiFrags BlacklistRatio\n",
       "numberOfCells(1): 4153\n",
       "medianTSS(1): 14.443\n",
       "medianFrags(1): 20498"
      ]
     },
     "metadata": {},
     "output_type": "display_data"
    }
   ],
   "source": [
    "projDLPFC1"
   ]
  },
  {
   "cell_type": "code",
   "execution_count": 13,
   "id": "1ac0e813-eb32-4f2b-9f70-d06807707360",
   "metadata": {},
   "outputs": [
    {
     "data": {
      "text/html": [
       "'Memory Size = 29.755 MB'"
      ],
      "text/latex": [
       "'Memory Size = 29.755 MB'"
      ],
      "text/markdown": [
       "'Memory Size = 29.755 MB'"
      ],
      "text/plain": [
       "[1] \"Memory Size = 29.755 MB\""
      ]
     },
     "metadata": {},
     "output_type": "display_data"
    },
    {
     "data": {
      "text/html": [
       "<style>\n",
       ".list-inline {list-style: none; margin:0; padding: 0}\n",
       ".list-inline>li {display: inline-block}\n",
       ".list-inline>li:not(:last-child)::after {content: \"\\00b7\"; padding: 0 .5ex}\n",
       "</style>\n",
       "<ol class=list-inline><li>'GeneScoreMatrix'</li><li>'TileMatrix'</li></ol>\n"
      ],
      "text/latex": [
       "\\begin{enumerate*}\n",
       "\\item 'GeneScoreMatrix'\n",
       "\\item 'TileMatrix'\n",
       "\\end{enumerate*}\n"
      ],
      "text/markdown": [
       "1. 'GeneScoreMatrix'\n",
       "2. 'TileMatrix'\n",
       "\n",
       "\n"
      ],
      "text/plain": [
       "[1] \"GeneScoreMatrix\" \"TileMatrix\"     "
      ]
     },
     "metadata": {},
     "output_type": "display_data"
    }
   ],
   "source": [
    "paste0(\"Memory Size = \", round(object.size(projDLPFC1) / 10^6, 3), \" MB\")\n",
    "getAvailableMatrices(projDLPFC1)"
   ]
  },
  {
   "cell_type": "code",
   "execution_count": 14,
   "id": "0c5575c3-bb3c-4651-9eec-c9819595c2e2",
   "metadata": {},
   "outputs": [
    {
     "name": "stderr",
     "output_type": "stream",
     "text": [
      "Checking Inputs...\n",
      "\n",
      "ArchR logging to : ArchRLogs/ArchR-addIterativeLSI-3077f166f9998f-Date-2023-09-01_Time-14-46-22.971213.log\n",
      "If there is an issue, please report to github with logFile!\n",
      "\n",
      "2023-09-01 14:46:23.080146 : Computing Total Across All Features, 0 mins elapsed.\n",
      "\n",
      "2023-09-01 14:46:27.141343 : Computing Top Features, 0.068 mins elapsed.\n",
      "\n",
      "###########\n",
      "2023-09-01 14:46:28.446292 : Running LSI (1 of 2) on Top Features, 0.09 mins elapsed.\n",
      "###########\n",
      "\n",
      "2023-09-01 14:46:28.46306 : Creating Partial Matrix, 0.09 mins elapsed.\n",
      "\n",
      "2023-09-01 14:46:49.409449 : Computing LSI, 0.439 mins elapsed.\n",
      "\n",
      "2023-09-01 14:47:08.908491 : Identifying Clusters, 0.764 mins elapsed.\n",
      "\n",
      "2023-09-01 14:47:17.435947 : Identified 7 Clusters, 0.906 mins elapsed.\n",
      "\n",
      "2023-09-01 14:47:17.455862 : Saving LSI Iteration, 0.907 mins elapsed.\n",
      "\n",
      "2023-09-01 14:47:30.596186 : Creating Cluster Matrix on the total Group Features, 1.126 mins elapsed.\n",
      "\n",
      "2023-09-01 14:47:38.688897 : Computing Variable Features, 1.261 mins elapsed.\n",
      "\n",
      "###########\n",
      "2023-09-01 14:47:38.96944 : Running LSI (2 of 2) on Variable Features, 1.265 mins elapsed.\n",
      "###########\n",
      "\n",
      "2023-09-01 14:47:38.989854 : Creating Partial Matrix, 1.266 mins elapsed.\n",
      "\n",
      "2023-09-01 14:47:58.382935 : Computing LSI, 1.589 mins elapsed.\n",
      "\n",
      "2023-09-01 14:48:14.981104 : Finished Running IterativeLSI, 1.865 mins elapsed.\n",
      "\n"
     ]
    }
   ],
   "source": [
    "projDLPFC1 <- addIterativeLSI(\n",
    "    ArchRProj = projDLPFC1,\n",
    "    useMatrix = \"TileMatrix\", \n",
    "    name = \"IterativeLSI\", \n",
    "    iterations = 2, \n",
    "    clusterParams = list( #See Seurat::FindClusters\n",
    "        resolution = c(0.2), \n",
    "        sampleCells = 10000, \n",
    "        n.start = 10\n",
    "    ), \n",
    "    varFeatures = 25000, \n",
    "    dimsToUse = 1:30\n",
    ")"
   ]
  },
  {
   "cell_type": "code",
   "execution_count": 15,
   "id": "9e62f8cf-75fc-4dc2-a44d-e6f6cbaf033d",
   "metadata": {},
   "outputs": [
    {
     "name": "stderr",
     "output_type": "stream",
     "text": [
      "ArchR logging to : ArchRLogs/ArchR-addClusters-3077f143ad2404-Date-2023-09-01_Time-14-48-15.0078.log\n",
      "If there is an issue, please report to github with logFile!\n",
      "\n",
      "2023-09-01 14:48:15.188474 : Running Seurats FindClusters (Stuart et al. Cell 2019), 0.002 mins elapsed.\n",
      "\n",
      "Computing nearest neighbor graph\n",
      "\n",
      "Computing SNN\n",
      "\n"
     ]
    },
    {
     "name": "stdout",
     "output_type": "stream",
     "text": [
      "Modularity Optimizer version 1.3.0 by Ludo Waltman and Nees Jan van Eck\n",
      "\n",
      "Number of nodes: 4153\n",
      "Number of edges: 135227\n",
      "\n",
      "Running Louvain algorithm...\n",
      "Maximum modularity in 10 random starts: 0.8828\n",
      "Number of communities: 19\n",
      "Elapsed time: 0 seconds\n"
     ]
    },
    {
     "name": "stderr",
     "output_type": "stream",
     "text": [
      "2023-09-01 14:48:20.068723 : Testing Biased Clusters, 0.083 mins elapsed.\n",
      "\n",
      "2023-09-01 14:48:20.179634 : Testing Outlier Clusters, 0.085 mins elapsed.\n",
      "\n",
      "2023-09-01 14:48:20.183234 : Assigning Cluster Names to 19 Clusters, 0.085 mins elapsed.\n",
      "\n",
      "2023-09-01 14:48:20.269974 : Finished addClusters, 0.086 mins elapsed.\n",
      "\n"
     ]
    }
   ],
   "source": [
    "projDLPFC1 <- addClusters(\n",
    "    input = projDLPFC1,\n",
    "    reducedDims = \"IterativeLSI\",\n",
    "    method = \"Seurat\",\n",
    "    name = \"Clusters\",\n",
    "    resolution = 0.8\n",
    ")"
   ]
  },
  {
   "cell_type": "code",
   "execution_count": 16,
   "id": "5dfa3d92-6012-4160-8a23-8900c7a3f8a5",
   "metadata": {},
   "outputs": [
    {
     "data": {
      "text/html": [
       "<style>\n",
       ".list-inline {list-style: none; margin:0; padding: 0}\n",
       ".list-inline>li {display: inline-block}\n",
       ".list-inline>li:not(:last-child)::after {content: \"\\00b7\"; padding: 0 .5ex}\n",
       "</style>\n",
       "<ol class=list-inline><li>'C9'</li><li>'C7'</li><li>'C11'</li><li>'C13'</li><li>'C13'</li><li>'C10'</li></ol>\n"
      ],
      "text/latex": [
       "\\begin{enumerate*}\n",
       "\\item 'C9'\n",
       "\\item 'C7'\n",
       "\\item 'C11'\n",
       "\\item 'C13'\n",
       "\\item 'C13'\n",
       "\\item 'C10'\n",
       "\\end{enumerate*}\n"
      ],
      "text/markdown": [
       "1. 'C9'\n",
       "2. 'C7'\n",
       "3. 'C11'\n",
       "4. 'C13'\n",
       "5. 'C13'\n",
       "6. 'C10'\n",
       "\n",
       "\n"
      ],
      "text/plain": [
       "[1] \"C9\"  \"C7\"  \"C11\" \"C13\" \"C13\" \"C10\""
      ]
     },
     "metadata": {},
     "output_type": "display_data"
    },
    {
     "data": {
      "text/plain": [
       "\n",
       " C1 C10 C11 C12 C13 C14 C15 C16 C17 C18 C19  C2  C3  C4  C5  C6  C7  C8  C9 \n",
       "313 323 277 261 350  75  49 104  95 306 501  79 235  18  37 223 184 575 148 "
      ]
     },
     "metadata": {},
     "output_type": "display_data"
    }
   ],
   "source": [
    "head(projDLPFC1$Clusters)\n",
    "table(projDLPFC1$Clusters)"
   ]
  },
  {
   "cell_type": "code",
   "execution_count": 17,
   "id": "e594962c-3c78-4427-958e-24837a624900",
   "metadata": {
    "collapsed": true,
    "jupyter": {
     "outputs_hidden": true
    },
    "tags": []
   },
   "outputs": [
    {
     "name": "stderr",
     "output_type": "stream",
     "text": [
      "ArchR logging to : ArchRLogs/ArchR-addGroupCoverages-3077f141f4b1dd-Date-2023-09-01_Time-14-48-20.316718.log\n",
      "If there is an issue, please report to github with logFile!\n",
      "\n",
      "C1 (1 of 19) : CellGroups N = 2\n",
      "\n",
      "C2 (2 of 19) : CellGroups N = 2\n",
      "\n",
      "C3 (3 of 19) : CellGroups N = 2\n",
      "\n",
      "C4 (4 of 19) : CellGroups N = 2\n",
      "\n",
      "C5 (5 of 19) : CellGroups N = 2\n",
      "\n",
      "C6 (6 of 19) : CellGroups N = 2\n",
      "\n",
      "C7 (7 of 19) : CellGroups N = 2\n",
      "\n",
      "C8 (8 of 19) : CellGroups N = 2\n",
      "\n",
      "C9 (9 of 19) : CellGroups N = 2\n",
      "\n",
      "C10 (10 of 19) : CellGroups N = 2\n",
      "\n",
      "C11 (11 of 19) : CellGroups N = 2\n",
      "\n",
      "C12 (12 of 19) : CellGroups N = 2\n",
      "\n",
      "C13 (13 of 19) : CellGroups N = 2\n",
      "\n",
      "C14 (14 of 19) : CellGroups N = 2\n",
      "\n",
      "C15 (15 of 19) : CellGroups N = 2\n",
      "\n",
      "C16 (16 of 19) : CellGroups N = 2\n",
      "\n",
      "C17 (17 of 19) : CellGroups N = 2\n",
      "\n",
      "C18 (18 of 19) : CellGroups N = 2\n",
      "\n",
      "C19 (19 of 19) : CellGroups N = 2\n",
      "\n",
      "2023-09-01 14:48:22.129604 : Creating Coverage Files!, 0.03 mins elapsed.\n",
      "\n",
      "2023-09-01 14:48:22.13204 : Batch Execution w/ safelapply!, 0.03 mins elapsed.\n",
      "\n",
      "2023-09-01 14:49:24.892519 : Adding Kmer Bias to Coverage Files!, 1.076 mins elapsed.\n",
      "\n",
      "Completed Kmer Bias Calculation\n",
      "\n",
      "Adding Kmer Bias (1 of 38)\n",
      "\n",
      "Adding Kmer Bias (2 of 38)\n",
      "\n",
      "Adding Kmer Bias (3 of 38)\n",
      "\n",
      "Adding Kmer Bias (4 of 38)\n",
      "\n",
      "Adding Kmer Bias (5 of 38)\n",
      "\n",
      "Adding Kmer Bias (6 of 38)\n",
      "\n",
      "Adding Kmer Bias (7 of 38)\n",
      "\n",
      "Adding Kmer Bias (8 of 38)\n",
      "\n",
      "Adding Kmer Bias (9 of 38)\n",
      "\n",
      "Adding Kmer Bias (10 of 38)\n",
      "\n",
      "Adding Kmer Bias (11 of 38)\n",
      "\n",
      "Adding Kmer Bias (12 of 38)\n",
      "\n",
      "Adding Kmer Bias (13 of 38)\n",
      "\n",
      "Adding Kmer Bias (14 of 38)\n",
      "\n",
      "Adding Kmer Bias (15 of 38)\n",
      "\n",
      "Adding Kmer Bias (16 of 38)\n",
      "\n",
      "Adding Kmer Bias (17 of 38)\n",
      "\n",
      "Adding Kmer Bias (18 of 38)\n",
      "\n",
      "Adding Kmer Bias (19 of 38)\n",
      "\n",
      "Adding Kmer Bias (20 of 38)\n",
      "\n",
      "Adding Kmer Bias (21 of 38)\n",
      "\n",
      "Adding Kmer Bias (22 of 38)\n",
      "\n",
      "Adding Kmer Bias (23 of 38)\n",
      "\n",
      "Adding Kmer Bias (24 of 38)\n",
      "\n",
      "Adding Kmer Bias (25 of 38)\n",
      "\n",
      "Adding Kmer Bias (26 of 38)\n",
      "\n",
      "Adding Kmer Bias (27 of 38)\n",
      "\n",
      "Adding Kmer Bias (28 of 38)\n",
      "\n",
      "Adding Kmer Bias (29 of 38)\n",
      "\n",
      "Adding Kmer Bias (30 of 38)\n",
      "\n",
      "Adding Kmer Bias (31 of 38)\n",
      "\n",
      "Adding Kmer Bias (32 of 38)\n",
      "\n",
      "Adding Kmer Bias (33 of 38)\n",
      "\n",
      "Adding Kmer Bias (34 of 38)\n",
      "\n",
      "Adding Kmer Bias (35 of 38)\n",
      "\n",
      "Adding Kmer Bias (36 of 38)\n",
      "\n",
      "Adding Kmer Bias (37 of 38)\n",
      "\n",
      "Adding Kmer Bias (38 of 38)\n",
      "\n",
      "2023-09-01 14:50:31.901279 : Finished Creation of Coverage Files!, 2.193 mins elapsed.\n",
      "\n",
      "ArchR logging successful to : ArchRLogs/ArchR-addGroupCoverages-3077f141f4b1dd-Date-2023-09-01_Time-14-48-20.316718.log\n",
      "\n"
     ]
    }
   ],
   "source": [
    "projDLPFC1 <- addGroupCoverages(ArchRProj = projDLPFC1, groupBy = \"Clusters\")"
   ]
  },
  {
   "cell_type": "code",
   "execution_count": 18,
   "id": "750a82a8-087c-40af-9b3d-dadc4b037608",
   "metadata": {
    "collapsed": true,
    "jupyter": {
     "outputs_hidden": true
    },
    "tags": []
   },
   "outputs": [
    {
     "name": "stderr",
     "output_type": "stream",
     "text": [
      "ArchR logging to : ArchRLogs/ArchR-addReproduciblePeakSet-3077f14436913-Date-2023-09-01_Time-14-50-32.350956.log\n",
      "If there is an issue, please report to github with logFile!\n",
      "\n",
      "Calling Peaks with Macs2\n",
      "\n",
      "2023-09-01 14:50:32.535557 : Peak Calling Parameters!, 0.003 mins elapsed.\n",
      "\n"
     ]
    },
    {
     "name": "stdout",
     "output_type": "stream",
     "text": [
      "    Group nCells nCellsUsed nReplicates nMin nMax maxPeaks\n",
      "C1     C1    313        313           2   40  273   150000\n",
      "C2     C2     79         65           2   40   40    32500\n",
      "C3     C3    235        235           2   40  195   117500\n",
      "C4     C4     18         18           2   14   15     9000\n",
      "C5     C5     37         35           2   22   25    17500\n",
      "C6     C6    223        223           2   40  183   111500\n",
      "C7     C7    184        184           2   40  144    92000\n",
      "C8     C8    575        540           2   40  500   150000\n",
      "C9     C9    148        148           2   40  108    74000\n",
      "C10   C10    323        323           2   40  283   150000\n",
      "C11   C11    277        277           2   40  237   138500\n",
      "C12   C12    261        261           2   40  221   130500\n",
      "C13   C13    350        350           2   40  310   150000\n",
      "C14   C14     75         63           2   40   40    31500\n",
      "C15   C15     49         45           2   27   31    22500\n",
      "C16   C16    104        104           2   40   64    52000\n",
      "C17   C17     95         95           2   40   55    47500\n",
      "C18   C18    306        306           2   40  266   150000\n",
      "C19   C19    501        501           2   40  461   150000\n"
     ]
    },
    {
     "name": "stderr",
     "output_type": "stream",
     "text": [
      "2023-09-01 14:50:32.547036 : Batching Peak Calls!, 0.003 mins elapsed.\n",
      "\n",
      "2023-09-01 14:50:32.556291 : Batch Execution w/ safelapply!, 0 mins elapsed.\n",
      "\n",
      "2023-09-01 14:53:09.107525 : Identifying Reproducible Peaks!, 2.613 mins elapsed.\n",
      "\n",
      "2023-09-01 14:53:16.707893 : Creating Union Peak Set!, 2.739 mins elapsed.\n",
      "\n",
      "Converged after 6 iterations!\n",
      "\n",
      "Plotting Ggplot!\n",
      "\n",
      "2023-09-01 14:53:28.005305 : Finished Creating Union Peak Set (270168)!, 2.928 mins elapsed.\n",
      "\n"
     ]
    }
   ],
   "source": [
    "pathToMacs2 <- \"/mnt/disk1/xiaojk/anaconda/envs/ArchR/bin/macs2\"\n",
    "projDLPFC1 <- addReproduciblePeakSet(\n",
    "    ArchRProj = projDLPFC1, \n",
    "    groupBy = \"Clusters\", \n",
    "    pathToMacs2 = pathToMacs2\n",
    ")"
   ]
  },
  {
   "cell_type": "code",
   "execution_count": 19,
   "id": "023ae1c1-6304-45b9-9dca-5f246a3f30e3",
   "metadata": {
    "collapsed": true,
    "jupyter": {
     "outputs_hidden": true
    },
    "tags": []
   },
   "outputs": [
    {
     "data": {
      "text/plain": [
       "GRanges object with 270168 ranges and 13 metadata columns:\n",
       "      seqnames              ranges strand |     score replicateScoreQuantile\n",
       "         <Rle>           <IRanges>  <Rle> | <numeric>              <numeric>\n",
       "   C9     chr1     3071773-3072273      * |  14.39830                  0.740\n",
       "  C11     chr1     3086927-3087427      * |   3.43721                  0.491\n",
       "  C14     chr1     3093976-3094476      * |   5.30921                  0.735\n",
       "   C8     chr1     3191555-3192055      * |  19.70590                  0.666\n",
       "   C8     chr1     3253492-3253992      * |   2.23267                  0.237\n",
       "  ...      ...                 ...    ... .       ...                    ...\n",
       "   C3     chrX 169923329-169923829      * |   3.50548                  0.502\n",
       "  C18     chrX 169925787-169926287      * |  11.36260                  0.882\n",
       "  C19     chrX 169935798-169936298      * |   7.06359                  0.779\n",
       "   C3     chrX 169937086-169937586      * |  20.75480                  0.768\n",
       "  C14     chrX 169949307-169949807      * |   8.49909                  0.871\n",
       "      groupScoreQuantile Reproducibility GroupReplicate distToGeneStart\n",
       "               <numeric>       <numeric>    <character>       <integer>\n",
       "   C9              0.418               2      C9._.Rep1          599474\n",
       "  C11              0.151               2     C11._.Rep2          584320\n",
       "  C14              0.583               2     C14._.Rep2          577271\n",
       "   C8              0.306               2      C8._.Rep1          479692\n",
       "   C8              0.041               2      C8._.Rep2          417755\n",
       "  ...                ...             ...            ...             ...\n",
       "   C3              0.134               2      C3._.Rep2          143943\n",
       "  C18              0.696               2     C18._.Rep2          146401\n",
       "  C19              0.478               2     C19._.Rep2          156412\n",
       "   C3              0.455               2      C3._.Rep1          157700\n",
       "  C14              0.747               2     C14._.Rep2          169921\n",
       "        nearestGene    peakType distToTSS  nearestTSS        GC       idx\n",
       "        <character> <character> <integer> <character> <numeric> <integer>\n",
       "   C9          Xkr4      Distal    143608  uc007aet.1    0.4271         1\n",
       "  C11          Xkr4      Distal    128454  uc007aet.1    0.4651         2\n",
       "  C14          Xkr4      Distal    121405  uc007aet.1    0.5289         3\n",
       "   C8          Xkr4      Distal     23826  uc007aet.1    0.4092         4\n",
       "   C8          Xkr4    Intronic     38109  uc007aet.1    0.4072         5\n",
       "  ...           ...         ...       ...         ...       ...       ...\n",
       "   C3 4933400A11Rik    Intronic      3374  uc009uyf.1    0.4331      4585\n",
       "  C18 4933400A11Rik    Intronic       916  uc009uyf.1    0.4731      4586\n",
       "  C19 4933400A11Rik    Intronic      9093  uc009uyf.1    0.5130      4587\n",
       "   C3 4933400A11Rik    Intronic     10381  uc009uyf.1    0.4251      4588\n",
       "  C14 4933400A11Rik    Intronic     22602  uc009uyf.1    0.3952      4589\n",
       "              N\n",
       "      <numeric>\n",
       "   C9         0\n",
       "  C11         0\n",
       "  C14         0\n",
       "   C8         0\n",
       "   C8         0\n",
       "  ...       ...\n",
       "   C3         0\n",
       "  C18         0\n",
       "  C19         0\n",
       "   C3         0\n",
       "  C14         0\n",
       "  -------\n",
       "  seqinfo: 20 sequences from an unspecified genome; no seqlengths"
      ]
     },
     "metadata": {},
     "output_type": "display_data"
    }
   ],
   "source": [
    "peakSet <- getPeakSet(projDLPFC1)\n",
    "peakSet"
   ]
  },
  {
   "cell_type": "code",
   "execution_count": 20,
   "id": "81ac622a-c6e2-4460-b56b-1d24e9b8b594",
   "metadata": {
    "collapsed": true,
    "jupyter": {
     "outputs_hidden": true
    },
    "tags": []
   },
   "outputs": [
    {
     "name": "stderr",
     "output_type": "stream",
     "text": [
      "ArchR logging to : ArchRLogs/ArchR-addPeakMatrix-3077f11eee85e3-Date-2023-09-01_Time-14-53-28.090977.log\n",
      "If there is an issue, please report to github with logFile!\n",
      "\n",
      "2023-09-01 14:53:28.213258 : Batch Execution w/ safelapply!, 0 mins elapsed.\n",
      "\n",
      "2023-09-01 14:53:29.029594 : Adding Mouse_embryo_E9.5_1.fragments to PeakMatrix for Chr (1 of 20)!, 0.013 mins elapsed.\n",
      "\n",
      "2023-09-01 14:53:36.302828 : Adding Mouse_embryo_E9.5_1.fragments to PeakMatrix for Chr (2 of 20)!, 0.134 mins elapsed.\n",
      "\n",
      "2023-09-01 14:53:43.414016 : Adding Mouse_embryo_E9.5_1.fragments to PeakMatrix for Chr (3 of 20)!, 0.252 mins elapsed.\n",
      "\n",
      "2023-09-01 14:53:48.927377 : Adding Mouse_embryo_E9.5_1.fragments to PeakMatrix for Chr (4 of 20)!, 0.344 mins elapsed.\n",
      "\n",
      "2023-09-01 14:53:56.182318 : Adding Mouse_embryo_E9.5_1.fragments to PeakMatrix for Chr (5 of 20)!, 0.465 mins elapsed.\n",
      "\n",
      "2023-09-01 14:54:02.247632 : Adding Mouse_embryo_E9.5_1.fragments to PeakMatrix for Chr (6 of 20)!, 0.566 mins elapsed.\n",
      "\n",
      "2023-09-01 14:54:07.699765 : Adding Mouse_embryo_E9.5_1.fragments to PeakMatrix for Chr (7 of 20)!, 0.657 mins elapsed.\n",
      "\n",
      "2023-09-01 14:54:13.653248 : Adding Mouse_embryo_E9.5_1.fragments to PeakMatrix for Chr (8 of 20)!, 0.756 mins elapsed.\n",
      "\n",
      "2023-09-01 14:54:19.070675 : Adding Mouse_embryo_E9.5_1.fragments to PeakMatrix for Chr (9 of 20)!, 0.847 mins elapsed.\n",
      "\n",
      "2023-09-01 14:54:25.397202 : Adding Mouse_embryo_E9.5_1.fragments to PeakMatrix for Chr (10 of 20)!, 0.952 mins elapsed.\n",
      "\n",
      "2023-09-01 14:54:30.420428 : Adding Mouse_embryo_E9.5_1.fragments to PeakMatrix for Chr (11 of 20)!, 1.036 mins elapsed.\n",
      "\n",
      "2023-09-01 14:54:36.871505 : Adding Mouse_embryo_E9.5_1.fragments to PeakMatrix for Chr (12 of 20)!, 1.143 mins elapsed.\n",
      "\n",
      "2023-09-01 14:54:41.601702 : Adding Mouse_embryo_E9.5_1.fragments to PeakMatrix for Chr (13 of 20)!, 1.222 mins elapsed.\n",
      "\n",
      "2023-09-01 14:54:46.279363 : Adding Mouse_embryo_E9.5_1.fragments to PeakMatrix for Chr (14 of 20)!, 1.3 mins elapsed.\n",
      "\n",
      "2023-09-01 14:54:50.44075 : Adding Mouse_embryo_E9.5_1.fragments to PeakMatrix for Chr (15 of 20)!, 1.369 mins elapsed.\n",
      "\n",
      "2023-09-01 14:54:54.813522 : Adding Mouse_embryo_E9.5_1.fragments to PeakMatrix for Chr (16 of 20)!, 1.442 mins elapsed.\n",
      "\n",
      "2023-09-01 14:54:58.724205 : Adding Mouse_embryo_E9.5_1.fragments to PeakMatrix for Chr (17 of 20)!, 1.507 mins elapsed.\n",
      "\n",
      "2023-09-01 14:55:03.291891 : Adding Mouse_embryo_E9.5_1.fragments to PeakMatrix for Chr (18 of 20)!, 1.584 mins elapsed.\n",
      "\n",
      "2023-09-01 14:55:07.234595 : Adding Mouse_embryo_E9.5_1.fragments to PeakMatrix for Chr (19 of 20)!, 1.649 mins elapsed.\n",
      "\n",
      "2023-09-01 14:55:10.948879 : Adding Mouse_embryo_E9.5_1.fragments to PeakMatrix for Chr (20 of 20)!, 1.711 mins elapsed.\n",
      "\n",
      "ArchR logging successful to : ArchRLogs/ArchR-addPeakMatrix-3077f11eee85e3-Date-2023-09-01_Time-14-53-28.090977.log\n",
      "\n"
     ]
    }
   ],
   "source": [
    "projDLPFC2 <- addPeakMatrix(projDLPFC1)"
   ]
  },
  {
   "cell_type": "code",
   "execution_count": 21,
   "id": "28b6dbdc-50a9-460a-81c1-d14c4cf6f43e",
   "metadata": {},
   "outputs": [
    {
     "data": {
      "text/html": [
       "<style>\n",
       ".list-inline {list-style: none; margin:0; padding: 0}\n",
       ".list-inline>li {display: inline-block}\n",
       ".list-inline>li:not(:last-child)::after {content: \"\\00b7\"; padding: 0 .5ex}\n",
       "</style>\n",
       "<ol class=list-inline><li>'GeneScoreMatrix'</li><li>'PeakMatrix'</li><li>'TileMatrix'</li></ol>\n"
      ],
      "text/latex": [
       "\\begin{enumerate*}\n",
       "\\item 'GeneScoreMatrix'\n",
       "\\item 'PeakMatrix'\n",
       "\\item 'TileMatrix'\n",
       "\\end{enumerate*}\n"
      ],
      "text/markdown": [
       "1. 'GeneScoreMatrix'\n",
       "2. 'PeakMatrix'\n",
       "3. 'TileMatrix'\n",
       "\n",
       "\n"
      ],
      "text/plain": [
       "[1] \"GeneScoreMatrix\" \"PeakMatrix\"      \"TileMatrix\"     "
      ]
     },
     "metadata": {},
     "output_type": "display_data"
    }
   ],
   "source": [
    "getAvailableMatrices(projDLPFC1)"
   ]
  },
  {
   "cell_type": "code",
   "execution_count": 22,
   "id": "81af96d1-70b2-4f8d-bf4a-aff4364dddbe",
   "metadata": {},
   "outputs": [
    {
     "name": "stderr",
     "output_type": "stream",
     "text": [
      "ArchR logging to : ArchRLogs/ArchR-getMatrixFromProject-3077f16628791b-Date-2023-09-01_Time-14-55-14.081412.log\n",
      "If there is an issue, please report to github with logFile!\n",
      "\n",
      "2023-09-01 14:55:41.297876 : Organizing colData, 0.454 mins elapsed.\n",
      "\n",
      "2023-09-01 14:55:41.301327 : Organizing rowData, 0.454 mins elapsed.\n",
      "\n",
      "2023-09-01 14:55:41.305077 : Organizing rowRanges, 0.454 mins elapsed.\n",
      "\n",
      "2023-09-01 14:55:41.313153 : Organizing Assays (1 of 1), 0.454 mins elapsed.\n",
      "\n",
      "2023-09-01 14:55:41.319476 : Constructing SummarizedExperiment, 0.454 mins elapsed.\n",
      "\n",
      "2023-09-01 14:55:48.576673 : Finished Matrix Creation, 0.575 mins elapsed.\n",
      "\n"
     ]
    }
   ],
   "source": [
    "peak_matrix <- getMatrixFromProject(\n",
    "  ArchRProj = projDLPFC1,\n",
    "  useMatrix = \"PeakMatrix\",\n",
    "  useSeqnames = NULL,\n",
    "  verbose = TRUE,\n",
    "  binarize = TRUE,\n",
    "  threads = getArchRThreads(),\n",
    "  logFile = createLogFile(\"getMatrixFromProject\")\n",
    ")"
   ]
  },
  {
   "cell_type": "code",
   "execution_count": 23,
   "id": "53701ae1-b6a4-4dfa-a0c0-ef4c4f42832a",
   "metadata": {},
   "outputs": [
    {
     "data": {
      "text/plain": [
       "class: RangedSummarizedExperiment \n",
       "dim: 270168 4153 \n",
       "metadata(0):\n",
       "assays(1): PeakMatrix\n",
       "rownames: NULL\n",
       "rowData names(1): idx\n",
       "colnames(4153):\n",
       "  Mouse_embryo_E9.5_1.fragments#Mouse_embryo_E9.5_1_BC0080_N05\n",
       "  Mouse_embryo_E9.5_1.fragments#Mouse_embryo_E9.5_1_BC0033_N02 ...\n",
       "  Mouse_embryo_E9.5_1.fragments#Mouse_embryo_E9.5_1_BC4347_N01\n",
       "  Mouse_embryo_E9.5_1.fragments#Mouse_embryo_E9.5_1_BC4382_N01\n",
       "colData names(14): BlacklistRatio nDiFrags ... TSSEnrichment\n",
       "  projColData[, colnames(projColData) %ni% colnames(colData)]"
      ]
     },
     "metadata": {},
     "output_type": "display_data"
    }
   ],
   "source": [
    "peak_matrix"
   ]
  },
  {
   "cell_type": "code",
   "execution_count": null,
   "id": "f67b8dff-dceb-4ca7-bc90-fa96388018bd",
   "metadata": {},
   "outputs": [],
   "source": [
    "seqnames_info <- seqnames(peakSet)\n",
    "ranges_info <- ranges(peakSet)\n",
    "seqnames_ranges <- paste(seqnames_info, ranges_info, sep = \"-\")\n",
    "rownames(peak_matrix) <- seqnames_ranges"
   ]
  },
  {
   "cell_type": "code",
   "execution_count": null,
   "id": "ce010672-2945-4099-907d-c91d7c37b694",
   "metadata": {},
   "outputs": [],
   "source": [
    "head(rownames(peak_matrix))"
   ]
  },
  {
   "cell_type": "code",
   "execution_count": null,
   "id": "ee8eee00-1594-4093-b020-0696ba96e476",
   "metadata": {
    "tags": []
   },
   "outputs": [],
   "source": [
    "colnames(peak_matrix) <- gsub(\".*#\", \"\", colnames(peak_matrix))"
   ]
  },
  {
   "cell_type": "code",
   "execution_count": null,
   "id": "8aeb244f-b225-428c-9ecd-eabdd7600e4c",
   "metadata": {
    "collapsed": true,
    "jupyter": {
     "outputs_hidden": true
    },
    "tags": []
   },
   "outputs": [],
   "source": []
  },
  {
   "cell_type": "code",
   "execution_count": null,
   "id": "3664329d-0f80-47cc-922e-e9439445917c",
   "metadata": {},
   "outputs": [],
   "source": [
    "# 获取数据矩阵\n",
    "data_matrix <- assay(peak_matrix)\n",
    "# 将数据矩阵转换为稀疏矩阵\n",
    "sparse_matrix <- as(data_matrix, \"sparseMatrix\")"
   ]
  },
  {
   "cell_type": "code",
   "execution_count": null,
   "id": "90e8b35e-40f2-45dc-a127-2992bd14c090",
   "metadata": {},
   "outputs": [],
   "source": [
    "# 将稀疏矩阵的非零值设为1\n",
    "# binary_matrix <- as(sparse_matrix, \"CsparseMatrix\")  # 将稀疏矩阵转换为CsparseMatrix\n",
    "# binary_matrix@x[binary_matrix@x != 0] <- 1  # 将非零值设为1"
   ]
  },
  {
   "cell_type": "code",
   "execution_count": null,
   "id": "b596897d-90e2-47b1-a865-1100acf979e9",
   "metadata": {},
   "outputs": [],
   "source": [
    "library(Seurat)\n",
    "seurat_obj <- CreateSeuratObject(counts = sparse_matrix)\n",
    "obs_names <- colnames(seurat_obj)"
   ]
  },
  {
   "cell_type": "code",
   "execution_count": null,
   "id": "6c87fae2-9e1f-4a65-b58a-fcfb8dbda1bb",
   "metadata": {},
   "outputs": [],
   "source": [
    "var_names <- rownames(seurat_obj)"
   ]
  },
  {
   "cell_type": "code",
   "execution_count": null,
   "id": "640c2c95-e02e-44d1-9c2e-7bc92f02c0e1",
   "metadata": {
    "tags": []
   },
   "outputs": [],
   "source": [
    "rna_assay <- seurat_obj[[\"RNA\"]]\n",
    "\n",
    "# 查看 \"RNA\" assay 的值（前100个行和列）\n",
    "# print(rna_assay[1:100, 1:100])"
   ]
  },
  {
   "cell_type": "code",
   "execution_count": null,
   "id": "d3576ff0-bc1f-467a-b139-1914867e111d",
   "metadata": {},
   "outputs": [],
   "source": [
    "#根据元数据对碱基序列进行细胞类型注释\n",
    "meta <- read.delim(\"/mnt/disk1/xiaojk/data/mouse/mouse.embryo.E8.5.E9.5-E10.5.metadata.upload.txt\", header = TRUE)\n",
    "obs_cell_types <- meta$celltype[match(obs_names, meta$cell.id)]\n",
    "cell_type_counts <- table(obs_cell_types)\n",
    "sum(cell_type_counts)\n",
    "seurat_obj$cell_type <- obs_cell_types"
   ]
  },
  {
   "cell_type": "code",
   "execution_count": null,
   "id": "6b4505b0-4b81-44ed-a543-947940d45999",
   "metadata": {
    "tags": []
   },
   "outputs": [],
   "source": [
    "# 获取匹配到的观测对象索引\n",
    "filtered_indices <- !is.na(obs_cell_types)\n",
    "# 使用 filtered_indices 子集化 Seurat 对象\n",
    "seurat_obj_filtered <- seurat_obj[,filtered_indices]\n",
    "seurat_obj_filtered$cell_type <- obs_cell_types[filtered_indices]\n",
    "seurat_obj_filtered"
   ]
  },
  {
   "cell_type": "code",
   "execution_count": null,
   "id": "731f3a6e-852e-4559-a083-89507e54a585",
   "metadata": {},
   "outputs": [],
   "source": [
    "#删除不必要的特征\n",
    "seurat_obj_filtered$orig.ident <- NULL\n",
    "seurat_obj_filtered$nCount_RNA <- NULL\n",
    "seurat_obj_filtered$nFeature_RNA <- NULL"
   ]
  },
  {
   "cell_type": "code",
   "execution_count": null,
   "id": "2c6c04f2-e00c-4254-a371-64074b3d33ae",
   "metadata": {},
   "outputs": [],
   "source": [
    "library(SeuratDisk)\n",
    "\n",
    "SaveH5Seurat(seurat_obj_filtered, filename = \"/mnt/disk1/xiaojk/data/mouse/Mouse_embryo_E9.5_v2.h5Seurat\")\n",
    "Convert(\"//mnt/disk1/xiaojk/data/mouse/Mouse_embryo_E9.5_v2.h5Seurat\",dest = \"h5ad\")"
   ]
  },
  {
   "cell_type": "code",
   "execution_count": null,
   "id": "7ab2c02e-4a07-4964-a78b-82a733581fb4",
   "metadata": {},
   "outputs": [],
   "source": []
  }
 ],
 "metadata": {
  "kernelspec": {
   "display_name": "R",
   "language": "R",
   "name": "ir"
  },
  "language_info": {
   "codemirror_mode": "r",
   "file_extension": ".r",
   "mimetype": "text/x-r-source",
   "name": "R",
   "pygments_lexer": "r",
   "version": "4.3.1"
  }
 },
 "nbformat": 4,
 "nbformat_minor": 5
}
