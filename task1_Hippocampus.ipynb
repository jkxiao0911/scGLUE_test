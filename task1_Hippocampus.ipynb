{
 "cells": [
  {
   "cell_type": "code",
   "execution_count": 1,
   "id": "f89cc36b-a054-4cba-8b02-8ce632b69d9f",
   "metadata": {
    "tags": []
   },
   "outputs": [],
   "source": [
    "import anndata as ad\n",
    "import networkx as nx\n",
    "import scanpy as sc\n",
    "import scglue\n",
    "from matplotlib import rcParams"
   ]
  },
  {
   "cell_type": "code",
   "execution_count": 2,
   "id": "c339cd6e-274c-4e75-bf32-c7838300e118",
   "metadata": {
    "tags": []
   },
   "outputs": [],
   "source": [
    "scglue.plot.set_publication_params()\n",
    "rcParams[\"figure.figsize\"] = (4, 4)"
   ]
  },
  {
   "cell_type": "code",
   "execution_count": 1,
   "id": "b8aee851-9765-4d8d-a399-d66f9ed1386c",
   "metadata": {
    "tags": []
   },
   "outputs": [
    {
     "ename": "NameError",
     "evalue": "name 'ad' is not defined",
     "output_type": "error",
     "traceback": [
      "\u001b[0;31m---------------------------------------------------------------------------\u001b[0m",
      "\u001b[0;31mNameError\u001b[0m                                 Traceback (most recent call last)",
      "Cell \u001b[0;32mIn[1], line 1\u001b[0m\n\u001b[0;32m----> 1\u001b[0m slide_seq \u001b[38;5;241m=\u001b[39m \u001b[43mad\u001b[49m\u001b[38;5;241m.\u001b[39mread_csv(\u001b[38;5;124m\"\u001b[39m\u001b[38;5;124m/mnt/disk1/jkxiao/data/hippocampus/slide-seqV2/Hippocampus_MappedDGEForR.csv\u001b[39m\u001b[38;5;124m\"\u001b[39m)\n\u001b[1;32m      2\u001b[0m slide_seq\n",
      "\u001b[0;31mNameError\u001b[0m: name 'ad' is not defined"
     ]
    }
   ],
   "source": [
    "slide_seq = ad.read_csv(\"/mnt/disk1/jkxiao/data/hippocampus/slide-seqV2/Hippocampus_MappedDGEForR.csv\")\n",
    "slide_seq"
   ]
  },
  {
   "cell_type": "code",
   "execution_count": 4,
   "id": "506e310b-8b22-4ecb-83e0-211b5f5978e8",
   "metadata": {
    "tags": []
   },
   "outputs": [
    {
     "name": "stdout",
     "output_type": "stream",
     "text": [
      "Dataset: count\n",
      "[1 1 1 ... 1 1 1]\n",
      "Dataset: idx\n",
      "[    1     1     1 ... 11651 11651 11651]\n",
      "Dataset: idy\n",
      "[344067  24580 647173 ... 170216 344062 384341]\n",
      "Dataset: peakChrom\n",
      "[b'chr1' b'chr1' b'chr1' ... b'chrY' b'chrY' b'chrY']\n",
      "Dataset: peakEnd\n",
      "[ 3007841  3012997  3027708 ... 90840656 90842450 90843198]\n",
      "Dataset: peakStart\n",
      "[ 3007135  3012458  3027138 ... 90840001 90841485 90842644]\n"
     ]
    }
   ],
   "source": [
    "import h5py\n",
    "\n",
    "def print_group_data(group):\n",
    "    for name, item in group.items():\n",
    "        if isinstance(item, h5py.Group):\n",
    "            print_group_data(item)  # 递归遍历子组\n",
    "        elif isinstance(item, h5py.Dataset):\n",
    "            print(f\"Dataset: {name}\")\n",
    "            data = item[:]  # 获取数据集的值\n",
    "            print(data)\n",
    "\n",
    "# 打开 HDF5 文件\n",
    "hdf5_filename = '/mnt/disk1/jkxiao/data/hippocampus/snATAC/CEMBA190711_8E.h5'\n",
    "group_path = '/PM'  # 指定您要读取的组的路径\n",
    "\n",
    "with h5py.File(hdf5_filename, 'r') as f:\n",
    "    pm_group = f[group_path]  # 获取指定路径下的组\n",
    "    \n",
    "    # 调用函数来逐级遍历数据\n",
    "    print_group_data(pm_group)\n"
   ]
  },
  {
   "cell_type": "code",
   "execution_count": 5,
   "id": "e4a6402f-fb7b-4c1f-8e35-e5605247efc9",
   "metadata": {
    "tags": []
   },
   "outputs": [
    {
     "name": "stdout",
     "output_type": "stream",
     "text": [
      "Group: BD\n",
      "  Dataset: CM(11651,)\n",
      "[0 0 0 ... 0 0 0]\n",
      "  Dataset: PE(11651,)\n",
      "[ 2653  2392 14471 ...  1736  1129  1302]\n",
      "  Dataset: PL(11651,)\n",
      "[ 2649  2389 14449 ...  1733  1124  1300]\n",
      "  Dataset: PP(11651,)\n",
      "[ 2649  2389 14449 ...  1733  1124  1300]\n",
      "  Dataset: SA(11651,)\n",
      "[0 0 0 ... 0 0 0]\n",
      "  Dataset: SE(11651,)\n",
      "[0 0 0 ... 0 0 0]\n",
      "  Dataset: TN(11651,)\n",
      "[ 2860  2587 15649 ...  1857  1226  1427]\n",
      "  Dataset: UM(11651,)\n",
      "[ 2653  2392 14471 ...  1736  1129  1302]\n",
      "  Dataset: UQ(11651,)\n",
      "[ 2017  1821 11258 ...  1308   836   988]\n",
      "  Dataset: US(11651,)\n",
      "[ 2649  2389 14449 ...  1733  1124  1300]\n",
      "  Dataset: name(11651,)\n",
      "[b'AAACTACCAGAAACCTAAGTGG' b'AAACTACCAGAAACTAGCCCTA'\n",
      " b'AAACTACCAGAAATGCTACGGG' ... b'TTCCATCCTCTTCTCATGGTCA'\n",
      " b'TTCCATCCTCTTCTGCTGGAGA' b'TTCCATCCTCTTGAGTGCTGTG']\n",
      "Group: FM\n",
      "  Dataset: barcodeLen(11651,)\n",
      "[ 2017  1821 11258 ...  1308   836   988]\n",
      "  Dataset: barcodePos(11651,)\n",
      "[       1     2018     3839 ... 27394411 27395719 27396555]\n",
      "  Dataset: fragChrom(27397542,)\n",
      "[b'chr12' b'chr11' b'chr7' ... b'chr2' b'chr12' b'chr15']\n",
      "  Dataset: fragLen(27397542,)\n",
      "[ 44  61  53 ... 470 131  47]\n",
      "  Dataset: fragStart(27397542,)\n",
      "[ 31950241  98749395 130168581 ... 179293954 104912613  97705809]\n",
      "Group: GM\n",
      "  Dataset: count(19079631,)\n",
      "[1 1 1 ... 1 1 1]\n",
      "  Dataset: idx(19079631,)\n",
      "[    1     1     1 ... 11651 11651 11651]\n",
      "  Dataset: idy(19079631,)\n",
      "[    2  8199 35500 ... 18420 10580 43645]\n",
      "  Dataset: name(53278,)\n",
      "[b'Plekhg2' b'Plekhg3' b'Plekhg1' ... b'Gm45572' b'Gm45796' b'Gm45797']\n",
      "Unknown object: HD\n",
      "Group: PM\n",
      "  Dataset: count(18903125,)\n",
      "[1 1 1 ... 1 1 1]\n",
      "  Dataset: idx(18903125,)\n",
      "[    1     1     1 ... 11651 11651 11651]\n",
      "  Dataset: idy(18903125,)\n",
      "[344067  24580 647173 ... 170216 344062 384341]\n",
      "  Dataset: peakChrom(672342,)\n",
      "[b'chr1' b'chr1' b'chr1' ... b'chrY' b'chrY' b'chrY']\n",
      "  Dataset: peakEnd(672342,)\n",
      "[ 3007841  3012997  3027708 ... 90840656 90842450 90843198]\n",
      "  Dataset: peakStart(672342,)\n",
      "[ 3007135  3012458  3027138 ... 90840001 90841485 90842644]\n"
     ]
    }
   ],
   "source": [
    "import h5py\n",
    "\n",
    "def print_group_contents(group, indent=0):\n",
    "    for name, item in group.items():\n",
    "        if isinstance(item, h5py.Group)and name != 'HD':\n",
    "            print(\"  \" * indent + f\"Group: {name}\")\n",
    "            print_group_contents(item, indent + 1)  # 递归遍历子组\n",
    "        elif isinstance(item, h5py.Dataset):\n",
    "            print(\"  \" * indent + f\"Dataset: {name}{item.shape}\")\n",
    "            data = item[:]  # 获取数据集的值\n",
    "            print(data)  # 打印数据\n",
    "            for attr_name, attr_value in item.attrs.items():\n",
    "                print(\"  \" * (indent + 1) + f\"Attribute: {attr_name} = {attr_value}\")\n",
    "        else:\n",
    "            print(\"  \" * indent + f\"Unknown object: {name}\")\n",
    "\n",
    "# 打开 HDF5 文件\n",
    "hdf5_filename = '/mnt/disk1/jkxiao/data/hippocampus/snATAC/CEMBA190711_8E.h5'\n",
    "\n",
    "with h5py.File(hdf5_filename, 'r') as f:\n",
    "    print_group_contents(f)\n"
   ]
  },
  {
   "cell_type": "code",
   "execution_count": 6,
   "id": "df66d02e-71dc-4084-8252-913ecf0a4e3e",
   "metadata": {
    "tags": []
   },
   "outputs": [
    {
     "ename": "ModuleNotFoundError",
     "evalue": "No module named 'cemba_data.atac'",
     "output_type": "error",
     "traceback": [
      "\u001b[0;31m---------------------------------------------------------------------------\u001b[0m",
      "\u001b[0;31mModuleNotFoundError\u001b[0m                       Traceback (most recent call last)",
      "Cell \u001b[0;32mIn[6], line 1\u001b[0m\n\u001b[0;32m----> 1\u001b[0m \u001b[38;5;28;01mfrom\u001b[39;00m \u001b[38;5;21;01mcemba_data\u001b[39;00m\u001b[38;5;21;01m.\u001b[39;00m\u001b[38;5;21;01matac\u001b[39;00m\u001b[38;5;21;01m.\u001b[39;00m\u001b[38;5;21;01mdump_fragment_bed\u001b[39;00m \u001b[38;5;28;01mimport\u001b[39;00m read_snap_gene\n\u001b[1;32m      2\u001b[0m atac_seq \u001b[38;5;241m=\u001b[39m ad\u001b[38;5;241m.\u001b[39mread_csv(\u001b[38;5;124m\"\u001b[39m\u001b[38;5;124mSnapPath.csv\u001b[39m\u001b[38;5;124m\"\u001b[39m)\n\u001b[1;32m      3\u001b[0m atac_seq\n",
      "\u001b[0;31mModuleNotFoundError\u001b[0m: No module named 'cemba_data.atac'"
     ]
    }
   ],
   "source": [
    "from cemba_data.atac.dump_fragment_bed import read_snap_gene\n",
    "atac_seq = ad.read_csv(\"SnapPath.csv\")\n",
    "atac_seq"
   ]
  },
  {
   "cell_type": "code",
   "execution_count": null,
   "id": "e7501463-2b9e-48af-ba05-53cb8ef683f2",
   "metadata": {},
   "outputs": [],
   "source": [
    "import snapatac2\n",
    "hdf5_filename = '/mnt/disk1/jkxiao/data/hippocampus/snATAC/CEMBA190711_8J.snap'\n",
    "atac_seq = snapatac2.read(hdf5_filename)\n",
    "atac_seq"
   ]
  },
  {
   "cell_type": "code",
   "execution_count": null,
   "id": "4f1180dc-0d9f-4e58-90f2-b3a0564fadbf",
   "metadata": {},
   "outputs": [],
   "source": []
  },
  {
   "cell_type": "code",
   "execution_count": null,
   "id": "424c3f0c-2326-4962-b09b-1a4e206faa45",
   "metadata": {},
   "outputs": [],
   "source": []
  }
 ],
 "metadata": {
  "kernelspec": {
   "display_name": "scGLUE1",
   "language": "python",
   "name": "scglue1"
  },
  "language_info": {
   "codemirror_mode": {
    "name": "ipython",
    "version": 3
   },
   "file_extension": ".py",
   "mimetype": "text/x-python",
   "name": "python",
   "nbconvert_exporter": "python",
   "pygments_lexer": "ipython3",
   "version": "3.10.12"
  }
 },
 "nbformat": 4,
 "nbformat_minor": 5
}
